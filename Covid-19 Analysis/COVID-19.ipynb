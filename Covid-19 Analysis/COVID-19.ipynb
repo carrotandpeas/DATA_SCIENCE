{
 "cells": [
  {
   "cell_type": "markdown",
   "metadata": {},
   "source": [
    "check out the plotly dashboard for the visualizations           \n",
    "           https://plotly.com/~pritam29/0/import-numpy-as-np-import-pandas-as-pd-i/"
   ]
  },
  {
   "cell_type": "code",
   "execution_count": 1,
   "metadata": {},
   "outputs": [],
   "source": [
    "import numpy as np\n",
    "import pandas as pd\n",
    "import matplotlib.pyplot as plt\n",
    "from matplotlib import rcParams\n",
    "from matplotlib.cm import rainbow\n",
    "%matplotlib inline\n",
    "import warnings\n",
    "warnings.filterwarnings('ignore')\n",
    "import seaborn as sns\n",
    "import matplotlib.dates as mdates"
   ]
  },
  {
   "cell_type": "code",
   "execution_count": 2,
   "metadata": {},
   "outputs": [],
   "source": [
    "import pandas as pd"
   ]
  },
  {
   "cell_type": "code",
   "execution_count": 3,
   "metadata": {},
   "outputs": [],
   "source": [
    "df=pd.read_csv(r\"C:\\Users\\PRITAM\\Downloads\\covid_19_india.csv\")\n",
    "df_1=pd.read_csv(r\"C:\\Users\\PRITAM\\Downloads\\StatewiseTestingDetails.csv\")\n",
    "\n",
    "df_2=pd.read_csv(r\"C:\\Users\\PRITAM\\Downloads\\HospitalBedsIndia.csv\")"
   ]
  },
  {
   "cell_type": "code",
   "execution_count": 4,
   "metadata": {},
   "outputs": [
    {
     "data": {
      "text/html": [
       "<div>\n",
       "<style scoped>\n",
       "    .dataframe tbody tr th:only-of-type {\n",
       "        vertical-align: middle;\n",
       "    }\n",
       "\n",
       "    .dataframe tbody tr th {\n",
       "        vertical-align: top;\n",
       "    }\n",
       "\n",
       "    .dataframe thead th {\n",
       "        text-align: right;\n",
       "    }\n",
       "</style>\n",
       "<table border=\"1\" class=\"dataframe\">\n",
       "  <thead>\n",
       "    <tr style=\"text-align: right;\">\n",
       "      <th></th>\n",
       "      <th>Sno</th>\n",
       "      <th>Date</th>\n",
       "      <th>Time</th>\n",
       "      <th>State/UnionTerritory</th>\n",
       "      <th>ConfirmedIndianNational</th>\n",
       "      <th>ConfirmedForeignNational</th>\n",
       "      <th>Cured</th>\n",
       "      <th>Deaths</th>\n",
       "      <th>Confirmed</th>\n",
       "    </tr>\n",
       "  </thead>\n",
       "  <tbody>\n",
       "    <tr>\n",
       "      <th>0</th>\n",
       "      <td>1</td>\n",
       "      <td>30/01/20</td>\n",
       "      <td>6:00 PM</td>\n",
       "      <td>Kerala</td>\n",
       "      <td>1</td>\n",
       "      <td>0</td>\n",
       "      <td>0</td>\n",
       "      <td>0</td>\n",
       "      <td>1</td>\n",
       "    </tr>\n",
       "    <tr>\n",
       "      <th>1</th>\n",
       "      <td>2</td>\n",
       "      <td>31/01/20</td>\n",
       "      <td>6:00 PM</td>\n",
       "      <td>Kerala</td>\n",
       "      <td>1</td>\n",
       "      <td>0</td>\n",
       "      <td>0</td>\n",
       "      <td>0</td>\n",
       "      <td>1</td>\n",
       "    </tr>\n",
       "    <tr>\n",
       "      <th>2</th>\n",
       "      <td>3</td>\n",
       "      <td>01/02/20</td>\n",
       "      <td>6:00 PM</td>\n",
       "      <td>Kerala</td>\n",
       "      <td>2</td>\n",
       "      <td>0</td>\n",
       "      <td>0</td>\n",
       "      <td>0</td>\n",
       "      <td>2</td>\n",
       "    </tr>\n",
       "    <tr>\n",
       "      <th>3</th>\n",
       "      <td>4</td>\n",
       "      <td>02/02/20</td>\n",
       "      <td>6:00 PM</td>\n",
       "      <td>Kerala</td>\n",
       "      <td>3</td>\n",
       "      <td>0</td>\n",
       "      <td>0</td>\n",
       "      <td>0</td>\n",
       "      <td>3</td>\n",
       "    </tr>\n",
       "    <tr>\n",
       "      <th>4</th>\n",
       "      <td>5</td>\n",
       "      <td>03/02/20</td>\n",
       "      <td>6:00 PM</td>\n",
       "      <td>Kerala</td>\n",
       "      <td>3</td>\n",
       "      <td>0</td>\n",
       "      <td>0</td>\n",
       "      <td>0</td>\n",
       "      <td>3</td>\n",
       "    </tr>\n",
       "  </tbody>\n",
       "</table>\n",
       "</div>"
      ],
      "text/plain": [
       "   Sno      Date     Time State/UnionTerritory ConfirmedIndianNational  \\\n",
       "0    1  30/01/20  6:00 PM               Kerala                       1   \n",
       "1    2  31/01/20  6:00 PM               Kerala                       1   \n",
       "2    3  01/02/20  6:00 PM               Kerala                       2   \n",
       "3    4  02/02/20  6:00 PM               Kerala                       3   \n",
       "4    5  03/02/20  6:00 PM               Kerala                       3   \n",
       "\n",
       "  ConfirmedForeignNational  Cured  Deaths  Confirmed  \n",
       "0                        0      0       0          1  \n",
       "1                        0      0       0          1  \n",
       "2                        0      0       0          2  \n",
       "3                        0      0       0          3  \n",
       "4                        0      0       0          3  "
      ]
     },
     "execution_count": 4,
     "metadata": {},
     "output_type": "execute_result"
    }
   ],
   "source": [
    "df.head()"
   ]
  },
  {
   "cell_type": "code",
   "execution_count": 5,
   "metadata": {},
   "outputs": [
    {
     "data": {
      "text/html": [
       "<div>\n",
       "<style scoped>\n",
       "    .dataframe tbody tr th:only-of-type {\n",
       "        vertical-align: middle;\n",
       "    }\n",
       "\n",
       "    .dataframe tbody tr th {\n",
       "        vertical-align: top;\n",
       "    }\n",
       "\n",
       "    .dataframe thead th {\n",
       "        text-align: right;\n",
       "    }\n",
       "</style>\n",
       "<table border=\"1\" class=\"dataframe\">\n",
       "  <thead>\n",
       "    <tr style=\"text-align: right;\">\n",
       "      <th></th>\n",
       "      <th>Sno</th>\n",
       "      <th>Date</th>\n",
       "      <th>Time</th>\n",
       "      <th>State/UnionTerritory</th>\n",
       "      <th>ConfirmedIndianNational</th>\n",
       "      <th>ConfirmedForeignNational</th>\n",
       "      <th>Cured</th>\n",
       "      <th>Deaths</th>\n",
       "      <th>Confirmed</th>\n",
       "    </tr>\n",
       "  </thead>\n",
       "  <tbody>\n",
       "    <tr>\n",
       "      <th>1505</th>\n",
       "      <td>1506</td>\n",
       "      <td>01/05/20</td>\n",
       "      <td>5:00 PM</td>\n",
       "      <td>Telengana</td>\n",
       "      <td>-</td>\n",
       "      <td>-</td>\n",
       "      <td>441</td>\n",
       "      <td>26</td>\n",
       "      <td>1039</td>\n",
       "    </tr>\n",
       "    <tr>\n",
       "      <th>1506</th>\n",
       "      <td>1507</td>\n",
       "      <td>01/05/20</td>\n",
       "      <td>5:00 PM</td>\n",
       "      <td>Tripura</td>\n",
       "      <td>-</td>\n",
       "      <td>-</td>\n",
       "      <td>2</td>\n",
       "      <td>0</td>\n",
       "      <td>2</td>\n",
       "    </tr>\n",
       "    <tr>\n",
       "      <th>1507</th>\n",
       "      <td>1508</td>\n",
       "      <td>01/05/20</td>\n",
       "      <td>5:00 PM</td>\n",
       "      <td>Uttarakhand</td>\n",
       "      <td>-</td>\n",
       "      <td>-</td>\n",
       "      <td>36</td>\n",
       "      <td>0</td>\n",
       "      <td>57</td>\n",
       "    </tr>\n",
       "    <tr>\n",
       "      <th>1508</th>\n",
       "      <td>1509</td>\n",
       "      <td>01/05/20</td>\n",
       "      <td>5:00 PM</td>\n",
       "      <td>Uttar Pradesh</td>\n",
       "      <td>-</td>\n",
       "      <td>-</td>\n",
       "      <td>555</td>\n",
       "      <td>41</td>\n",
       "      <td>2281</td>\n",
       "    </tr>\n",
       "    <tr>\n",
       "      <th>1509</th>\n",
       "      <td>1510</td>\n",
       "      <td>01/05/20</td>\n",
       "      <td>5:00 PM</td>\n",
       "      <td>West Bengal</td>\n",
       "      <td>-</td>\n",
       "      <td>-</td>\n",
       "      <td>139</td>\n",
       "      <td>33</td>\n",
       "      <td>795</td>\n",
       "    </tr>\n",
       "  </tbody>\n",
       "</table>\n",
       "</div>"
      ],
      "text/plain": [
       "       Sno      Date     Time State/UnionTerritory ConfirmedIndianNational  \\\n",
       "1505  1506  01/05/20  5:00 PM            Telengana                       -   \n",
       "1506  1507  01/05/20  5:00 PM              Tripura                       -   \n",
       "1507  1508  01/05/20  5:00 PM          Uttarakhand                       -   \n",
       "1508  1509  01/05/20  5:00 PM        Uttar Pradesh                       -   \n",
       "1509  1510  01/05/20  5:00 PM          West Bengal                       -   \n",
       "\n",
       "     ConfirmedForeignNational  Cured  Deaths  Confirmed  \n",
       "1505                        -    441      26       1039  \n",
       "1506                        -      2       0          2  \n",
       "1507                        -     36       0         57  \n",
       "1508                        -    555      41       2281  \n",
       "1509                        -    139      33        795  "
      ]
     },
     "execution_count": 5,
     "metadata": {},
     "output_type": "execute_result"
    }
   ],
   "source": [
    "df.tail()"
   ]
  },
  {
   "cell_type": "code",
   "execution_count": 34,
   "metadata": {},
   "outputs": [
    {
     "data": {
      "text/html": [
       "<div>\n",
       "<style scoped>\n",
       "    .dataframe tbody tr th:only-of-type {\n",
       "        vertical-align: middle;\n",
       "    }\n",
       "\n",
       "    .dataframe tbody tr th {\n",
       "        vertical-align: top;\n",
       "    }\n",
       "\n",
       "    .dataframe thead th {\n",
       "        text-align: right;\n",
       "    }\n",
       "</style>\n",
       "<table border=\"1\" class=\"dataframe\">\n",
       "  <thead>\n",
       "    <tr style=\"text-align: right;\">\n",
       "      <th></th>\n",
       "      <th>Sno</th>\n",
       "      <th>Date</th>\n",
       "      <th>Time</th>\n",
       "      <th>State/UnionTerritory</th>\n",
       "      <th>ConfirmedIndianNational</th>\n",
       "      <th>ConfirmedForeignNational</th>\n",
       "      <th>Cured</th>\n",
       "      <th>Deaths</th>\n",
       "      <th>Confirmed</th>\n",
       "      <th>Total cases</th>\n",
       "      <th>Total Active</th>\n",
       "    </tr>\n",
       "  </thead>\n",
       "  <tbody>\n",
       "    <tr>\n",
       "      <th>1365</th>\n",
       "      <td>1366</td>\n",
       "      <td>27/04/20</td>\n",
       "      <td>5:00 PM</td>\n",
       "      <td>Kerala</td>\n",
       "      <td>0</td>\n",
       "      <td>0</td>\n",
       "      <td>342</td>\n",
       "      <td>4</td>\n",
       "      <td>469</td>\n",
       "      <td>469</td>\n",
       "      <td>123</td>\n",
       "    </tr>\n",
       "    <tr>\n",
       "      <th>1397</th>\n",
       "      <td>1398</td>\n",
       "      <td>28/04/20</td>\n",
       "      <td>5:00 PM</td>\n",
       "      <td>Kerala</td>\n",
       "      <td>0</td>\n",
       "      <td>0</td>\n",
       "      <td>355</td>\n",
       "      <td>4</td>\n",
       "      <td>482</td>\n",
       "      <td>482</td>\n",
       "      <td>123</td>\n",
       "    </tr>\n",
       "    <tr>\n",
       "      <th>1429</th>\n",
       "      <td>1430</td>\n",
       "      <td>29/04/20</td>\n",
       "      <td>5:00 PM</td>\n",
       "      <td>Kerala</td>\n",
       "      <td>0</td>\n",
       "      <td>0</td>\n",
       "      <td>359</td>\n",
       "      <td>4</td>\n",
       "      <td>486</td>\n",
       "      <td>486</td>\n",
       "      <td>123</td>\n",
       "    </tr>\n",
       "    <tr>\n",
       "      <th>1461</th>\n",
       "      <td>1462</td>\n",
       "      <td>30/04/20</td>\n",
       "      <td>5:00 PM</td>\n",
       "      <td>Kerala</td>\n",
       "      <td>0</td>\n",
       "      <td>0</td>\n",
       "      <td>369</td>\n",
       "      <td>4</td>\n",
       "      <td>496</td>\n",
       "      <td>496</td>\n",
       "      <td>123</td>\n",
       "    </tr>\n",
       "    <tr>\n",
       "      <th>1493</th>\n",
       "      <td>1494</td>\n",
       "      <td>01/05/20</td>\n",
       "      <td>5:00 PM</td>\n",
       "      <td>Kerala</td>\n",
       "      <td>0</td>\n",
       "      <td>0</td>\n",
       "      <td>383</td>\n",
       "      <td>4</td>\n",
       "      <td>497</td>\n",
       "      <td>497</td>\n",
       "      <td>110</td>\n",
       "    </tr>\n",
       "  </tbody>\n",
       "</table>\n",
       "</div>"
      ],
      "text/plain": [
       "       Sno      Date     Time State/UnionTerritory  ConfirmedIndianNational  \\\n",
       "1365  1366  27/04/20  5:00 PM               Kerala                        0   \n",
       "1397  1398  28/04/20  5:00 PM               Kerala                        0   \n",
       "1429  1430  29/04/20  5:00 PM               Kerala                        0   \n",
       "1461  1462  30/04/20  5:00 PM               Kerala                        0   \n",
       "1493  1494  01/05/20  5:00 PM               Kerala                        0   \n",
       "\n",
       "      ConfirmedForeignNational  Cured  Deaths  Confirmed  Total cases  \\\n",
       "1365                         0    342       4        469          469   \n",
       "1397                         0    355       4        482          482   \n",
       "1429                         0    359       4        486          486   \n",
       "1461                         0    369       4        496          496   \n",
       "1493                         0    383       4        497          497   \n",
       "\n",
       "      Total Active  \n",
       "1365           123  \n",
       "1397           123  \n",
       "1429           123  \n",
       "1461           123  \n",
       "1493           110  "
      ]
     },
     "execution_count": 34,
     "metadata": {},
     "output_type": "execute_result"
    }
   ],
   "source": [
    "kerala=df[df['State/UnionTerritory']=='Kerala']\n",
    "kerala.head()\n",
    "kerala.tail()"
   ]
  },
  {
   "cell_type": "code",
   "execution_count": 35,
   "metadata": {},
   "outputs": [],
   "source": [
    "wb=df[df['State/UnionTerritory']=='West Bengal']"
   ]
  },
  {
   "cell_type": "code",
   "execution_count": 36,
   "metadata": {},
   "outputs": [],
   "source": [
    "mh=df[df['State/UnionTerritory']=='Maharashtra']"
   ]
  },
  {
   "cell_type": "code",
   "execution_count": 37,
   "metadata": {},
   "outputs": [],
   "source": [
    "DL=df[df['State/UnionTerritory']=='Delhi']"
   ]
  },
  {
   "cell_type": "code",
   "execution_count": 10,
   "metadata": {},
   "outputs": [],
   "source": [
    "df=df.dropna(how='any')"
   ]
  },
  {
   "cell_type": "code",
   "execution_count": 11,
   "metadata": {},
   "outputs": [
    {
     "data": {
      "text/plain": [
       "Sno                         0\n",
       "Date                        0\n",
       "Time                        0\n",
       "State/UnionTerritory        0\n",
       "ConfirmedIndianNational     0\n",
       "ConfirmedForeignNational    0\n",
       "Cured                       0\n",
       "Deaths                      0\n",
       "Confirmed                   0\n",
       "dtype: int64"
      ]
     },
     "execution_count": 11,
     "metadata": {},
     "output_type": "execute_result"
    }
   ],
   "source": [
    "df.isnull().sum()"
   ]
  },
  {
   "cell_type": "code",
   "execution_count": 12,
   "metadata": {},
   "outputs": [
    {
     "data": {
      "text/plain": [
       "Sno                          int64\n",
       "Date                        object\n",
       "Time                        object\n",
       "State/UnionTerritory        object\n",
       "ConfirmedIndianNational     object\n",
       "ConfirmedForeignNational    object\n",
       "Cured                        int64\n",
       "Deaths                       int64\n",
       "Confirmed                    int64\n",
       "dtype: object"
      ]
     },
     "execution_count": 12,
     "metadata": {},
     "output_type": "execute_result"
    }
   ],
   "source": [
    "df.dtypes"
   ]
  },
  {
   "cell_type": "code",
   "execution_count": 13,
   "metadata": {},
   "outputs": [],
   "source": [
    "df['ConfirmedIndianNational'] = df['ConfirmedIndianNational'].replace(regex='-', value=0)\n",
    "df['ConfirmedForeignNational'] = df['ConfirmedForeignNational'].replace(regex='-', value=0)"
   ]
  },
  {
   "cell_type": "code",
   "execution_count": 14,
   "metadata": {},
   "outputs": [],
   "source": [
    "df['Cured'] = df['Cured'].apply(int)\n",
    "df['Confirmed'] = df['Confirmed'].apply(int)\n",
    "\n",
    "df['ConfirmedIndianNational'] = df['ConfirmedIndianNational'].astype(int)\n",
    "df['ConfirmedForeignNational'] = df['ConfirmedForeignNational'].astype(int)\n",
    "\n"
   ]
  },
  {
   "cell_type": "code",
   "execution_count": 15,
   "metadata": {},
   "outputs": [
    {
     "data": {
      "text/html": [
       "<div>\n",
       "<style scoped>\n",
       "    .dataframe tbody tr th:only-of-type {\n",
       "        vertical-align: middle;\n",
       "    }\n",
       "\n",
       "    .dataframe tbody tr th {\n",
       "        vertical-align: top;\n",
       "    }\n",
       "\n",
       "    .dataframe thead th {\n",
       "        text-align: right;\n",
       "    }\n",
       "</style>\n",
       "<table border=\"1\" class=\"dataframe\">\n",
       "  <thead>\n",
       "    <tr style=\"text-align: right;\">\n",
       "      <th></th>\n",
       "      <th>Sno</th>\n",
       "      <th>Date</th>\n",
       "      <th>Time</th>\n",
       "      <th>State/UnionTerritory</th>\n",
       "      <th>ConfirmedIndianNational</th>\n",
       "      <th>ConfirmedForeignNational</th>\n",
       "      <th>Cured</th>\n",
       "      <th>Deaths</th>\n",
       "      <th>Confirmed</th>\n",
       "    </tr>\n",
       "  </thead>\n",
       "  <tbody>\n",
       "    <tr>\n",
       "      <th>1505</th>\n",
       "      <td>1506</td>\n",
       "      <td>01/05/20</td>\n",
       "      <td>5:00 PM</td>\n",
       "      <td>Telengana</td>\n",
       "      <td>0</td>\n",
       "      <td>0</td>\n",
       "      <td>441</td>\n",
       "      <td>26</td>\n",
       "      <td>1039</td>\n",
       "    </tr>\n",
       "    <tr>\n",
       "      <th>1506</th>\n",
       "      <td>1507</td>\n",
       "      <td>01/05/20</td>\n",
       "      <td>5:00 PM</td>\n",
       "      <td>Tripura</td>\n",
       "      <td>0</td>\n",
       "      <td>0</td>\n",
       "      <td>2</td>\n",
       "      <td>0</td>\n",
       "      <td>2</td>\n",
       "    </tr>\n",
       "    <tr>\n",
       "      <th>1507</th>\n",
       "      <td>1508</td>\n",
       "      <td>01/05/20</td>\n",
       "      <td>5:00 PM</td>\n",
       "      <td>Uttarakhand</td>\n",
       "      <td>0</td>\n",
       "      <td>0</td>\n",
       "      <td>36</td>\n",
       "      <td>0</td>\n",
       "      <td>57</td>\n",
       "    </tr>\n",
       "    <tr>\n",
       "      <th>1508</th>\n",
       "      <td>1509</td>\n",
       "      <td>01/05/20</td>\n",
       "      <td>5:00 PM</td>\n",
       "      <td>Uttar Pradesh</td>\n",
       "      <td>0</td>\n",
       "      <td>0</td>\n",
       "      <td>555</td>\n",
       "      <td>41</td>\n",
       "      <td>2281</td>\n",
       "    </tr>\n",
       "    <tr>\n",
       "      <th>1509</th>\n",
       "      <td>1510</td>\n",
       "      <td>01/05/20</td>\n",
       "      <td>5:00 PM</td>\n",
       "      <td>West Bengal</td>\n",
       "      <td>0</td>\n",
       "      <td>0</td>\n",
       "      <td>139</td>\n",
       "      <td>33</td>\n",
       "      <td>795</td>\n",
       "    </tr>\n",
       "  </tbody>\n",
       "</table>\n",
       "</div>"
      ],
      "text/plain": [
       "       Sno      Date     Time State/UnionTerritory  ConfirmedIndianNational  \\\n",
       "1505  1506  01/05/20  5:00 PM            Telengana                        0   \n",
       "1506  1507  01/05/20  5:00 PM              Tripura                        0   \n",
       "1507  1508  01/05/20  5:00 PM          Uttarakhand                        0   \n",
       "1508  1509  01/05/20  5:00 PM        Uttar Pradesh                        0   \n",
       "1509  1510  01/05/20  5:00 PM          West Bengal                        0   \n",
       "\n",
       "      ConfirmedForeignNational  Cured  Deaths  Confirmed  \n",
       "1505                         0    441      26       1039  \n",
       "1506                         0      2       0          2  \n",
       "1507                         0     36       0         57  \n",
       "1508                         0    555      41       2281  \n",
       "1509                         0    139      33        795  "
      ]
     },
     "execution_count": 15,
     "metadata": {},
     "output_type": "execute_result"
    }
   ],
   "source": [
    "df.tail()"
   ]
  },
  {
   "cell_type": "code",
   "execution_count": 16,
   "metadata": {},
   "outputs": [
    {
     "data": {
      "text/plain": [
       "Sno                         0\n",
       "Date                        0\n",
       "Time                        0\n",
       "State/UnionTerritory        0\n",
       "ConfirmedIndianNational     0\n",
       "ConfirmedForeignNational    0\n",
       "Cured                       0\n",
       "Deaths                      0\n",
       "Confirmed                   0\n",
       "dtype: int64"
      ]
     },
     "execution_count": 16,
     "metadata": {},
     "output_type": "execute_result"
    }
   ],
   "source": [
    "df.isnull().sum()"
   ]
  },
  {
   "cell_type": "code",
   "execution_count": 17,
   "metadata": {},
   "outputs": [
    {
     "data": {
      "text/plain": [
       "Sno                          int64\n",
       "Date                        object\n",
       "Time                        object\n",
       "State/UnionTerritory        object\n",
       "ConfirmedIndianNational      int32\n",
       "ConfirmedForeignNational     int32\n",
       "Cured                        int64\n",
       "Deaths                       int64\n",
       "Confirmed                    int64\n",
       "dtype: object"
      ]
     },
     "execution_count": 17,
     "metadata": {},
     "output_type": "execute_result"
    }
   ],
   "source": [
    "df.dtypes"
   ]
  },
  {
   "cell_type": "markdown",
   "metadata": {},
   "source": [
    "import plotly as py\n",
    "import plotly.graph_objs as go\n",
    "import ipywidgets as widgets\n",
    "import numpy as np\n",
    "from scipy import special\n",
    "import plotly.tools as tls\n",
    "import cufflinks as cf\n",
    "py.offline.init_notebook_mode(connected=True)"
   ]
  },
  {
   "cell_type": "code",
   "execution_count": 19,
   "metadata": {},
   "outputs": [
    {
     "data": {
      "text/html": [
       "<div>\n",
       "<style scoped>\n",
       "    .dataframe tbody tr th:only-of-type {\n",
       "        vertical-align: middle;\n",
       "    }\n",
       "\n",
       "    .dataframe tbody tr th {\n",
       "        vertical-align: top;\n",
       "    }\n",
       "\n",
       "    .dataframe thead th {\n",
       "        text-align: right;\n",
       "    }\n",
       "</style>\n",
       "<table border=\"1\" class=\"dataframe\">\n",
       "  <thead>\n",
       "    <tr style=\"text-align: right;\">\n",
       "      <th></th>\n",
       "      <th>Sno</th>\n",
       "      <th>Date</th>\n",
       "      <th>Time</th>\n",
       "      <th>State/UnionTerritory</th>\n",
       "      <th>ConfirmedIndianNational</th>\n",
       "      <th>ConfirmedForeignNational</th>\n",
       "      <th>Cured</th>\n",
       "      <th>Deaths</th>\n",
       "      <th>Confirmed</th>\n",
       "    </tr>\n",
       "  </thead>\n",
       "  <tbody>\n",
       "    <tr>\n",
       "      <th>1505</th>\n",
       "      <td>1506</td>\n",
       "      <td>01/05/20</td>\n",
       "      <td>5:00 PM</td>\n",
       "      <td>Telengana</td>\n",
       "      <td>0</td>\n",
       "      <td>0</td>\n",
       "      <td>441</td>\n",
       "      <td>26</td>\n",
       "      <td>1039</td>\n",
       "    </tr>\n",
       "    <tr>\n",
       "      <th>1506</th>\n",
       "      <td>1507</td>\n",
       "      <td>01/05/20</td>\n",
       "      <td>5:00 PM</td>\n",
       "      <td>Tripura</td>\n",
       "      <td>0</td>\n",
       "      <td>0</td>\n",
       "      <td>2</td>\n",
       "      <td>0</td>\n",
       "      <td>2</td>\n",
       "    </tr>\n",
       "    <tr>\n",
       "      <th>1507</th>\n",
       "      <td>1508</td>\n",
       "      <td>01/05/20</td>\n",
       "      <td>5:00 PM</td>\n",
       "      <td>Uttarakhand</td>\n",
       "      <td>0</td>\n",
       "      <td>0</td>\n",
       "      <td>36</td>\n",
       "      <td>0</td>\n",
       "      <td>57</td>\n",
       "    </tr>\n",
       "    <tr>\n",
       "      <th>1508</th>\n",
       "      <td>1509</td>\n",
       "      <td>01/05/20</td>\n",
       "      <td>5:00 PM</td>\n",
       "      <td>Uttar Pradesh</td>\n",
       "      <td>0</td>\n",
       "      <td>0</td>\n",
       "      <td>555</td>\n",
       "      <td>41</td>\n",
       "      <td>2281</td>\n",
       "    </tr>\n",
       "    <tr>\n",
       "      <th>1509</th>\n",
       "      <td>1510</td>\n",
       "      <td>01/05/20</td>\n",
       "      <td>5:00 PM</td>\n",
       "      <td>West Bengal</td>\n",
       "      <td>0</td>\n",
       "      <td>0</td>\n",
       "      <td>139</td>\n",
       "      <td>33</td>\n",
       "      <td>795</td>\n",
       "    </tr>\n",
       "  </tbody>\n",
       "</table>\n",
       "</div>"
      ],
      "text/plain": [
       "       Sno      Date     Time State/UnionTerritory  ConfirmedIndianNational  \\\n",
       "1505  1506  01/05/20  5:00 PM            Telengana                        0   \n",
       "1506  1507  01/05/20  5:00 PM              Tripura                        0   \n",
       "1507  1508  01/05/20  5:00 PM          Uttarakhand                        0   \n",
       "1508  1509  01/05/20  5:00 PM        Uttar Pradesh                        0   \n",
       "1509  1510  01/05/20  5:00 PM          West Bengal                        0   \n",
       "\n",
       "      ConfirmedForeignNational  Cured  Deaths  Confirmed  \n",
       "1505                         0    441      26       1039  \n",
       "1506                         0      2       0          2  \n",
       "1507                         0     36       0         57  \n",
       "1508                         0    555      41       2281  \n",
       "1509                         0    139      33        795  "
      ]
     },
     "execution_count": 19,
     "metadata": {},
     "output_type": "execute_result"
    }
   ],
   "source": [
    "df.tail()"
   ]
  },
  {
   "cell_type": "code",
   "execution_count": null,
   "metadata": {},
   "outputs": [],
   "source": []
  },
  {
   "cell_type": "code",
   "execution_count": 20,
   "metadata": {},
   "outputs": [
    {
     "name": "stdout",
     "output_type": "stream",
     "text": [
      "Total number of confirmed COVID 2019 cases across India till date (29th April, 2020): 473292\n"
     ]
    }
   ],
   "source": [
    "df['Total cases'] =( df['ConfirmedIndianNational'] + df['ConfirmedForeignNational'] + df['Confirmed'])\n",
    "total_cases = df['Total cases'].sum()\n",
    "print('Total number of confirmed COVID 2019 cases across India till date (29th April, 2020):', total_cases)"
   ]
  },
  {
   "cell_type": "code",
   "execution_count": 38,
   "metadata": {},
   "outputs": [
    {
     "data": {
      "text/html": [
       "<div>\n",
       "<style scoped>\n",
       "    .dataframe tbody tr th:only-of-type {\n",
       "        vertical-align: middle;\n",
       "    }\n",
       "\n",
       "    .dataframe tbody tr th {\n",
       "        vertical-align: top;\n",
       "    }\n",
       "\n",
       "    .dataframe thead th {\n",
       "        text-align: right;\n",
       "    }\n",
       "</style>\n",
       "<table border=\"1\" class=\"dataframe\">\n",
       "  <thead>\n",
       "    <tr style=\"text-align: right;\">\n",
       "      <th></th>\n",
       "      <th>Sno</th>\n",
       "      <th>Date</th>\n",
       "      <th>Time</th>\n",
       "      <th>State/UnionTerritory</th>\n",
       "      <th>ConfirmedIndianNational</th>\n",
       "      <th>ConfirmedForeignNational</th>\n",
       "      <th>Cured</th>\n",
       "      <th>Deaths</th>\n",
       "      <th>Confirmed</th>\n",
       "      <th>Total cases</th>\n",
       "      <th>Total Active</th>\n",
       "    </tr>\n",
       "  </thead>\n",
       "  <tbody>\n",
       "    <tr>\n",
       "      <th>1505</th>\n",
       "      <td>1506</td>\n",
       "      <td>01/05/20</td>\n",
       "      <td>5:00 PM</td>\n",
       "      <td>Telengana</td>\n",
       "      <td>0</td>\n",
       "      <td>0</td>\n",
       "      <td>441</td>\n",
       "      <td>26</td>\n",
       "      <td>1039</td>\n",
       "      <td>1039</td>\n",
       "      <td>572</td>\n",
       "    </tr>\n",
       "    <tr>\n",
       "      <th>1506</th>\n",
       "      <td>1507</td>\n",
       "      <td>01/05/20</td>\n",
       "      <td>5:00 PM</td>\n",
       "      <td>Tripura</td>\n",
       "      <td>0</td>\n",
       "      <td>0</td>\n",
       "      <td>2</td>\n",
       "      <td>0</td>\n",
       "      <td>2</td>\n",
       "      <td>2</td>\n",
       "      <td>0</td>\n",
       "    </tr>\n",
       "    <tr>\n",
       "      <th>1507</th>\n",
       "      <td>1508</td>\n",
       "      <td>01/05/20</td>\n",
       "      <td>5:00 PM</td>\n",
       "      <td>Uttarakhand</td>\n",
       "      <td>0</td>\n",
       "      <td>0</td>\n",
       "      <td>36</td>\n",
       "      <td>0</td>\n",
       "      <td>57</td>\n",
       "      <td>57</td>\n",
       "      <td>21</td>\n",
       "    </tr>\n",
       "    <tr>\n",
       "      <th>1508</th>\n",
       "      <td>1509</td>\n",
       "      <td>01/05/20</td>\n",
       "      <td>5:00 PM</td>\n",
       "      <td>Uttar Pradesh</td>\n",
       "      <td>0</td>\n",
       "      <td>0</td>\n",
       "      <td>555</td>\n",
       "      <td>41</td>\n",
       "      <td>2281</td>\n",
       "      <td>2281</td>\n",
       "      <td>1685</td>\n",
       "    </tr>\n",
       "    <tr>\n",
       "      <th>1509</th>\n",
       "      <td>1510</td>\n",
       "      <td>01/05/20</td>\n",
       "      <td>5:00 PM</td>\n",
       "      <td>West Bengal</td>\n",
       "      <td>0</td>\n",
       "      <td>0</td>\n",
       "      <td>139</td>\n",
       "      <td>33</td>\n",
       "      <td>795</td>\n",
       "      <td>795</td>\n",
       "      <td>623</td>\n",
       "    </tr>\n",
       "  </tbody>\n",
       "</table>\n",
       "</div>"
      ],
      "text/plain": [
       "       Sno      Date     Time State/UnionTerritory  ConfirmedIndianNational  \\\n",
       "1505  1506  01/05/20  5:00 PM            Telengana                        0   \n",
       "1506  1507  01/05/20  5:00 PM              Tripura                        0   \n",
       "1507  1508  01/05/20  5:00 PM          Uttarakhand                        0   \n",
       "1508  1509  01/05/20  5:00 PM        Uttar Pradesh                        0   \n",
       "1509  1510  01/05/20  5:00 PM          West Bengal                        0   \n",
       "\n",
       "      ConfirmedForeignNational  Cured  Deaths  Confirmed  Total cases  \\\n",
       "1505                         0    441      26       1039         1039   \n",
       "1506                         0      2       0          2            2   \n",
       "1507                         0     36       0         57           57   \n",
       "1508                         0    555      41       2281         2281   \n",
       "1509                         0    139      33        795          795   \n",
       "\n",
       "      Total Active  \n",
       "1505           572  \n",
       "1506             0  \n",
       "1507            21  \n",
       "1508          1685  \n",
       "1509           623  "
      ]
     },
     "execution_count": 38,
     "metadata": {},
     "output_type": "execute_result"
    }
   ],
   "source": [
    "df.tail()"
   ]
  },
  {
   "cell_type": "code",
   "execution_count": 39,
   "metadata": {},
   "outputs": [],
   "source": [
    "df['Total Active'] = df['Total cases'] - (df['Deaths'] + df['Cured'])\n"
   ]
  },
  {
   "cell_type": "code",
   "execution_count": 40,
   "metadata": {},
   "outputs": [
    {
     "data": {
      "text/html": [
       "<div>\n",
       "<style scoped>\n",
       "    .dataframe tbody tr th:only-of-type {\n",
       "        vertical-align: middle;\n",
       "    }\n",
       "\n",
       "    .dataframe tbody tr th {\n",
       "        vertical-align: top;\n",
       "    }\n",
       "\n",
       "    .dataframe thead th {\n",
       "        text-align: right;\n",
       "    }\n",
       "</style>\n",
       "<table border=\"1\" class=\"dataframe\">\n",
       "  <thead>\n",
       "    <tr style=\"text-align: right;\">\n",
       "      <th></th>\n",
       "      <th>Sno</th>\n",
       "      <th>Date</th>\n",
       "      <th>Time</th>\n",
       "      <th>State/UnionTerritory</th>\n",
       "      <th>ConfirmedIndianNational</th>\n",
       "      <th>ConfirmedForeignNational</th>\n",
       "      <th>Cured</th>\n",
       "      <th>Deaths</th>\n",
       "      <th>Confirmed</th>\n",
       "      <th>Total cases</th>\n",
       "      <th>Total Active</th>\n",
       "    </tr>\n",
       "  </thead>\n",
       "  <tbody>\n",
       "    <tr>\n",
       "      <th>1365</th>\n",
       "      <td>1366</td>\n",
       "      <td>27/04/20</td>\n",
       "      <td>5:00 PM</td>\n",
       "      <td>Kerala</td>\n",
       "      <td>0</td>\n",
       "      <td>0</td>\n",
       "      <td>342</td>\n",
       "      <td>4</td>\n",
       "      <td>469</td>\n",
       "      <td>469</td>\n",
       "      <td>123</td>\n",
       "    </tr>\n",
       "    <tr>\n",
       "      <th>1397</th>\n",
       "      <td>1398</td>\n",
       "      <td>28/04/20</td>\n",
       "      <td>5:00 PM</td>\n",
       "      <td>Kerala</td>\n",
       "      <td>0</td>\n",
       "      <td>0</td>\n",
       "      <td>355</td>\n",
       "      <td>4</td>\n",
       "      <td>482</td>\n",
       "      <td>482</td>\n",
       "      <td>123</td>\n",
       "    </tr>\n",
       "    <tr>\n",
       "      <th>1429</th>\n",
       "      <td>1430</td>\n",
       "      <td>29/04/20</td>\n",
       "      <td>5:00 PM</td>\n",
       "      <td>Kerala</td>\n",
       "      <td>0</td>\n",
       "      <td>0</td>\n",
       "      <td>359</td>\n",
       "      <td>4</td>\n",
       "      <td>486</td>\n",
       "      <td>486</td>\n",
       "      <td>123</td>\n",
       "    </tr>\n",
       "    <tr>\n",
       "      <th>1461</th>\n",
       "      <td>1462</td>\n",
       "      <td>30/04/20</td>\n",
       "      <td>5:00 PM</td>\n",
       "      <td>Kerala</td>\n",
       "      <td>0</td>\n",
       "      <td>0</td>\n",
       "      <td>369</td>\n",
       "      <td>4</td>\n",
       "      <td>496</td>\n",
       "      <td>496</td>\n",
       "      <td>123</td>\n",
       "    </tr>\n",
       "    <tr>\n",
       "      <th>1493</th>\n",
       "      <td>1494</td>\n",
       "      <td>01/05/20</td>\n",
       "      <td>5:00 PM</td>\n",
       "      <td>Kerala</td>\n",
       "      <td>0</td>\n",
       "      <td>0</td>\n",
       "      <td>383</td>\n",
       "      <td>4</td>\n",
       "      <td>497</td>\n",
       "      <td>497</td>\n",
       "      <td>110</td>\n",
       "    </tr>\n",
       "  </tbody>\n",
       "</table>\n",
       "</div>"
      ],
      "text/plain": [
       "       Sno      Date     Time State/UnionTerritory  ConfirmedIndianNational  \\\n",
       "1365  1366  27/04/20  5:00 PM               Kerala                        0   \n",
       "1397  1398  28/04/20  5:00 PM               Kerala                        0   \n",
       "1429  1430  29/04/20  5:00 PM               Kerala                        0   \n",
       "1461  1462  30/04/20  5:00 PM               Kerala                        0   \n",
       "1493  1494  01/05/20  5:00 PM               Kerala                        0   \n",
       "\n",
       "      ConfirmedForeignNational  Cured  Deaths  Confirmed  Total cases  \\\n",
       "1365                         0    342       4        469          469   \n",
       "1397                         0    355       4        482          482   \n",
       "1429                         0    359       4        486          486   \n",
       "1461                         0    369       4        496          496   \n",
       "1493                         0    383       4        497          497   \n",
       "\n",
       "      Total Active  \n",
       "1365           123  \n",
       "1397           123  \n",
       "1429           123  \n",
       "1461           123  \n",
       "1493           110  "
      ]
     },
     "execution_count": 40,
     "metadata": {},
     "output_type": "execute_result"
    }
   ],
   "source": [
    "kerala.tail()"
   ]
  },
  {
   "cell_type": "code",
   "execution_count": 41,
   "metadata": {},
   "outputs": [
    {
     "data": {
      "text/html": [
       "<div>\n",
       "<style scoped>\n",
       "    .dataframe tbody tr th:only-of-type {\n",
       "        vertical-align: middle;\n",
       "    }\n",
       "\n",
       "    .dataframe tbody tr th {\n",
       "        vertical-align: top;\n",
       "    }\n",
       "\n",
       "    .dataframe thead th {\n",
       "        text-align: right;\n",
       "    }\n",
       "</style>\n",
       "<table border=\"1\" class=\"dataframe\">\n",
       "  <thead>\n",
       "    <tr style=\"text-align: right;\">\n",
       "      <th></th>\n",
       "      <th>Sno</th>\n",
       "      <th>Date</th>\n",
       "      <th>Time</th>\n",
       "      <th>State/UnionTerritory</th>\n",
       "      <th>ConfirmedIndianNational</th>\n",
       "      <th>ConfirmedForeignNational</th>\n",
       "      <th>Cured</th>\n",
       "      <th>Deaths</th>\n",
       "      <th>Confirmed</th>\n",
       "      <th>Total cases</th>\n",
       "      <th>Total Active</th>\n",
       "    </tr>\n",
       "  </thead>\n",
       "  <tbody>\n",
       "    <tr>\n",
       "      <th>1381</th>\n",
       "      <td>1382</td>\n",
       "      <td>27/04/20</td>\n",
       "      <td>5:00 PM</td>\n",
       "      <td>West Bengal</td>\n",
       "      <td>0</td>\n",
       "      <td>0</td>\n",
       "      <td>105</td>\n",
       "      <td>20</td>\n",
       "      <td>649</td>\n",
       "      <td>649</td>\n",
       "      <td>524</td>\n",
       "    </tr>\n",
       "    <tr>\n",
       "      <th>1413</th>\n",
       "      <td>1414</td>\n",
       "      <td>28/04/20</td>\n",
       "      <td>5:00 PM</td>\n",
       "      <td>West Bengal</td>\n",
       "      <td>0</td>\n",
       "      <td>0</td>\n",
       "      <td>109</td>\n",
       "      <td>20</td>\n",
       "      <td>697</td>\n",
       "      <td>697</td>\n",
       "      <td>568</td>\n",
       "    </tr>\n",
       "    <tr>\n",
       "      <th>1445</th>\n",
       "      <td>1446</td>\n",
       "      <td>29/04/20</td>\n",
       "      <td>5:00 PM</td>\n",
       "      <td>West Bengal</td>\n",
       "      <td>0</td>\n",
       "      <td>0</td>\n",
       "      <td>119</td>\n",
       "      <td>22</td>\n",
       "      <td>725</td>\n",
       "      <td>725</td>\n",
       "      <td>584</td>\n",
       "    </tr>\n",
       "    <tr>\n",
       "      <th>1477</th>\n",
       "      <td>1478</td>\n",
       "      <td>30/04/20</td>\n",
       "      <td>5:00 PM</td>\n",
       "      <td>West Bengal</td>\n",
       "      <td>0</td>\n",
       "      <td>0</td>\n",
       "      <td>124</td>\n",
       "      <td>22</td>\n",
       "      <td>758</td>\n",
       "      <td>758</td>\n",
       "      <td>612</td>\n",
       "    </tr>\n",
       "    <tr>\n",
       "      <th>1509</th>\n",
       "      <td>1510</td>\n",
       "      <td>01/05/20</td>\n",
       "      <td>5:00 PM</td>\n",
       "      <td>West Bengal</td>\n",
       "      <td>0</td>\n",
       "      <td>0</td>\n",
       "      <td>139</td>\n",
       "      <td>33</td>\n",
       "      <td>795</td>\n",
       "      <td>795</td>\n",
       "      <td>623</td>\n",
       "    </tr>\n",
       "  </tbody>\n",
       "</table>\n",
       "</div>"
      ],
      "text/plain": [
       "       Sno      Date     Time State/UnionTerritory  ConfirmedIndianNational  \\\n",
       "1381  1382  27/04/20  5:00 PM          West Bengal                        0   \n",
       "1413  1414  28/04/20  5:00 PM          West Bengal                        0   \n",
       "1445  1446  29/04/20  5:00 PM          West Bengal                        0   \n",
       "1477  1478  30/04/20  5:00 PM          West Bengal                        0   \n",
       "1509  1510  01/05/20  5:00 PM          West Bengal                        0   \n",
       "\n",
       "      ConfirmedForeignNational  Cured  Deaths  Confirmed  Total cases  \\\n",
       "1381                         0    105      20        649          649   \n",
       "1413                         0    109      20        697          697   \n",
       "1445                         0    119      22        725          725   \n",
       "1477                         0    124      22        758          758   \n",
       "1509                         0    139      33        795          795   \n",
       "\n",
       "      Total Active  \n",
       "1381           524  \n",
       "1413           568  \n",
       "1445           584  \n",
       "1477           612  \n",
       "1509           623  "
      ]
     },
     "execution_count": 41,
     "metadata": {},
     "output_type": "execute_result"
    }
   ],
   "source": [
    "wb.tail()"
   ]
  },
  {
   "cell_type": "code",
   "execution_count": 42,
   "metadata": {},
   "outputs": [
    {
     "data": {
      "text/html": [
       "<div>\n",
       "<style scoped>\n",
       "    .dataframe tbody tr th:only-of-type {\n",
       "        vertical-align: middle;\n",
       "    }\n",
       "\n",
       "    .dataframe tbody tr th {\n",
       "        vertical-align: top;\n",
       "    }\n",
       "\n",
       "    .dataframe thead th {\n",
       "        text-align: right;\n",
       "    }\n",
       "</style>\n",
       "<table border=\"1\" class=\"dataframe\">\n",
       "  <thead>\n",
       "    <tr style=\"text-align: right;\">\n",
       "      <th></th>\n",
       "      <th>Sno</th>\n",
       "      <th>Date</th>\n",
       "      <th>Time</th>\n",
       "      <th>State/UnionTerritory</th>\n",
       "      <th>ConfirmedIndianNational</th>\n",
       "      <th>ConfirmedForeignNational</th>\n",
       "      <th>Cured</th>\n",
       "      <th>Deaths</th>\n",
       "      <th>Confirmed</th>\n",
       "      <th>Total cases</th>\n",
       "      <th>Total Active</th>\n",
       "    </tr>\n",
       "  </thead>\n",
       "  <tbody>\n",
       "    <tr>\n",
       "      <th>1368</th>\n",
       "      <td>1369</td>\n",
       "      <td>27/04/20</td>\n",
       "      <td>5:00 PM</td>\n",
       "      <td>Maharashtra</td>\n",
       "      <td>0</td>\n",
       "      <td>0</td>\n",
       "      <td>1188</td>\n",
       "      <td>342</td>\n",
       "      <td>8068</td>\n",
       "      <td>8068</td>\n",
       "      <td>6538</td>\n",
       "    </tr>\n",
       "    <tr>\n",
       "      <th>1400</th>\n",
       "      <td>1401</td>\n",
       "      <td>28/04/20</td>\n",
       "      <td>5:00 PM</td>\n",
       "      <td>Maharashtra</td>\n",
       "      <td>0</td>\n",
       "      <td>0</td>\n",
       "      <td>1282</td>\n",
       "      <td>369</td>\n",
       "      <td>8590</td>\n",
       "      <td>8590</td>\n",
       "      <td>6939</td>\n",
       "    </tr>\n",
       "    <tr>\n",
       "      <th>1432</th>\n",
       "      <td>1433</td>\n",
       "      <td>29/04/20</td>\n",
       "      <td>5:00 PM</td>\n",
       "      <td>Maharashtra</td>\n",
       "      <td>0</td>\n",
       "      <td>0</td>\n",
       "      <td>1388</td>\n",
       "      <td>400</td>\n",
       "      <td>9318</td>\n",
       "      <td>9318</td>\n",
       "      <td>7530</td>\n",
       "    </tr>\n",
       "    <tr>\n",
       "      <th>1464</th>\n",
       "      <td>1465</td>\n",
       "      <td>30/04/20</td>\n",
       "      <td>5:00 PM</td>\n",
       "      <td>Maharashtra</td>\n",
       "      <td>0</td>\n",
       "      <td>0</td>\n",
       "      <td>1593</td>\n",
       "      <td>432</td>\n",
       "      <td>9915</td>\n",
       "      <td>9915</td>\n",
       "      <td>7890</td>\n",
       "    </tr>\n",
       "    <tr>\n",
       "      <th>1496</th>\n",
       "      <td>1497</td>\n",
       "      <td>01/05/20</td>\n",
       "      <td>5:00 PM</td>\n",
       "      <td>Maharashtra</td>\n",
       "      <td>0</td>\n",
       "      <td>0</td>\n",
       "      <td>1773</td>\n",
       "      <td>459</td>\n",
       "      <td>10498</td>\n",
       "      <td>10498</td>\n",
       "      <td>8266</td>\n",
       "    </tr>\n",
       "  </tbody>\n",
       "</table>\n",
       "</div>"
      ],
      "text/plain": [
       "       Sno      Date     Time State/UnionTerritory  ConfirmedIndianNational  \\\n",
       "1368  1369  27/04/20  5:00 PM          Maharashtra                        0   \n",
       "1400  1401  28/04/20  5:00 PM          Maharashtra                        0   \n",
       "1432  1433  29/04/20  5:00 PM          Maharashtra                        0   \n",
       "1464  1465  30/04/20  5:00 PM          Maharashtra                        0   \n",
       "1496  1497  01/05/20  5:00 PM          Maharashtra                        0   \n",
       "\n",
       "      ConfirmedForeignNational  Cured  Deaths  Confirmed  Total cases  \\\n",
       "1368                         0   1188     342       8068         8068   \n",
       "1400                         0   1282     369       8590         8590   \n",
       "1432                         0   1388     400       9318         9318   \n",
       "1464                         0   1593     432       9915         9915   \n",
       "1496                         0   1773     459      10498        10498   \n",
       "\n",
       "      Total Active  \n",
       "1368          6538  \n",
       "1400          6939  \n",
       "1432          7530  \n",
       "1464          7890  \n",
       "1496          8266  "
      ]
     },
     "execution_count": 42,
     "metadata": {},
     "output_type": "execute_result"
    }
   ],
   "source": [
    "mh.tail()"
   ]
  },
  {
   "cell_type": "code",
   "execution_count": 43,
   "metadata": {},
   "outputs": [
    {
     "data": {
      "application/vnd.plotly.v1+json": {
       "config": {
        "plotlyServerURL": "https://plot.ly"
       },
       "data": [
        {
         "mode": "lines+markers",
         "name": "Kerala",
         "type": "scatter",
         "x": [
          "30/01/20",
          "31/01/20",
          "01/02/20",
          "02/02/20",
          "03/02/20",
          "04/02/20",
          "05/02/20",
          "06/02/20",
          "07/02/20",
          "08/02/20",
          "09/02/20",
          "10/02/20",
          "11/02/20",
          "12/02/20",
          "13/02/20",
          "14/02/20",
          "15/02/20",
          "16/02/20",
          "17/02/20",
          "18/02/20",
          "19/02/20",
          "20/02/20",
          "21/02/20",
          "22/02/20",
          "23/02/20",
          "24/02/20",
          "25/02/20",
          "26/02/20",
          "27/02/20",
          "28/02/20",
          "29/02/20",
          "01/03/20",
          "02/03/20",
          "03/03/20",
          "04/03/20",
          "05/03/20",
          "06/03/20",
          "07/03/20",
          "08/03/20",
          "09/03/20",
          "10/03/20",
          "11/03/20",
          "12/03/20",
          "13/03/20",
          "14/03/20",
          "15/03/20",
          "16/03/20",
          "17/03/20",
          "18/03/20",
          "19/03/20",
          "20/03/20",
          "21/03/20",
          "22/03/20",
          "23/03/20",
          "24/03/20",
          "25/03/20",
          "26/03/20",
          "27/03/20",
          "28/03/20",
          "29/03/20",
          "30/03/20",
          "31/03/20",
          "01/04/20",
          "02/04/20",
          "03/04/20",
          "04/04/20",
          "05/04/20",
          "06/04/20",
          "07/04/20",
          "08/04/20",
          "09/04/20",
          "10/04/20",
          "11/04/20",
          "12/04/20",
          "13/04/20",
          "14/04/20",
          "15/04/20",
          "16/04/20",
          "17/04/20",
          "18/04/20",
          "19/04/20",
          "20/04/20",
          "21/04/20",
          "22/04/20",
          "23/04/20",
          "24/04/20",
          "25/04/20",
          "26/04/20",
          "27/04/20",
          "28/04/20",
          "29/04/20",
          "30/04/20",
          "01/05/20"
         ],
         "y": [
          2,
          2,
          4,
          6,
          6,
          6,
          6,
          6,
          6,
          6,
          6,
          6,
          6,
          6,
          6,
          6,
          6,
          6,
          6,
          6,
          6,
          6,
          6,
          6,
          6,
          6,
          6,
          6,
          6,
          6,
          6,
          6,
          6,
          3,
          3,
          3,
          3,
          3,
          13,
          15,
          27,
          31,
          31,
          35,
          35,
          41,
          43,
          49,
          51,
          51,
          53,
          77,
          101,
          131,
          186,
          214,
          230,
          263,
          341,
          166,
          182,
          214,
          216,
          238,
          257,
          252,
          255,
          257,
          267,
          264,
          260,
          259,
          239,
          230,
          194,
          178,
          173,
          167,
          147,
          138,
          140,
          129,
          114,
          101,
          111,
          121,
          116,
          116,
          123,
          123,
          123,
          123,
          110
         ]
        },
        {
         "mode": "lines+markers",
         "name": "Maharashtra",
         "type": "scatter",
         "x": [
          "09/03/20",
          "10/03/20",
          "11/03/20",
          "12/03/20",
          "13/03/20",
          "14/03/20",
          "15/03/20",
          "16/03/20",
          "17/03/20",
          "18/03/20",
          "19/03/20",
          "20/03/20",
          "21/03/20",
          "22/03/20",
          "23/03/20",
          "24/03/20",
          "25/03/20",
          "26/03/20",
          "27/03/20",
          "28/03/20",
          "29/03/20",
          "30/03/20",
          "31/03/20",
          "01/04/20",
          "02/04/20",
          "03/04/20",
          "04/04/20",
          "05/04/20",
          "06/04/20",
          "07/04/20",
          "08/04/20",
          "09/04/20",
          "10/04/20",
          "11/04/20",
          "12/04/20",
          "13/04/20",
          "14/04/20",
          "15/04/20",
          "16/04/20",
          "17/04/20",
          "18/04/20",
          "19/04/20",
          "20/04/20",
          "21/04/20",
          "22/04/20",
          "23/04/20",
          "24/04/20",
          "25/04/20",
          "26/04/20",
          "27/04/20",
          "28/04/20",
          "29/04/20",
          "30/04/20",
          "01/05/20"
         ],
         "y": [
          4,
          10,
          4,
          22,
          28,
          28,
          64,
          64,
          77,
          83,
          93,
          103,
          125,
          132,
          146,
          176,
          252,
          244,
          241,
          330,
          155,
          165,
          168,
          254,
          280,
          277,
          424,
          424,
          647,
          764,
          875,
          946,
          1142,
          1276,
          1426,
          1619,
          1948,
          2250,
          2437,
          2711,
          2791,
          3075,
          3473,
          3865,
          4248,
          4594,
          5307,
          5559,
          6229,
          6538,
          6939,
          7530,
          7890,
          8266
         ]
        },
        {
         "mode": "lines+markers",
         "name": "West Bengal",
         "type": "scatter",
         "x": [
          "18/03/20",
          "19/03/20",
          "20/03/20",
          "21/03/20",
          "22/03/20",
          "23/03/20",
          "24/03/20",
          "25/03/20",
          "26/03/20",
          "27/03/20",
          "28/03/20",
          "29/03/20",
          "30/03/20",
          "31/03/20",
          "01/04/20",
          "02/04/20",
          "03/04/20",
          "04/04/20",
          "05/04/20",
          "06/04/20",
          "07/04/20",
          "08/04/20",
          "09/04/20",
          "10/04/20",
          "11/04/20",
          "12/04/20",
          "13/04/20",
          "14/04/20",
          "15/04/20",
          "16/04/20",
          "17/04/20",
          "18/04/20",
          "19/04/20",
          "20/04/20",
          "21/04/20",
          "22/04/20",
          "23/04/20",
          "24/04/20",
          "25/04/20",
          "26/04/20",
          "27/04/20",
          "28/04/20",
          "29/04/20",
          "30/04/20",
          "01/05/20"
         ],
         "y": [
          2,
          2,
          4,
          6,
          8,
          14,
          17,
          17,
          19,
          19,
          29,
          17,
          21,
          24,
          28,
          44,
          57,
          63,
          67,
          67,
          75,
          81,
          82,
          95,
          105,
          110,
          116,
          147,
          169,
          182,
          194,
          222,
          236,
          261,
          307,
          335,
          362,
          396,
          450,
          488,
          524,
          568,
          584,
          612,
          623
         ]
        },
        {
         "mode": "lines+markers",
         "name": "Delhi",
         "type": "scatter",
         "x": [
          "02/03/20",
          "03/03/20",
          "04/03/20",
          "05/03/20",
          "06/03/20",
          "07/03/20",
          "08/03/20",
          "09/03/20",
          "10/03/20",
          "11/03/20",
          "12/03/20",
          "13/03/20",
          "14/03/20",
          "15/03/20",
          "16/03/20",
          "17/03/20",
          "18/03/20",
          "19/03/20",
          "20/03/20",
          "21/03/20",
          "22/03/20",
          "23/03/20",
          "24/03/20",
          "25/03/20",
          "26/03/20",
          "27/03/20",
          "28/03/20",
          "29/03/20",
          "30/03/20",
          "31/03/20",
          "01/04/20",
          "02/04/20",
          "03/04/20",
          "04/04/20",
          "05/04/20",
          "06/04/20",
          "07/04/20",
          "08/04/20",
          "09/04/20",
          "10/04/20",
          "11/04/20",
          "12/04/20",
          "13/04/20",
          "14/04/20",
          "15/04/20",
          "16/04/20",
          "17/04/20",
          "18/04/20",
          "19/04/20",
          "20/04/20",
          "21/04/20",
          "22/04/20",
          "23/04/20",
          "24/04/20",
          "25/04/20",
          "26/04/20",
          "27/04/20",
          "28/04/20",
          "29/04/20",
          "30/04/20",
          "01/05/20"
         ],
         "y": [
          2,
          2,
          2,
          4,
          6,
          6,
          6,
          8,
          8,
          10,
          12,
          12,
          12,
          11,
          11,
          13,
          17,
          20,
          28,
          46,
          52,
          52,
          53,
          55,
          65,
          65,
          71,
          41,
          79,
          89,
          144,
          207,
          207,
          424,
          478,
          497,
          548,
          546,
          639,
          860,
          864,
          1025,
          1103,
          1452,
          1501,
          1504,
          1551,
          1593,
          1778,
          1668,
          1603,
          1498,
          1476,
          1518,
          1604,
          1702,
          1987,
          2177,
          2182,
          2291,
          2362
         ]
        }
       ],
       "layout": {
        "plot_bgcolor": "rgb(230, 230, 230)",
        "template": {
         "data": {
          "bar": [
           {
            "error_x": {
             "color": "#2a3f5f"
            },
            "error_y": {
             "color": "#2a3f5f"
            },
            "marker": {
             "line": {
              "color": "#E5ECF6",
              "width": 0.5
             }
            },
            "type": "bar"
           }
          ],
          "barpolar": [
           {
            "marker": {
             "line": {
              "color": "#E5ECF6",
              "width": 0.5
             }
            },
            "type": "barpolar"
           }
          ],
          "carpet": [
           {
            "aaxis": {
             "endlinecolor": "#2a3f5f",
             "gridcolor": "white",
             "linecolor": "white",
             "minorgridcolor": "white",
             "startlinecolor": "#2a3f5f"
            },
            "baxis": {
             "endlinecolor": "#2a3f5f",
             "gridcolor": "white",
             "linecolor": "white",
             "minorgridcolor": "white",
             "startlinecolor": "#2a3f5f"
            },
            "type": "carpet"
           }
          ],
          "choropleth": [
           {
            "colorbar": {
             "outlinewidth": 0,
             "ticks": ""
            },
            "type": "choropleth"
           }
          ],
          "contour": [
           {
            "colorbar": {
             "outlinewidth": 0,
             "ticks": ""
            },
            "colorscale": [
             [
              0,
              "#0d0887"
             ],
             [
              0.1111111111111111,
              "#46039f"
             ],
             [
              0.2222222222222222,
              "#7201a8"
             ],
             [
              0.3333333333333333,
              "#9c179e"
             ],
             [
              0.4444444444444444,
              "#bd3786"
             ],
             [
              0.5555555555555556,
              "#d8576b"
             ],
             [
              0.6666666666666666,
              "#ed7953"
             ],
             [
              0.7777777777777778,
              "#fb9f3a"
             ],
             [
              0.8888888888888888,
              "#fdca26"
             ],
             [
              1,
              "#f0f921"
             ]
            ],
            "type": "contour"
           }
          ],
          "contourcarpet": [
           {
            "colorbar": {
             "outlinewidth": 0,
             "ticks": ""
            },
            "type": "contourcarpet"
           }
          ],
          "heatmap": [
           {
            "colorbar": {
             "outlinewidth": 0,
             "ticks": ""
            },
            "colorscale": [
             [
              0,
              "#0d0887"
             ],
             [
              0.1111111111111111,
              "#46039f"
             ],
             [
              0.2222222222222222,
              "#7201a8"
             ],
             [
              0.3333333333333333,
              "#9c179e"
             ],
             [
              0.4444444444444444,
              "#bd3786"
             ],
             [
              0.5555555555555556,
              "#d8576b"
             ],
             [
              0.6666666666666666,
              "#ed7953"
             ],
             [
              0.7777777777777778,
              "#fb9f3a"
             ],
             [
              0.8888888888888888,
              "#fdca26"
             ],
             [
              1,
              "#f0f921"
             ]
            ],
            "type": "heatmap"
           }
          ],
          "heatmapgl": [
           {
            "colorbar": {
             "outlinewidth": 0,
             "ticks": ""
            },
            "colorscale": [
             [
              0,
              "#0d0887"
             ],
             [
              0.1111111111111111,
              "#46039f"
             ],
             [
              0.2222222222222222,
              "#7201a8"
             ],
             [
              0.3333333333333333,
              "#9c179e"
             ],
             [
              0.4444444444444444,
              "#bd3786"
             ],
             [
              0.5555555555555556,
              "#d8576b"
             ],
             [
              0.6666666666666666,
              "#ed7953"
             ],
             [
              0.7777777777777778,
              "#fb9f3a"
             ],
             [
              0.8888888888888888,
              "#fdca26"
             ],
             [
              1,
              "#f0f921"
             ]
            ],
            "type": "heatmapgl"
           }
          ],
          "histogram": [
           {
            "marker": {
             "colorbar": {
              "outlinewidth": 0,
              "ticks": ""
             }
            },
            "type": "histogram"
           }
          ],
          "histogram2d": [
           {
            "colorbar": {
             "outlinewidth": 0,
             "ticks": ""
            },
            "colorscale": [
             [
              0,
              "#0d0887"
             ],
             [
              0.1111111111111111,
              "#46039f"
             ],
             [
              0.2222222222222222,
              "#7201a8"
             ],
             [
              0.3333333333333333,
              "#9c179e"
             ],
             [
              0.4444444444444444,
              "#bd3786"
             ],
             [
              0.5555555555555556,
              "#d8576b"
             ],
             [
              0.6666666666666666,
              "#ed7953"
             ],
             [
              0.7777777777777778,
              "#fb9f3a"
             ],
             [
              0.8888888888888888,
              "#fdca26"
             ],
             [
              1,
              "#f0f921"
             ]
            ],
            "type": "histogram2d"
           }
          ],
          "histogram2dcontour": [
           {
            "colorbar": {
             "outlinewidth": 0,
             "ticks": ""
            },
            "colorscale": [
             [
              0,
              "#0d0887"
             ],
             [
              0.1111111111111111,
              "#46039f"
             ],
             [
              0.2222222222222222,
              "#7201a8"
             ],
             [
              0.3333333333333333,
              "#9c179e"
             ],
             [
              0.4444444444444444,
              "#bd3786"
             ],
             [
              0.5555555555555556,
              "#d8576b"
             ],
             [
              0.6666666666666666,
              "#ed7953"
             ],
             [
              0.7777777777777778,
              "#fb9f3a"
             ],
             [
              0.8888888888888888,
              "#fdca26"
             ],
             [
              1,
              "#f0f921"
             ]
            ],
            "type": "histogram2dcontour"
           }
          ],
          "mesh3d": [
           {
            "colorbar": {
             "outlinewidth": 0,
             "ticks": ""
            },
            "type": "mesh3d"
           }
          ],
          "parcoords": [
           {
            "line": {
             "colorbar": {
              "outlinewidth": 0,
              "ticks": ""
             }
            },
            "type": "parcoords"
           }
          ],
          "pie": [
           {
            "automargin": true,
            "type": "pie"
           }
          ],
          "scatter": [
           {
            "marker": {
             "colorbar": {
              "outlinewidth": 0,
              "ticks": ""
             }
            },
            "type": "scatter"
           }
          ],
          "scatter3d": [
           {
            "line": {
             "colorbar": {
              "outlinewidth": 0,
              "ticks": ""
             }
            },
            "marker": {
             "colorbar": {
              "outlinewidth": 0,
              "ticks": ""
             }
            },
            "type": "scatter3d"
           }
          ],
          "scattercarpet": [
           {
            "marker": {
             "colorbar": {
              "outlinewidth": 0,
              "ticks": ""
             }
            },
            "type": "scattercarpet"
           }
          ],
          "scattergeo": [
           {
            "marker": {
             "colorbar": {
              "outlinewidth": 0,
              "ticks": ""
             }
            },
            "type": "scattergeo"
           }
          ],
          "scattergl": [
           {
            "marker": {
             "colorbar": {
              "outlinewidth": 0,
              "ticks": ""
             }
            },
            "type": "scattergl"
           }
          ],
          "scattermapbox": [
           {
            "marker": {
             "colorbar": {
              "outlinewidth": 0,
              "ticks": ""
             }
            },
            "type": "scattermapbox"
           }
          ],
          "scatterpolar": [
           {
            "marker": {
             "colorbar": {
              "outlinewidth": 0,
              "ticks": ""
             }
            },
            "type": "scatterpolar"
           }
          ],
          "scatterpolargl": [
           {
            "marker": {
             "colorbar": {
              "outlinewidth": 0,
              "ticks": ""
             }
            },
            "type": "scatterpolargl"
           }
          ],
          "scatterternary": [
           {
            "marker": {
             "colorbar": {
              "outlinewidth": 0,
              "ticks": ""
             }
            },
            "type": "scatterternary"
           }
          ],
          "surface": [
           {
            "colorbar": {
             "outlinewidth": 0,
             "ticks": ""
            },
            "colorscale": [
             [
              0,
              "#0d0887"
             ],
             [
              0.1111111111111111,
              "#46039f"
             ],
             [
              0.2222222222222222,
              "#7201a8"
             ],
             [
              0.3333333333333333,
              "#9c179e"
             ],
             [
              0.4444444444444444,
              "#bd3786"
             ],
             [
              0.5555555555555556,
              "#d8576b"
             ],
             [
              0.6666666666666666,
              "#ed7953"
             ],
             [
              0.7777777777777778,
              "#fb9f3a"
             ],
             [
              0.8888888888888888,
              "#fdca26"
             ],
             [
              1,
              "#f0f921"
             ]
            ],
            "type": "surface"
           }
          ],
          "table": [
           {
            "cells": {
             "fill": {
              "color": "#EBF0F8"
             },
             "line": {
              "color": "white"
             }
            },
            "header": {
             "fill": {
              "color": "#C8D4E3"
             },
             "line": {
              "color": "white"
             }
            },
            "type": "table"
           }
          ]
         },
         "layout": {
          "annotationdefaults": {
           "arrowcolor": "#2a3f5f",
           "arrowhead": 0,
           "arrowwidth": 1
          },
          "coloraxis": {
           "colorbar": {
            "outlinewidth": 0,
            "ticks": ""
           }
          },
          "colorscale": {
           "diverging": [
            [
             0,
             "#8e0152"
            ],
            [
             0.1,
             "#c51b7d"
            ],
            [
             0.2,
             "#de77ae"
            ],
            [
             0.3,
             "#f1b6da"
            ],
            [
             0.4,
             "#fde0ef"
            ],
            [
             0.5,
             "#f7f7f7"
            ],
            [
             0.6,
             "#e6f5d0"
            ],
            [
             0.7,
             "#b8e186"
            ],
            [
             0.8,
             "#7fbc41"
            ],
            [
             0.9,
             "#4d9221"
            ],
            [
             1,
             "#276419"
            ]
           ],
           "sequential": [
            [
             0,
             "#0d0887"
            ],
            [
             0.1111111111111111,
             "#46039f"
            ],
            [
             0.2222222222222222,
             "#7201a8"
            ],
            [
             0.3333333333333333,
             "#9c179e"
            ],
            [
             0.4444444444444444,
             "#bd3786"
            ],
            [
             0.5555555555555556,
             "#d8576b"
            ],
            [
             0.6666666666666666,
             "#ed7953"
            ],
            [
             0.7777777777777778,
             "#fb9f3a"
            ],
            [
             0.8888888888888888,
             "#fdca26"
            ],
            [
             1,
             "#f0f921"
            ]
           ],
           "sequentialminus": [
            [
             0,
             "#0d0887"
            ],
            [
             0.1111111111111111,
             "#46039f"
            ],
            [
             0.2222222222222222,
             "#7201a8"
            ],
            [
             0.3333333333333333,
             "#9c179e"
            ],
            [
             0.4444444444444444,
             "#bd3786"
            ],
            [
             0.5555555555555556,
             "#d8576b"
            ],
            [
             0.6666666666666666,
             "#ed7953"
            ],
            [
             0.7777777777777778,
             "#fb9f3a"
            ],
            [
             0.8888888888888888,
             "#fdca26"
            ],
            [
             1,
             "#f0f921"
            ]
           ]
          },
          "colorway": [
           "#636efa",
           "#EF553B",
           "#00cc96",
           "#ab63fa",
           "#FFA15A",
           "#19d3f3",
           "#FF6692",
           "#B6E880",
           "#FF97FF",
           "#FECB52"
          ],
          "font": {
           "color": "#2a3f5f"
          },
          "geo": {
           "bgcolor": "white",
           "lakecolor": "white",
           "landcolor": "#E5ECF6",
           "showlakes": true,
           "showland": true,
           "subunitcolor": "white"
          },
          "hoverlabel": {
           "align": "left"
          },
          "hovermode": "closest",
          "mapbox": {
           "style": "light"
          },
          "paper_bgcolor": "white",
          "plot_bgcolor": "#E5ECF6",
          "polar": {
           "angularaxis": {
            "gridcolor": "white",
            "linecolor": "white",
            "ticks": ""
           },
           "bgcolor": "#E5ECF6",
           "radialaxis": {
            "gridcolor": "white",
            "linecolor": "white",
            "ticks": ""
           }
          },
          "scene": {
           "xaxis": {
            "backgroundcolor": "#E5ECF6",
            "gridcolor": "white",
            "gridwidth": 2,
            "linecolor": "white",
            "showbackground": true,
            "ticks": "",
            "zerolinecolor": "white"
           },
           "yaxis": {
            "backgroundcolor": "#E5ECF6",
            "gridcolor": "white",
            "gridwidth": 2,
            "linecolor": "white",
            "showbackground": true,
            "ticks": "",
            "zerolinecolor": "white"
           },
           "zaxis": {
            "backgroundcolor": "#E5ECF6",
            "gridcolor": "white",
            "gridwidth": 2,
            "linecolor": "white",
            "showbackground": true,
            "ticks": "",
            "zerolinecolor": "white"
           }
          },
          "shapedefaults": {
           "line": {
            "color": "#2a3f5f"
           }
          },
          "ternary": {
           "aaxis": {
            "gridcolor": "white",
            "linecolor": "white",
            "ticks": ""
           },
           "baxis": {
            "gridcolor": "white",
            "linecolor": "white",
            "ticks": ""
           },
           "bgcolor": "#E5ECF6",
           "caxis": {
            "gridcolor": "white",
            "linecolor": "white",
            "ticks": ""
           }
          },
          "title": {
           "x": 0.05
          },
          "xaxis": {
           "automargin": true,
           "gridcolor": "white",
           "linecolor": "white",
           "ticks": "",
           "title": {
            "standoff": 15
           },
           "zerolinecolor": "white",
           "zerolinewidth": 2
          },
          "yaxis": {
           "automargin": true,
           "gridcolor": "white",
           "linecolor": "white",
           "ticks": "",
           "title": {
            "standoff": 15
           },
           "zerolinecolor": "white",
           "zerolinewidth": 2
          }
         }
        },
        "title": {
         "text": "Total Active Coronavirus Cases in India (Cumulative cases)"
        }
       }
      },
      "text/html": [
       "<div>\n",
       "        \n",
       "        \n",
       "            <div id=\"3a485676-ac81-4dd0-876a-a23b2faa9b62\" class=\"plotly-graph-div\" style=\"height:525px; width:100%;\"></div>\n",
       "            <script type=\"text/javascript\">\n",
       "                require([\"plotly\"], function(Plotly) {\n",
       "                    window.PLOTLYENV=window.PLOTLYENV || {};\n",
       "                    \n",
       "                if (document.getElementById(\"3a485676-ac81-4dd0-876a-a23b2faa9b62\")) {\n",
       "                    Plotly.newPlot(\n",
       "                        '3a485676-ac81-4dd0-876a-a23b2faa9b62',\n",
       "                        [{\"mode\": \"lines+markers\", \"name\": \"Kerala\", \"type\": \"scatter\", \"x\": [\"30/01/20\", \"31/01/20\", \"01/02/20\", \"02/02/20\", \"03/02/20\", \"04/02/20\", \"05/02/20\", \"06/02/20\", \"07/02/20\", \"08/02/20\", \"09/02/20\", \"10/02/20\", \"11/02/20\", \"12/02/20\", \"13/02/20\", \"14/02/20\", \"15/02/20\", \"16/02/20\", \"17/02/20\", \"18/02/20\", \"19/02/20\", \"20/02/20\", \"21/02/20\", \"22/02/20\", \"23/02/20\", \"24/02/20\", \"25/02/20\", \"26/02/20\", \"27/02/20\", \"28/02/20\", \"29/02/20\", \"01/03/20\", \"02/03/20\", \"03/03/20\", \"04/03/20\", \"05/03/20\", \"06/03/20\", \"07/03/20\", \"08/03/20\", \"09/03/20\", \"10/03/20\", \"11/03/20\", \"12/03/20\", \"13/03/20\", \"14/03/20\", \"15/03/20\", \"16/03/20\", \"17/03/20\", \"18/03/20\", \"19/03/20\", \"20/03/20\", \"21/03/20\", \"22/03/20\", \"23/03/20\", \"24/03/20\", \"25/03/20\", \"26/03/20\", \"27/03/20\", \"28/03/20\", \"29/03/20\", \"30/03/20\", \"31/03/20\", \"01/04/20\", \"02/04/20\", \"03/04/20\", \"04/04/20\", \"05/04/20\", \"06/04/20\", \"07/04/20\", \"08/04/20\", \"09/04/20\", \"10/04/20\", \"11/04/20\", \"12/04/20\", \"13/04/20\", \"14/04/20\", \"15/04/20\", \"16/04/20\", \"17/04/20\", \"18/04/20\", \"19/04/20\", \"20/04/20\", \"21/04/20\", \"22/04/20\", \"23/04/20\", \"24/04/20\", \"25/04/20\", \"26/04/20\", \"27/04/20\", \"28/04/20\", \"29/04/20\", \"30/04/20\", \"01/05/20\"], \"y\": [2, 2, 4, 6, 6, 6, 6, 6, 6, 6, 6, 6, 6, 6, 6, 6, 6, 6, 6, 6, 6, 6, 6, 6, 6, 6, 6, 6, 6, 6, 6, 6, 6, 3, 3, 3, 3, 3, 13, 15, 27, 31, 31, 35, 35, 41, 43, 49, 51, 51, 53, 77, 101, 131, 186, 214, 230, 263, 341, 166, 182, 214, 216, 238, 257, 252, 255, 257, 267, 264, 260, 259, 239, 230, 194, 178, 173, 167, 147, 138, 140, 129, 114, 101, 111, 121, 116, 116, 123, 123, 123, 123, 110]}, {\"mode\": \"lines+markers\", \"name\": \"Maharashtra\", \"type\": \"scatter\", \"x\": [\"09/03/20\", \"10/03/20\", \"11/03/20\", \"12/03/20\", \"13/03/20\", \"14/03/20\", \"15/03/20\", \"16/03/20\", \"17/03/20\", \"18/03/20\", \"19/03/20\", \"20/03/20\", \"21/03/20\", \"22/03/20\", \"23/03/20\", \"24/03/20\", \"25/03/20\", \"26/03/20\", \"27/03/20\", \"28/03/20\", \"29/03/20\", \"30/03/20\", \"31/03/20\", \"01/04/20\", \"02/04/20\", \"03/04/20\", \"04/04/20\", \"05/04/20\", \"06/04/20\", \"07/04/20\", \"08/04/20\", \"09/04/20\", \"10/04/20\", \"11/04/20\", \"12/04/20\", \"13/04/20\", \"14/04/20\", \"15/04/20\", \"16/04/20\", \"17/04/20\", \"18/04/20\", \"19/04/20\", \"20/04/20\", \"21/04/20\", \"22/04/20\", \"23/04/20\", \"24/04/20\", \"25/04/20\", \"26/04/20\", \"27/04/20\", \"28/04/20\", \"29/04/20\", \"30/04/20\", \"01/05/20\"], \"y\": [4, 10, 4, 22, 28, 28, 64, 64, 77, 83, 93, 103, 125, 132, 146, 176, 252, 244, 241, 330, 155, 165, 168, 254, 280, 277, 424, 424, 647, 764, 875, 946, 1142, 1276, 1426, 1619, 1948, 2250, 2437, 2711, 2791, 3075, 3473, 3865, 4248, 4594, 5307, 5559, 6229, 6538, 6939, 7530, 7890, 8266]}, {\"mode\": \"lines+markers\", \"name\": \"West Bengal\", \"type\": \"scatter\", \"x\": [\"18/03/20\", \"19/03/20\", \"20/03/20\", \"21/03/20\", \"22/03/20\", \"23/03/20\", \"24/03/20\", \"25/03/20\", \"26/03/20\", \"27/03/20\", \"28/03/20\", \"29/03/20\", \"30/03/20\", \"31/03/20\", \"01/04/20\", \"02/04/20\", \"03/04/20\", \"04/04/20\", \"05/04/20\", \"06/04/20\", \"07/04/20\", \"08/04/20\", \"09/04/20\", \"10/04/20\", \"11/04/20\", \"12/04/20\", \"13/04/20\", \"14/04/20\", \"15/04/20\", \"16/04/20\", \"17/04/20\", \"18/04/20\", \"19/04/20\", \"20/04/20\", \"21/04/20\", \"22/04/20\", \"23/04/20\", \"24/04/20\", \"25/04/20\", \"26/04/20\", \"27/04/20\", \"28/04/20\", \"29/04/20\", \"30/04/20\", \"01/05/20\"], \"y\": [2, 2, 4, 6, 8, 14, 17, 17, 19, 19, 29, 17, 21, 24, 28, 44, 57, 63, 67, 67, 75, 81, 82, 95, 105, 110, 116, 147, 169, 182, 194, 222, 236, 261, 307, 335, 362, 396, 450, 488, 524, 568, 584, 612, 623]}, {\"mode\": \"lines+markers\", \"name\": \"Delhi\", \"type\": \"scatter\", \"x\": [\"02/03/20\", \"03/03/20\", \"04/03/20\", \"05/03/20\", \"06/03/20\", \"07/03/20\", \"08/03/20\", \"09/03/20\", \"10/03/20\", \"11/03/20\", \"12/03/20\", \"13/03/20\", \"14/03/20\", \"15/03/20\", \"16/03/20\", \"17/03/20\", \"18/03/20\", \"19/03/20\", \"20/03/20\", \"21/03/20\", \"22/03/20\", \"23/03/20\", \"24/03/20\", \"25/03/20\", \"26/03/20\", \"27/03/20\", \"28/03/20\", \"29/03/20\", \"30/03/20\", \"31/03/20\", \"01/04/20\", \"02/04/20\", \"03/04/20\", \"04/04/20\", \"05/04/20\", \"06/04/20\", \"07/04/20\", \"08/04/20\", \"09/04/20\", \"10/04/20\", \"11/04/20\", \"12/04/20\", \"13/04/20\", \"14/04/20\", \"15/04/20\", \"16/04/20\", \"17/04/20\", \"18/04/20\", \"19/04/20\", \"20/04/20\", \"21/04/20\", \"22/04/20\", \"23/04/20\", \"24/04/20\", \"25/04/20\", \"26/04/20\", \"27/04/20\", \"28/04/20\", \"29/04/20\", \"30/04/20\", \"01/05/20\"], \"y\": [2, 2, 2, 4, 6, 6, 6, 8, 8, 10, 12, 12, 12, 11, 11, 13, 17, 20, 28, 46, 52, 52, 53, 55, 65, 65, 71, 41, 79, 89, 144, 207, 207, 424, 478, 497, 548, 546, 639, 860, 864, 1025, 1103, 1452, 1501, 1504, 1551, 1593, 1778, 1668, 1603, 1498, 1476, 1518, 1604, 1702, 1987, 2177, 2182, 2291, 2362]}],\n",
       "                        {\"plot_bgcolor\": \"rgb(230, 230, 230)\", \"template\": {\"data\": {\"bar\": [{\"error_x\": {\"color\": \"#2a3f5f\"}, \"error_y\": {\"color\": \"#2a3f5f\"}, \"marker\": {\"line\": {\"color\": \"#E5ECF6\", \"width\": 0.5}}, \"type\": \"bar\"}], \"barpolar\": [{\"marker\": {\"line\": {\"color\": \"#E5ECF6\", \"width\": 0.5}}, \"type\": \"barpolar\"}], \"carpet\": [{\"aaxis\": {\"endlinecolor\": \"#2a3f5f\", \"gridcolor\": \"white\", \"linecolor\": \"white\", \"minorgridcolor\": \"white\", \"startlinecolor\": \"#2a3f5f\"}, \"baxis\": {\"endlinecolor\": \"#2a3f5f\", \"gridcolor\": \"white\", \"linecolor\": \"white\", \"minorgridcolor\": \"white\", \"startlinecolor\": \"#2a3f5f\"}, \"type\": \"carpet\"}], \"choropleth\": [{\"colorbar\": {\"outlinewidth\": 0, \"ticks\": \"\"}, \"type\": \"choropleth\"}], \"contour\": [{\"colorbar\": {\"outlinewidth\": 0, \"ticks\": \"\"}, \"colorscale\": [[0.0, \"#0d0887\"], [0.1111111111111111, \"#46039f\"], [0.2222222222222222, \"#7201a8\"], [0.3333333333333333, \"#9c179e\"], [0.4444444444444444, \"#bd3786\"], [0.5555555555555556, \"#d8576b\"], [0.6666666666666666, \"#ed7953\"], [0.7777777777777778, \"#fb9f3a\"], [0.8888888888888888, \"#fdca26\"], [1.0, \"#f0f921\"]], \"type\": \"contour\"}], \"contourcarpet\": [{\"colorbar\": {\"outlinewidth\": 0, \"ticks\": \"\"}, \"type\": \"contourcarpet\"}], \"heatmap\": [{\"colorbar\": {\"outlinewidth\": 0, \"ticks\": \"\"}, \"colorscale\": [[0.0, \"#0d0887\"], [0.1111111111111111, \"#46039f\"], [0.2222222222222222, \"#7201a8\"], [0.3333333333333333, \"#9c179e\"], [0.4444444444444444, \"#bd3786\"], [0.5555555555555556, \"#d8576b\"], [0.6666666666666666, \"#ed7953\"], [0.7777777777777778, \"#fb9f3a\"], [0.8888888888888888, \"#fdca26\"], [1.0, \"#f0f921\"]], \"type\": \"heatmap\"}], \"heatmapgl\": [{\"colorbar\": {\"outlinewidth\": 0, \"ticks\": \"\"}, \"colorscale\": [[0.0, \"#0d0887\"], [0.1111111111111111, \"#46039f\"], [0.2222222222222222, \"#7201a8\"], [0.3333333333333333, \"#9c179e\"], [0.4444444444444444, \"#bd3786\"], [0.5555555555555556, \"#d8576b\"], [0.6666666666666666, \"#ed7953\"], [0.7777777777777778, \"#fb9f3a\"], [0.8888888888888888, \"#fdca26\"], [1.0, \"#f0f921\"]], \"type\": \"heatmapgl\"}], \"histogram\": [{\"marker\": {\"colorbar\": {\"outlinewidth\": 0, \"ticks\": \"\"}}, \"type\": \"histogram\"}], \"histogram2d\": [{\"colorbar\": {\"outlinewidth\": 0, \"ticks\": \"\"}, \"colorscale\": [[0.0, \"#0d0887\"], [0.1111111111111111, \"#46039f\"], [0.2222222222222222, \"#7201a8\"], [0.3333333333333333, \"#9c179e\"], [0.4444444444444444, \"#bd3786\"], [0.5555555555555556, \"#d8576b\"], [0.6666666666666666, \"#ed7953\"], [0.7777777777777778, \"#fb9f3a\"], [0.8888888888888888, \"#fdca26\"], [1.0, \"#f0f921\"]], \"type\": \"histogram2d\"}], \"histogram2dcontour\": [{\"colorbar\": {\"outlinewidth\": 0, \"ticks\": \"\"}, \"colorscale\": [[0.0, \"#0d0887\"], [0.1111111111111111, \"#46039f\"], [0.2222222222222222, \"#7201a8\"], [0.3333333333333333, \"#9c179e\"], [0.4444444444444444, \"#bd3786\"], [0.5555555555555556, \"#d8576b\"], [0.6666666666666666, \"#ed7953\"], [0.7777777777777778, \"#fb9f3a\"], [0.8888888888888888, \"#fdca26\"], [1.0, \"#f0f921\"]], \"type\": \"histogram2dcontour\"}], \"mesh3d\": [{\"colorbar\": {\"outlinewidth\": 0, \"ticks\": \"\"}, \"type\": \"mesh3d\"}], \"parcoords\": [{\"line\": {\"colorbar\": {\"outlinewidth\": 0, \"ticks\": \"\"}}, \"type\": \"parcoords\"}], \"pie\": [{\"automargin\": true, \"type\": \"pie\"}], \"scatter\": [{\"marker\": {\"colorbar\": {\"outlinewidth\": 0, \"ticks\": \"\"}}, \"type\": \"scatter\"}], \"scatter3d\": [{\"line\": {\"colorbar\": {\"outlinewidth\": 0, \"ticks\": \"\"}}, \"marker\": {\"colorbar\": {\"outlinewidth\": 0, \"ticks\": \"\"}}, \"type\": \"scatter3d\"}], \"scattercarpet\": [{\"marker\": {\"colorbar\": {\"outlinewidth\": 0, \"ticks\": \"\"}}, \"type\": \"scattercarpet\"}], \"scattergeo\": [{\"marker\": {\"colorbar\": {\"outlinewidth\": 0, \"ticks\": \"\"}}, \"type\": \"scattergeo\"}], \"scattergl\": [{\"marker\": {\"colorbar\": {\"outlinewidth\": 0, \"ticks\": \"\"}}, \"type\": \"scattergl\"}], \"scattermapbox\": [{\"marker\": {\"colorbar\": {\"outlinewidth\": 0, \"ticks\": \"\"}}, \"type\": \"scattermapbox\"}], \"scatterpolar\": [{\"marker\": {\"colorbar\": {\"outlinewidth\": 0, \"ticks\": \"\"}}, \"type\": \"scatterpolar\"}], \"scatterpolargl\": [{\"marker\": {\"colorbar\": {\"outlinewidth\": 0, \"ticks\": \"\"}}, \"type\": \"scatterpolargl\"}], \"scatterternary\": [{\"marker\": {\"colorbar\": {\"outlinewidth\": 0, \"ticks\": \"\"}}, \"type\": \"scatterternary\"}], \"surface\": [{\"colorbar\": {\"outlinewidth\": 0, \"ticks\": \"\"}, \"colorscale\": [[0.0, \"#0d0887\"], [0.1111111111111111, \"#46039f\"], [0.2222222222222222, \"#7201a8\"], [0.3333333333333333, \"#9c179e\"], [0.4444444444444444, \"#bd3786\"], [0.5555555555555556, \"#d8576b\"], [0.6666666666666666, \"#ed7953\"], [0.7777777777777778, \"#fb9f3a\"], [0.8888888888888888, \"#fdca26\"], [1.0, \"#f0f921\"]], \"type\": \"surface\"}], \"table\": [{\"cells\": {\"fill\": {\"color\": \"#EBF0F8\"}, \"line\": {\"color\": \"white\"}}, \"header\": {\"fill\": {\"color\": \"#C8D4E3\"}, \"line\": {\"color\": \"white\"}}, \"type\": \"table\"}]}, \"layout\": {\"annotationdefaults\": {\"arrowcolor\": \"#2a3f5f\", \"arrowhead\": 0, \"arrowwidth\": 1}, \"coloraxis\": {\"colorbar\": {\"outlinewidth\": 0, \"ticks\": \"\"}}, \"colorscale\": {\"diverging\": [[0, \"#8e0152\"], [0.1, \"#c51b7d\"], [0.2, \"#de77ae\"], [0.3, \"#f1b6da\"], [0.4, \"#fde0ef\"], [0.5, \"#f7f7f7\"], [0.6, \"#e6f5d0\"], [0.7, \"#b8e186\"], [0.8, \"#7fbc41\"], [0.9, \"#4d9221\"], [1, \"#276419\"]], \"sequential\": [[0.0, \"#0d0887\"], [0.1111111111111111, \"#46039f\"], [0.2222222222222222, \"#7201a8\"], [0.3333333333333333, \"#9c179e\"], [0.4444444444444444, \"#bd3786\"], [0.5555555555555556, \"#d8576b\"], [0.6666666666666666, \"#ed7953\"], [0.7777777777777778, \"#fb9f3a\"], [0.8888888888888888, \"#fdca26\"], [1.0, \"#f0f921\"]], \"sequentialminus\": [[0.0, \"#0d0887\"], [0.1111111111111111, \"#46039f\"], [0.2222222222222222, \"#7201a8\"], [0.3333333333333333, \"#9c179e\"], [0.4444444444444444, \"#bd3786\"], [0.5555555555555556, \"#d8576b\"], [0.6666666666666666, \"#ed7953\"], [0.7777777777777778, \"#fb9f3a\"], [0.8888888888888888, \"#fdca26\"], [1.0, \"#f0f921\"]]}, \"colorway\": [\"#636efa\", \"#EF553B\", \"#00cc96\", \"#ab63fa\", \"#FFA15A\", \"#19d3f3\", \"#FF6692\", \"#B6E880\", \"#FF97FF\", \"#FECB52\"], \"font\": {\"color\": \"#2a3f5f\"}, \"geo\": {\"bgcolor\": \"white\", \"lakecolor\": \"white\", \"landcolor\": \"#E5ECF6\", \"showlakes\": true, \"showland\": true, \"subunitcolor\": \"white\"}, \"hoverlabel\": {\"align\": \"left\"}, \"hovermode\": \"closest\", \"mapbox\": {\"style\": \"light\"}, \"paper_bgcolor\": \"white\", \"plot_bgcolor\": \"#E5ECF6\", \"polar\": {\"angularaxis\": {\"gridcolor\": \"white\", \"linecolor\": \"white\", \"ticks\": \"\"}, \"bgcolor\": \"#E5ECF6\", \"radialaxis\": {\"gridcolor\": \"white\", \"linecolor\": \"white\", \"ticks\": \"\"}}, \"scene\": {\"xaxis\": {\"backgroundcolor\": \"#E5ECF6\", \"gridcolor\": \"white\", \"gridwidth\": 2, \"linecolor\": \"white\", \"showbackground\": true, \"ticks\": \"\", \"zerolinecolor\": \"white\"}, \"yaxis\": {\"backgroundcolor\": \"#E5ECF6\", \"gridcolor\": \"white\", \"gridwidth\": 2, \"linecolor\": \"white\", \"showbackground\": true, \"ticks\": \"\", \"zerolinecolor\": \"white\"}, \"zaxis\": {\"backgroundcolor\": \"#E5ECF6\", \"gridcolor\": \"white\", \"gridwidth\": 2, \"linecolor\": \"white\", \"showbackground\": true, \"ticks\": \"\", \"zerolinecolor\": \"white\"}}, \"shapedefaults\": {\"line\": {\"color\": \"#2a3f5f\"}}, \"ternary\": {\"aaxis\": {\"gridcolor\": \"white\", \"linecolor\": \"white\", \"ticks\": \"\"}, \"baxis\": {\"gridcolor\": \"white\", \"linecolor\": \"white\", \"ticks\": \"\"}, \"bgcolor\": \"#E5ECF6\", \"caxis\": {\"gridcolor\": \"white\", \"linecolor\": \"white\", \"ticks\": \"\"}}, \"title\": {\"x\": 0.05}, \"xaxis\": {\"automargin\": true, \"gridcolor\": \"white\", \"linecolor\": \"white\", \"ticks\": \"\", \"title\": {\"standoff\": 15}, \"zerolinecolor\": \"white\", \"zerolinewidth\": 2}, \"yaxis\": {\"automargin\": true, \"gridcolor\": \"white\", \"linecolor\": \"white\", \"ticks\": \"\", \"title\": {\"standoff\": 15}, \"zerolinecolor\": \"white\", \"zerolinewidth\": 2}}}, \"title\": {\"text\": \"Total Active Coronavirus Cases in India (Cumulative cases)\"}},\n",
       "                        {\"responsive\": true}\n",
       "                    ).then(function(){\n",
       "                            \n",
       "var gd = document.getElementById('3a485676-ac81-4dd0-876a-a23b2faa9b62');\n",
       "var x = new MutationObserver(function (mutations, observer) {{\n",
       "        var display = window.getComputedStyle(gd).display;\n",
       "        if (!display || display === 'none') {{\n",
       "            console.log([gd, 'removed!']);\n",
       "            Plotly.purge(gd);\n",
       "            observer.disconnect();\n",
       "        }}\n",
       "}});\n",
       "\n",
       "// Listen for the removal of the full notebook cells\n",
       "var notebookContainer = gd.closest('#notebook-container');\n",
       "if (notebookContainer) {{\n",
       "    x.observe(notebookContainer, {childList: true});\n",
       "}}\n",
       "\n",
       "// Listen for the clearing of the current output cell\n",
       "var outputEl = gd.closest('.output');\n",
       "if (outputEl) {{\n",
       "    x.observe(outputEl, {childList: true});\n",
       "}}\n",
       "\n",
       "                        })\n",
       "                };\n",
       "                });\n",
       "            </script>\n",
       "        </div>"
      ]
     },
     "metadata": {},
     "output_type": "display_data"
    }
   ],
   "source": [
    "fig = go.Figure()\n",
    "fig.add_trace(go.Scatter(x=kerala['Date'], y = kerala['Total Active'], mode='lines+markers',name='Kerala'))\n",
    "fig.add_trace(go.Scatter(x=mh['Date'], y = mh['Total Active'], mode='lines+markers',name='Maharashtra'))\n",
    "fig.add_trace(go.Scatter(x=wb['Date'], y = wb['Total Active'], mode='lines+markers',name='West Bengal'))\n",
    "fig.add_trace(go.Scatter(x=DL['Date'], y = DL['Total Active'], mode='lines+markers',name='Delhi'))\n",
    "fig.update_layout(title_text='Total Active Coronavirus Cases in India (Cumulative cases)',plot_bgcolor='rgb(230, 230, 230)')\n",
    "fig.show()"
   ]
  },
  {
   "cell_type": "code",
   "execution_count": 44,
   "metadata": {},
   "outputs": [
    {
     "data": {
      "application/vnd.plotly.v1+json": {
       "config": {
        "plotlyServerURL": "https://plot.ly"
       },
       "data": [
        {
         "mode": "lines+markers",
         "name": "Kerala",
         "type": "scatter",
         "x": [
          "30/01/20",
          "31/01/20",
          "01/02/20",
          "02/02/20",
          "03/02/20",
          "04/02/20",
          "05/02/20",
          "06/02/20",
          "07/02/20",
          "08/02/20",
          "09/02/20",
          "10/02/20",
          "11/02/20",
          "12/02/20",
          "13/02/20",
          "14/02/20",
          "15/02/20",
          "16/02/20",
          "17/02/20",
          "18/02/20",
          "19/02/20",
          "20/02/20",
          "21/02/20",
          "22/02/20",
          "23/02/20",
          "24/02/20",
          "25/02/20",
          "26/02/20",
          "27/02/20",
          "28/02/20",
          "29/02/20",
          "01/03/20",
          "02/03/20",
          "03/03/20",
          "04/03/20",
          "05/03/20",
          "06/03/20",
          "07/03/20",
          "08/03/20",
          "09/03/20",
          "10/03/20",
          "11/03/20",
          "12/03/20",
          "13/03/20",
          "14/03/20",
          "15/03/20",
          "16/03/20",
          "17/03/20",
          "18/03/20",
          "19/03/20",
          "20/03/20",
          "21/03/20",
          "22/03/20",
          "23/03/20",
          "24/03/20",
          "25/03/20",
          "26/03/20",
          "27/03/20",
          "28/03/20",
          "29/03/20",
          "30/03/20",
          "31/03/20",
          "01/04/20",
          "02/04/20",
          "03/04/20",
          "04/04/20",
          "05/04/20",
          "06/04/20",
          "07/04/20",
          "08/04/20",
          "09/04/20",
          "10/04/20",
          "11/04/20",
          "12/04/20",
          "13/04/20",
          "14/04/20",
          "15/04/20",
          "16/04/20",
          "17/04/20",
          "18/04/20",
          "19/04/20",
          "20/04/20",
          "21/04/20",
          "22/04/20",
          "23/04/20",
          "24/04/20",
          "25/04/20",
          "26/04/20",
          "27/04/20",
          "28/04/20",
          "29/04/20",
          "30/04/20",
          "01/05/20"
         ],
         "y": [
          2,
          2,
          4,
          6,
          6,
          6,
          6,
          6,
          6,
          6,
          6,
          6,
          6,
          6,
          6,
          6,
          6,
          6,
          6,
          6,
          6,
          6,
          6,
          6,
          6,
          6,
          6,
          6,
          6,
          6,
          6,
          6,
          6,
          6,
          6,
          6,
          6,
          6,
          16,
          18,
          30,
          34,
          34,
          38,
          38,
          44,
          46,
          52,
          54,
          54,
          56,
          80,
          104,
          134,
          190,
          218,
          236,
          274,
          352,
          182,
          202,
          234,
          241,
          265,
          286,
          295,
          306,
          314,
          327,
          336,
          345,
          357,
          364,
          374,
          376,
          379,
          387,
          388,
          395,
          396,
          400,
          402,
          408,
          427,
          438,
          448,
          451,
          458,
          469,
          482,
          486,
          496,
          497
         ]
        },
        {
         "mode": "lines+markers",
         "name": "Maharashtra",
         "type": "scatter",
         "x": [
          "09/03/20",
          "10/03/20",
          "11/03/20",
          "12/03/20",
          "13/03/20",
          "14/03/20",
          "15/03/20",
          "16/03/20",
          "17/03/20",
          "18/03/20",
          "19/03/20",
          "20/03/20",
          "21/03/20",
          "22/03/20",
          "23/03/20",
          "24/03/20",
          "25/03/20",
          "26/03/20",
          "27/03/20",
          "28/03/20",
          "29/03/20",
          "30/03/20",
          "31/03/20",
          "01/04/20",
          "02/04/20",
          "03/04/20",
          "04/04/20",
          "05/04/20",
          "06/04/20",
          "07/04/20",
          "08/04/20",
          "09/04/20",
          "10/04/20",
          "11/04/20",
          "12/04/20",
          "13/04/20",
          "14/04/20",
          "15/04/20",
          "16/04/20",
          "17/04/20",
          "18/04/20",
          "19/04/20",
          "20/04/20",
          "21/04/20",
          "22/04/20",
          "23/04/20",
          "24/04/20",
          "25/04/20",
          "26/04/20",
          "27/04/20",
          "28/04/20",
          "29/04/20",
          "30/04/20",
          "01/05/20"
         ],
         "y": [
          4,
          10,
          4,
          22,
          28,
          28,
          64,
          64,
          78,
          84,
          94,
          104,
          126,
          134,
          148,
          178,
          256,
          248,
          260,
          360,
          186,
          198,
          216,
          302,
          335,
          335,
          490,
          490,
          748,
          868,
          1018,
          1135,
          1364,
          1574,
          1761,
          1985,
          2337,
          2687,
          2919,
          3205,
          3323,
          3651,
          4203,
          4669,
          5221,
          5652,
          6430,
          6817,
          7628,
          8068,
          8590,
          9318,
          9915,
          10498
         ]
        },
        {
         "mode": "lines+markers",
         "name": "West Bengal",
         "type": "scatter",
         "x": [
          "18/03/20",
          "19/03/20",
          "20/03/20",
          "21/03/20",
          "22/03/20",
          "23/03/20",
          "24/03/20",
          "25/03/20",
          "26/03/20",
          "27/03/20",
          "28/03/20",
          "29/03/20",
          "30/03/20",
          "31/03/20",
          "01/04/20",
          "02/04/20",
          "03/04/20",
          "04/04/20",
          "05/04/20",
          "06/04/20",
          "07/04/20",
          "08/04/20",
          "09/04/20",
          "10/04/20",
          "11/04/20",
          "12/04/20",
          "13/04/20",
          "14/04/20",
          "15/04/20",
          "16/04/20",
          "17/04/20",
          "18/04/20",
          "19/04/20",
          "20/04/20",
          "21/04/20",
          "22/04/20",
          "23/04/20",
          "24/04/20",
          "25/04/20",
          "26/04/20",
          "27/04/20",
          "28/04/20",
          "29/04/20",
          "30/04/20",
          "01/05/20"
         ],
         "y": [
          2,
          2,
          4,
          6,
          8,
          14,
          18,
          18,
          20,
          20,
          30,
          18,
          22,
          26,
          37,
          53,
          63,
          69,
          80,
          80,
          91,
          99,
          103,
          116,
          126,
          134,
          152,
          190,
          213,
          231,
          255,
          287,
          310,
          339,
          392,
          423,
          456,
          514,
          571,
          611,
          649,
          697,
          725,
          758,
          795
         ]
        },
        {
         "mode": "lines+markers",
         "name": "Delhi",
         "type": "scatter",
         "x": [
          "02/03/20",
          "03/03/20",
          "04/03/20",
          "05/03/20",
          "06/03/20",
          "07/03/20",
          "08/03/20",
          "09/03/20",
          "10/03/20",
          "11/03/20",
          "12/03/20",
          "13/03/20",
          "14/03/20",
          "15/03/20",
          "16/03/20",
          "17/03/20",
          "18/03/20",
          "19/03/20",
          "20/03/20",
          "21/03/20",
          "22/03/20",
          "23/03/20",
          "24/03/20",
          "25/03/20",
          "26/03/20",
          "27/03/20",
          "28/03/20",
          "29/03/20",
          "30/03/20",
          "31/03/20",
          "01/04/20",
          "02/04/20",
          "03/04/20",
          "04/04/20",
          "05/04/20",
          "06/04/20",
          "07/04/20",
          "08/04/20",
          "09/04/20",
          "10/04/20",
          "11/04/20",
          "12/04/20",
          "13/04/20",
          "14/04/20",
          "15/04/20",
          "16/04/20",
          "17/04/20",
          "18/04/20",
          "19/04/20",
          "20/04/20",
          "21/04/20",
          "22/04/20",
          "23/04/20",
          "24/04/20",
          "25/04/20",
          "26/04/20",
          "27/04/20",
          "28/04/20",
          "29/04/20",
          "30/04/20",
          "01/05/20"
         ],
         "y": [
          2,
          2,
          2,
          4,
          6,
          6,
          6,
          8,
          8,
          10,
          12,
          12,
          14,
          14,
          14,
          16,
          20,
          24,
          34,
          52,
          58,
          58,
          60,
          62,
          72,
          72,
          78,
          49,
          87,
          97,
          152,
          219,
          219,
          445,
          503,
          523,
          576,
          576,
          669,
          898,
          903,
          1069,
          1154,
          1510,
          1561,
          1578,
          1640,
          1707,
          1893,
          2003,
          2081,
          2156,
          2248,
          2376,
          2514,
          2625,
          2918,
          3108,
          3314,
          3439,
          3515
         ]
        }
       ],
       "layout": {
        "plot_bgcolor": "rgb(240, 230, 230)",
        "template": {
         "data": {
          "bar": [
           {
            "error_x": {
             "color": "#2a3f5f"
            },
            "error_y": {
             "color": "#2a3f5f"
            },
            "marker": {
             "line": {
              "color": "#E5ECF6",
              "width": 0.5
             }
            },
            "type": "bar"
           }
          ],
          "barpolar": [
           {
            "marker": {
             "line": {
              "color": "#E5ECF6",
              "width": 0.5
             }
            },
            "type": "barpolar"
           }
          ],
          "carpet": [
           {
            "aaxis": {
             "endlinecolor": "#2a3f5f",
             "gridcolor": "white",
             "linecolor": "white",
             "minorgridcolor": "white",
             "startlinecolor": "#2a3f5f"
            },
            "baxis": {
             "endlinecolor": "#2a3f5f",
             "gridcolor": "white",
             "linecolor": "white",
             "minorgridcolor": "white",
             "startlinecolor": "#2a3f5f"
            },
            "type": "carpet"
           }
          ],
          "choropleth": [
           {
            "colorbar": {
             "outlinewidth": 0,
             "ticks": ""
            },
            "type": "choropleth"
           }
          ],
          "contour": [
           {
            "colorbar": {
             "outlinewidth": 0,
             "ticks": ""
            },
            "colorscale": [
             [
              0,
              "#0d0887"
             ],
             [
              0.1111111111111111,
              "#46039f"
             ],
             [
              0.2222222222222222,
              "#7201a8"
             ],
             [
              0.3333333333333333,
              "#9c179e"
             ],
             [
              0.4444444444444444,
              "#bd3786"
             ],
             [
              0.5555555555555556,
              "#d8576b"
             ],
             [
              0.6666666666666666,
              "#ed7953"
             ],
             [
              0.7777777777777778,
              "#fb9f3a"
             ],
             [
              0.8888888888888888,
              "#fdca26"
             ],
             [
              1,
              "#f0f921"
             ]
            ],
            "type": "contour"
           }
          ],
          "contourcarpet": [
           {
            "colorbar": {
             "outlinewidth": 0,
             "ticks": ""
            },
            "type": "contourcarpet"
           }
          ],
          "heatmap": [
           {
            "colorbar": {
             "outlinewidth": 0,
             "ticks": ""
            },
            "colorscale": [
             [
              0,
              "#0d0887"
             ],
             [
              0.1111111111111111,
              "#46039f"
             ],
             [
              0.2222222222222222,
              "#7201a8"
             ],
             [
              0.3333333333333333,
              "#9c179e"
             ],
             [
              0.4444444444444444,
              "#bd3786"
             ],
             [
              0.5555555555555556,
              "#d8576b"
             ],
             [
              0.6666666666666666,
              "#ed7953"
             ],
             [
              0.7777777777777778,
              "#fb9f3a"
             ],
             [
              0.8888888888888888,
              "#fdca26"
             ],
             [
              1,
              "#f0f921"
             ]
            ],
            "type": "heatmap"
           }
          ],
          "heatmapgl": [
           {
            "colorbar": {
             "outlinewidth": 0,
             "ticks": ""
            },
            "colorscale": [
             [
              0,
              "#0d0887"
             ],
             [
              0.1111111111111111,
              "#46039f"
             ],
             [
              0.2222222222222222,
              "#7201a8"
             ],
             [
              0.3333333333333333,
              "#9c179e"
             ],
             [
              0.4444444444444444,
              "#bd3786"
             ],
             [
              0.5555555555555556,
              "#d8576b"
             ],
             [
              0.6666666666666666,
              "#ed7953"
             ],
             [
              0.7777777777777778,
              "#fb9f3a"
             ],
             [
              0.8888888888888888,
              "#fdca26"
             ],
             [
              1,
              "#f0f921"
             ]
            ],
            "type": "heatmapgl"
           }
          ],
          "histogram": [
           {
            "marker": {
             "colorbar": {
              "outlinewidth": 0,
              "ticks": ""
             }
            },
            "type": "histogram"
           }
          ],
          "histogram2d": [
           {
            "colorbar": {
             "outlinewidth": 0,
             "ticks": ""
            },
            "colorscale": [
             [
              0,
              "#0d0887"
             ],
             [
              0.1111111111111111,
              "#46039f"
             ],
             [
              0.2222222222222222,
              "#7201a8"
             ],
             [
              0.3333333333333333,
              "#9c179e"
             ],
             [
              0.4444444444444444,
              "#bd3786"
             ],
             [
              0.5555555555555556,
              "#d8576b"
             ],
             [
              0.6666666666666666,
              "#ed7953"
             ],
             [
              0.7777777777777778,
              "#fb9f3a"
             ],
             [
              0.8888888888888888,
              "#fdca26"
             ],
             [
              1,
              "#f0f921"
             ]
            ],
            "type": "histogram2d"
           }
          ],
          "histogram2dcontour": [
           {
            "colorbar": {
             "outlinewidth": 0,
             "ticks": ""
            },
            "colorscale": [
             [
              0,
              "#0d0887"
             ],
             [
              0.1111111111111111,
              "#46039f"
             ],
             [
              0.2222222222222222,
              "#7201a8"
             ],
             [
              0.3333333333333333,
              "#9c179e"
             ],
             [
              0.4444444444444444,
              "#bd3786"
             ],
             [
              0.5555555555555556,
              "#d8576b"
             ],
             [
              0.6666666666666666,
              "#ed7953"
             ],
             [
              0.7777777777777778,
              "#fb9f3a"
             ],
             [
              0.8888888888888888,
              "#fdca26"
             ],
             [
              1,
              "#f0f921"
             ]
            ],
            "type": "histogram2dcontour"
           }
          ],
          "mesh3d": [
           {
            "colorbar": {
             "outlinewidth": 0,
             "ticks": ""
            },
            "type": "mesh3d"
           }
          ],
          "parcoords": [
           {
            "line": {
             "colorbar": {
              "outlinewidth": 0,
              "ticks": ""
             }
            },
            "type": "parcoords"
           }
          ],
          "pie": [
           {
            "automargin": true,
            "type": "pie"
           }
          ],
          "scatter": [
           {
            "marker": {
             "colorbar": {
              "outlinewidth": 0,
              "ticks": ""
             }
            },
            "type": "scatter"
           }
          ],
          "scatter3d": [
           {
            "line": {
             "colorbar": {
              "outlinewidth": 0,
              "ticks": ""
             }
            },
            "marker": {
             "colorbar": {
              "outlinewidth": 0,
              "ticks": ""
             }
            },
            "type": "scatter3d"
           }
          ],
          "scattercarpet": [
           {
            "marker": {
             "colorbar": {
              "outlinewidth": 0,
              "ticks": ""
             }
            },
            "type": "scattercarpet"
           }
          ],
          "scattergeo": [
           {
            "marker": {
             "colorbar": {
              "outlinewidth": 0,
              "ticks": ""
             }
            },
            "type": "scattergeo"
           }
          ],
          "scattergl": [
           {
            "marker": {
             "colorbar": {
              "outlinewidth": 0,
              "ticks": ""
             }
            },
            "type": "scattergl"
           }
          ],
          "scattermapbox": [
           {
            "marker": {
             "colorbar": {
              "outlinewidth": 0,
              "ticks": ""
             }
            },
            "type": "scattermapbox"
           }
          ],
          "scatterpolar": [
           {
            "marker": {
             "colorbar": {
              "outlinewidth": 0,
              "ticks": ""
             }
            },
            "type": "scatterpolar"
           }
          ],
          "scatterpolargl": [
           {
            "marker": {
             "colorbar": {
              "outlinewidth": 0,
              "ticks": ""
             }
            },
            "type": "scatterpolargl"
           }
          ],
          "scatterternary": [
           {
            "marker": {
             "colorbar": {
              "outlinewidth": 0,
              "ticks": ""
             }
            },
            "type": "scatterternary"
           }
          ],
          "surface": [
           {
            "colorbar": {
             "outlinewidth": 0,
             "ticks": ""
            },
            "colorscale": [
             [
              0,
              "#0d0887"
             ],
             [
              0.1111111111111111,
              "#46039f"
             ],
             [
              0.2222222222222222,
              "#7201a8"
             ],
             [
              0.3333333333333333,
              "#9c179e"
             ],
             [
              0.4444444444444444,
              "#bd3786"
             ],
             [
              0.5555555555555556,
              "#d8576b"
             ],
             [
              0.6666666666666666,
              "#ed7953"
             ],
             [
              0.7777777777777778,
              "#fb9f3a"
             ],
             [
              0.8888888888888888,
              "#fdca26"
             ],
             [
              1,
              "#f0f921"
             ]
            ],
            "type": "surface"
           }
          ],
          "table": [
           {
            "cells": {
             "fill": {
              "color": "#EBF0F8"
             },
             "line": {
              "color": "white"
             }
            },
            "header": {
             "fill": {
              "color": "#C8D4E3"
             },
             "line": {
              "color": "white"
             }
            },
            "type": "table"
           }
          ]
         },
         "layout": {
          "annotationdefaults": {
           "arrowcolor": "#2a3f5f",
           "arrowhead": 0,
           "arrowwidth": 1
          },
          "coloraxis": {
           "colorbar": {
            "outlinewidth": 0,
            "ticks": ""
           }
          },
          "colorscale": {
           "diverging": [
            [
             0,
             "#8e0152"
            ],
            [
             0.1,
             "#c51b7d"
            ],
            [
             0.2,
             "#de77ae"
            ],
            [
             0.3,
             "#f1b6da"
            ],
            [
             0.4,
             "#fde0ef"
            ],
            [
             0.5,
             "#f7f7f7"
            ],
            [
             0.6,
             "#e6f5d0"
            ],
            [
             0.7,
             "#b8e186"
            ],
            [
             0.8,
             "#7fbc41"
            ],
            [
             0.9,
             "#4d9221"
            ],
            [
             1,
             "#276419"
            ]
           ],
           "sequential": [
            [
             0,
             "#0d0887"
            ],
            [
             0.1111111111111111,
             "#46039f"
            ],
            [
             0.2222222222222222,
             "#7201a8"
            ],
            [
             0.3333333333333333,
             "#9c179e"
            ],
            [
             0.4444444444444444,
             "#bd3786"
            ],
            [
             0.5555555555555556,
             "#d8576b"
            ],
            [
             0.6666666666666666,
             "#ed7953"
            ],
            [
             0.7777777777777778,
             "#fb9f3a"
            ],
            [
             0.8888888888888888,
             "#fdca26"
            ],
            [
             1,
             "#f0f921"
            ]
           ],
           "sequentialminus": [
            [
             0,
             "#0d0887"
            ],
            [
             0.1111111111111111,
             "#46039f"
            ],
            [
             0.2222222222222222,
             "#7201a8"
            ],
            [
             0.3333333333333333,
             "#9c179e"
            ],
            [
             0.4444444444444444,
             "#bd3786"
            ],
            [
             0.5555555555555556,
             "#d8576b"
            ],
            [
             0.6666666666666666,
             "#ed7953"
            ],
            [
             0.7777777777777778,
             "#fb9f3a"
            ],
            [
             0.8888888888888888,
             "#fdca26"
            ],
            [
             1,
             "#f0f921"
            ]
           ]
          },
          "colorway": [
           "#636efa",
           "#EF553B",
           "#00cc96",
           "#ab63fa",
           "#FFA15A",
           "#19d3f3",
           "#FF6692",
           "#B6E880",
           "#FF97FF",
           "#FECB52"
          ],
          "font": {
           "color": "#2a3f5f"
          },
          "geo": {
           "bgcolor": "white",
           "lakecolor": "white",
           "landcolor": "#E5ECF6",
           "showlakes": true,
           "showland": true,
           "subunitcolor": "white"
          },
          "hoverlabel": {
           "align": "left"
          },
          "hovermode": "closest",
          "mapbox": {
           "style": "light"
          },
          "paper_bgcolor": "white",
          "plot_bgcolor": "#E5ECF6",
          "polar": {
           "angularaxis": {
            "gridcolor": "white",
            "linecolor": "white",
            "ticks": ""
           },
           "bgcolor": "#E5ECF6",
           "radialaxis": {
            "gridcolor": "white",
            "linecolor": "white",
            "ticks": ""
           }
          },
          "scene": {
           "xaxis": {
            "backgroundcolor": "#E5ECF6",
            "gridcolor": "white",
            "gridwidth": 2,
            "linecolor": "white",
            "showbackground": true,
            "ticks": "",
            "zerolinecolor": "white"
           },
           "yaxis": {
            "backgroundcolor": "#E5ECF6",
            "gridcolor": "white",
            "gridwidth": 2,
            "linecolor": "white",
            "showbackground": true,
            "ticks": "",
            "zerolinecolor": "white"
           },
           "zaxis": {
            "backgroundcolor": "#E5ECF6",
            "gridcolor": "white",
            "gridwidth": 2,
            "linecolor": "white",
            "showbackground": true,
            "ticks": "",
            "zerolinecolor": "white"
           }
          },
          "shapedefaults": {
           "line": {
            "color": "#2a3f5f"
           }
          },
          "ternary": {
           "aaxis": {
            "gridcolor": "white",
            "linecolor": "white",
            "ticks": ""
           },
           "baxis": {
            "gridcolor": "white",
            "linecolor": "white",
            "ticks": ""
           },
           "bgcolor": "#E5ECF6",
           "caxis": {
            "gridcolor": "white",
            "linecolor": "white",
            "ticks": ""
           }
          },
          "title": {
           "x": 0.05
          },
          "xaxis": {
           "automargin": true,
           "gridcolor": "white",
           "linecolor": "white",
           "ticks": "",
           "title": {
            "standoff": 15
           },
           "zerolinecolor": "white",
           "zerolinewidth": 2
          },
          "yaxis": {
           "automargin": true,
           "gridcolor": "white",
           "linecolor": "white",
           "ticks": "",
           "title": {
            "standoff": 15
           },
           "zerolinecolor": "white",
           "zerolinewidth": 2
          }
         }
        },
        "title": {
         "text": "Total Coronavirus Cases in India (Cumulative cases)"
        }
       }
      },
      "text/html": [
       "<div>\n",
       "        \n",
       "        \n",
       "            <div id=\"76024d27-aea9-4801-8a58-504509b55c39\" class=\"plotly-graph-div\" style=\"height:525px; width:100%;\"></div>\n",
       "            <script type=\"text/javascript\">\n",
       "                require([\"plotly\"], function(Plotly) {\n",
       "                    window.PLOTLYENV=window.PLOTLYENV || {};\n",
       "                    \n",
       "                if (document.getElementById(\"76024d27-aea9-4801-8a58-504509b55c39\")) {\n",
       "                    Plotly.newPlot(\n",
       "                        '76024d27-aea9-4801-8a58-504509b55c39',\n",
       "                        [{\"mode\": \"lines+markers\", \"name\": \"Kerala\", \"type\": \"scatter\", \"x\": [\"30/01/20\", \"31/01/20\", \"01/02/20\", \"02/02/20\", \"03/02/20\", \"04/02/20\", \"05/02/20\", \"06/02/20\", \"07/02/20\", \"08/02/20\", \"09/02/20\", \"10/02/20\", \"11/02/20\", \"12/02/20\", \"13/02/20\", \"14/02/20\", \"15/02/20\", \"16/02/20\", \"17/02/20\", \"18/02/20\", \"19/02/20\", \"20/02/20\", \"21/02/20\", \"22/02/20\", \"23/02/20\", \"24/02/20\", \"25/02/20\", \"26/02/20\", \"27/02/20\", \"28/02/20\", \"29/02/20\", \"01/03/20\", \"02/03/20\", \"03/03/20\", \"04/03/20\", \"05/03/20\", \"06/03/20\", \"07/03/20\", \"08/03/20\", \"09/03/20\", \"10/03/20\", \"11/03/20\", \"12/03/20\", \"13/03/20\", \"14/03/20\", \"15/03/20\", \"16/03/20\", \"17/03/20\", \"18/03/20\", \"19/03/20\", \"20/03/20\", \"21/03/20\", \"22/03/20\", \"23/03/20\", \"24/03/20\", \"25/03/20\", \"26/03/20\", \"27/03/20\", \"28/03/20\", \"29/03/20\", \"30/03/20\", \"31/03/20\", \"01/04/20\", \"02/04/20\", \"03/04/20\", \"04/04/20\", \"05/04/20\", \"06/04/20\", \"07/04/20\", \"08/04/20\", \"09/04/20\", \"10/04/20\", \"11/04/20\", \"12/04/20\", \"13/04/20\", \"14/04/20\", \"15/04/20\", \"16/04/20\", \"17/04/20\", \"18/04/20\", \"19/04/20\", \"20/04/20\", \"21/04/20\", \"22/04/20\", \"23/04/20\", \"24/04/20\", \"25/04/20\", \"26/04/20\", \"27/04/20\", \"28/04/20\", \"29/04/20\", \"30/04/20\", \"01/05/20\"], \"y\": [2, 2, 4, 6, 6, 6, 6, 6, 6, 6, 6, 6, 6, 6, 6, 6, 6, 6, 6, 6, 6, 6, 6, 6, 6, 6, 6, 6, 6, 6, 6, 6, 6, 6, 6, 6, 6, 6, 16, 18, 30, 34, 34, 38, 38, 44, 46, 52, 54, 54, 56, 80, 104, 134, 190, 218, 236, 274, 352, 182, 202, 234, 241, 265, 286, 295, 306, 314, 327, 336, 345, 357, 364, 374, 376, 379, 387, 388, 395, 396, 400, 402, 408, 427, 438, 448, 451, 458, 469, 482, 486, 496, 497]}, {\"mode\": \"lines+markers\", \"name\": \"Maharashtra\", \"type\": \"scatter\", \"x\": [\"09/03/20\", \"10/03/20\", \"11/03/20\", \"12/03/20\", \"13/03/20\", \"14/03/20\", \"15/03/20\", \"16/03/20\", \"17/03/20\", \"18/03/20\", \"19/03/20\", \"20/03/20\", \"21/03/20\", \"22/03/20\", \"23/03/20\", \"24/03/20\", \"25/03/20\", \"26/03/20\", \"27/03/20\", \"28/03/20\", \"29/03/20\", \"30/03/20\", \"31/03/20\", \"01/04/20\", \"02/04/20\", \"03/04/20\", \"04/04/20\", \"05/04/20\", \"06/04/20\", \"07/04/20\", \"08/04/20\", \"09/04/20\", \"10/04/20\", \"11/04/20\", \"12/04/20\", \"13/04/20\", \"14/04/20\", \"15/04/20\", \"16/04/20\", \"17/04/20\", \"18/04/20\", \"19/04/20\", \"20/04/20\", \"21/04/20\", \"22/04/20\", \"23/04/20\", \"24/04/20\", \"25/04/20\", \"26/04/20\", \"27/04/20\", \"28/04/20\", \"29/04/20\", \"30/04/20\", \"01/05/20\"], \"y\": [4, 10, 4, 22, 28, 28, 64, 64, 78, 84, 94, 104, 126, 134, 148, 178, 256, 248, 260, 360, 186, 198, 216, 302, 335, 335, 490, 490, 748, 868, 1018, 1135, 1364, 1574, 1761, 1985, 2337, 2687, 2919, 3205, 3323, 3651, 4203, 4669, 5221, 5652, 6430, 6817, 7628, 8068, 8590, 9318, 9915, 10498]}, {\"mode\": \"lines+markers\", \"name\": \"West Bengal\", \"type\": \"scatter\", \"x\": [\"18/03/20\", \"19/03/20\", \"20/03/20\", \"21/03/20\", \"22/03/20\", \"23/03/20\", \"24/03/20\", \"25/03/20\", \"26/03/20\", \"27/03/20\", \"28/03/20\", \"29/03/20\", \"30/03/20\", \"31/03/20\", \"01/04/20\", \"02/04/20\", \"03/04/20\", \"04/04/20\", \"05/04/20\", \"06/04/20\", \"07/04/20\", \"08/04/20\", \"09/04/20\", \"10/04/20\", \"11/04/20\", \"12/04/20\", \"13/04/20\", \"14/04/20\", \"15/04/20\", \"16/04/20\", \"17/04/20\", \"18/04/20\", \"19/04/20\", \"20/04/20\", \"21/04/20\", \"22/04/20\", \"23/04/20\", \"24/04/20\", \"25/04/20\", \"26/04/20\", \"27/04/20\", \"28/04/20\", \"29/04/20\", \"30/04/20\", \"01/05/20\"], \"y\": [2, 2, 4, 6, 8, 14, 18, 18, 20, 20, 30, 18, 22, 26, 37, 53, 63, 69, 80, 80, 91, 99, 103, 116, 126, 134, 152, 190, 213, 231, 255, 287, 310, 339, 392, 423, 456, 514, 571, 611, 649, 697, 725, 758, 795]}, {\"mode\": \"lines+markers\", \"name\": \"Delhi\", \"type\": \"scatter\", \"x\": [\"02/03/20\", \"03/03/20\", \"04/03/20\", \"05/03/20\", \"06/03/20\", \"07/03/20\", \"08/03/20\", \"09/03/20\", \"10/03/20\", \"11/03/20\", \"12/03/20\", \"13/03/20\", \"14/03/20\", \"15/03/20\", \"16/03/20\", \"17/03/20\", \"18/03/20\", \"19/03/20\", \"20/03/20\", \"21/03/20\", \"22/03/20\", \"23/03/20\", \"24/03/20\", \"25/03/20\", \"26/03/20\", \"27/03/20\", \"28/03/20\", \"29/03/20\", \"30/03/20\", \"31/03/20\", \"01/04/20\", \"02/04/20\", \"03/04/20\", \"04/04/20\", \"05/04/20\", \"06/04/20\", \"07/04/20\", \"08/04/20\", \"09/04/20\", \"10/04/20\", \"11/04/20\", \"12/04/20\", \"13/04/20\", \"14/04/20\", \"15/04/20\", \"16/04/20\", \"17/04/20\", \"18/04/20\", \"19/04/20\", \"20/04/20\", \"21/04/20\", \"22/04/20\", \"23/04/20\", \"24/04/20\", \"25/04/20\", \"26/04/20\", \"27/04/20\", \"28/04/20\", \"29/04/20\", \"30/04/20\", \"01/05/20\"], \"y\": [2, 2, 2, 4, 6, 6, 6, 8, 8, 10, 12, 12, 14, 14, 14, 16, 20, 24, 34, 52, 58, 58, 60, 62, 72, 72, 78, 49, 87, 97, 152, 219, 219, 445, 503, 523, 576, 576, 669, 898, 903, 1069, 1154, 1510, 1561, 1578, 1640, 1707, 1893, 2003, 2081, 2156, 2248, 2376, 2514, 2625, 2918, 3108, 3314, 3439, 3515]}],\n",
       "                        {\"plot_bgcolor\": \"rgb(240, 230, 230)\", \"template\": {\"data\": {\"bar\": [{\"error_x\": {\"color\": \"#2a3f5f\"}, \"error_y\": {\"color\": \"#2a3f5f\"}, \"marker\": {\"line\": {\"color\": \"#E5ECF6\", \"width\": 0.5}}, \"type\": \"bar\"}], \"barpolar\": [{\"marker\": {\"line\": {\"color\": \"#E5ECF6\", \"width\": 0.5}}, \"type\": \"barpolar\"}], \"carpet\": [{\"aaxis\": {\"endlinecolor\": \"#2a3f5f\", \"gridcolor\": \"white\", \"linecolor\": \"white\", \"minorgridcolor\": \"white\", \"startlinecolor\": \"#2a3f5f\"}, \"baxis\": {\"endlinecolor\": \"#2a3f5f\", \"gridcolor\": \"white\", \"linecolor\": \"white\", \"minorgridcolor\": \"white\", \"startlinecolor\": \"#2a3f5f\"}, \"type\": \"carpet\"}], \"choropleth\": [{\"colorbar\": {\"outlinewidth\": 0, \"ticks\": \"\"}, \"type\": \"choropleth\"}], \"contour\": [{\"colorbar\": {\"outlinewidth\": 0, \"ticks\": \"\"}, \"colorscale\": [[0.0, \"#0d0887\"], [0.1111111111111111, \"#46039f\"], [0.2222222222222222, \"#7201a8\"], [0.3333333333333333, \"#9c179e\"], [0.4444444444444444, \"#bd3786\"], [0.5555555555555556, \"#d8576b\"], [0.6666666666666666, \"#ed7953\"], [0.7777777777777778, \"#fb9f3a\"], [0.8888888888888888, \"#fdca26\"], [1.0, \"#f0f921\"]], \"type\": \"contour\"}], \"contourcarpet\": [{\"colorbar\": {\"outlinewidth\": 0, \"ticks\": \"\"}, \"type\": \"contourcarpet\"}], \"heatmap\": [{\"colorbar\": {\"outlinewidth\": 0, \"ticks\": \"\"}, \"colorscale\": [[0.0, \"#0d0887\"], [0.1111111111111111, \"#46039f\"], [0.2222222222222222, \"#7201a8\"], [0.3333333333333333, \"#9c179e\"], [0.4444444444444444, \"#bd3786\"], [0.5555555555555556, \"#d8576b\"], [0.6666666666666666, \"#ed7953\"], [0.7777777777777778, \"#fb9f3a\"], [0.8888888888888888, \"#fdca26\"], [1.0, \"#f0f921\"]], \"type\": \"heatmap\"}], \"heatmapgl\": [{\"colorbar\": {\"outlinewidth\": 0, \"ticks\": \"\"}, \"colorscale\": [[0.0, \"#0d0887\"], [0.1111111111111111, \"#46039f\"], [0.2222222222222222, \"#7201a8\"], [0.3333333333333333, \"#9c179e\"], [0.4444444444444444, \"#bd3786\"], [0.5555555555555556, \"#d8576b\"], [0.6666666666666666, \"#ed7953\"], [0.7777777777777778, \"#fb9f3a\"], [0.8888888888888888, \"#fdca26\"], [1.0, \"#f0f921\"]], \"type\": \"heatmapgl\"}], \"histogram\": [{\"marker\": {\"colorbar\": {\"outlinewidth\": 0, \"ticks\": \"\"}}, \"type\": \"histogram\"}], \"histogram2d\": [{\"colorbar\": {\"outlinewidth\": 0, \"ticks\": \"\"}, \"colorscale\": [[0.0, \"#0d0887\"], [0.1111111111111111, \"#46039f\"], [0.2222222222222222, \"#7201a8\"], [0.3333333333333333, \"#9c179e\"], [0.4444444444444444, \"#bd3786\"], [0.5555555555555556, \"#d8576b\"], [0.6666666666666666, \"#ed7953\"], [0.7777777777777778, \"#fb9f3a\"], [0.8888888888888888, \"#fdca26\"], [1.0, \"#f0f921\"]], \"type\": \"histogram2d\"}], \"histogram2dcontour\": [{\"colorbar\": {\"outlinewidth\": 0, \"ticks\": \"\"}, \"colorscale\": [[0.0, \"#0d0887\"], [0.1111111111111111, \"#46039f\"], [0.2222222222222222, \"#7201a8\"], [0.3333333333333333, \"#9c179e\"], [0.4444444444444444, \"#bd3786\"], [0.5555555555555556, \"#d8576b\"], [0.6666666666666666, \"#ed7953\"], [0.7777777777777778, \"#fb9f3a\"], [0.8888888888888888, \"#fdca26\"], [1.0, \"#f0f921\"]], \"type\": \"histogram2dcontour\"}], \"mesh3d\": [{\"colorbar\": {\"outlinewidth\": 0, \"ticks\": \"\"}, \"type\": \"mesh3d\"}], \"parcoords\": [{\"line\": {\"colorbar\": {\"outlinewidth\": 0, \"ticks\": \"\"}}, \"type\": \"parcoords\"}], \"pie\": [{\"automargin\": true, \"type\": \"pie\"}], \"scatter\": [{\"marker\": {\"colorbar\": {\"outlinewidth\": 0, \"ticks\": \"\"}}, \"type\": \"scatter\"}], \"scatter3d\": [{\"line\": {\"colorbar\": {\"outlinewidth\": 0, \"ticks\": \"\"}}, \"marker\": {\"colorbar\": {\"outlinewidth\": 0, \"ticks\": \"\"}}, \"type\": \"scatter3d\"}], \"scattercarpet\": [{\"marker\": {\"colorbar\": {\"outlinewidth\": 0, \"ticks\": \"\"}}, \"type\": \"scattercarpet\"}], \"scattergeo\": [{\"marker\": {\"colorbar\": {\"outlinewidth\": 0, \"ticks\": \"\"}}, \"type\": \"scattergeo\"}], \"scattergl\": [{\"marker\": {\"colorbar\": {\"outlinewidth\": 0, \"ticks\": \"\"}}, \"type\": \"scattergl\"}], \"scattermapbox\": [{\"marker\": {\"colorbar\": {\"outlinewidth\": 0, \"ticks\": \"\"}}, \"type\": \"scattermapbox\"}], \"scatterpolar\": [{\"marker\": {\"colorbar\": {\"outlinewidth\": 0, \"ticks\": \"\"}}, \"type\": \"scatterpolar\"}], \"scatterpolargl\": [{\"marker\": {\"colorbar\": {\"outlinewidth\": 0, \"ticks\": \"\"}}, \"type\": \"scatterpolargl\"}], \"scatterternary\": [{\"marker\": {\"colorbar\": {\"outlinewidth\": 0, \"ticks\": \"\"}}, \"type\": \"scatterternary\"}], \"surface\": [{\"colorbar\": {\"outlinewidth\": 0, \"ticks\": \"\"}, \"colorscale\": [[0.0, \"#0d0887\"], [0.1111111111111111, \"#46039f\"], [0.2222222222222222, \"#7201a8\"], [0.3333333333333333, \"#9c179e\"], [0.4444444444444444, \"#bd3786\"], [0.5555555555555556, \"#d8576b\"], [0.6666666666666666, \"#ed7953\"], [0.7777777777777778, \"#fb9f3a\"], [0.8888888888888888, \"#fdca26\"], [1.0, \"#f0f921\"]], \"type\": \"surface\"}], \"table\": [{\"cells\": {\"fill\": {\"color\": \"#EBF0F8\"}, \"line\": {\"color\": \"white\"}}, \"header\": {\"fill\": {\"color\": \"#C8D4E3\"}, \"line\": {\"color\": \"white\"}}, \"type\": \"table\"}]}, \"layout\": {\"annotationdefaults\": {\"arrowcolor\": \"#2a3f5f\", \"arrowhead\": 0, \"arrowwidth\": 1}, \"coloraxis\": {\"colorbar\": {\"outlinewidth\": 0, \"ticks\": \"\"}}, \"colorscale\": {\"diverging\": [[0, \"#8e0152\"], [0.1, \"#c51b7d\"], [0.2, \"#de77ae\"], [0.3, \"#f1b6da\"], [0.4, \"#fde0ef\"], [0.5, \"#f7f7f7\"], [0.6, \"#e6f5d0\"], [0.7, \"#b8e186\"], [0.8, \"#7fbc41\"], [0.9, \"#4d9221\"], [1, \"#276419\"]], \"sequential\": [[0.0, \"#0d0887\"], [0.1111111111111111, \"#46039f\"], [0.2222222222222222, \"#7201a8\"], [0.3333333333333333, \"#9c179e\"], [0.4444444444444444, \"#bd3786\"], [0.5555555555555556, \"#d8576b\"], [0.6666666666666666, \"#ed7953\"], [0.7777777777777778, \"#fb9f3a\"], [0.8888888888888888, \"#fdca26\"], [1.0, \"#f0f921\"]], \"sequentialminus\": [[0.0, \"#0d0887\"], [0.1111111111111111, \"#46039f\"], [0.2222222222222222, \"#7201a8\"], [0.3333333333333333, \"#9c179e\"], [0.4444444444444444, \"#bd3786\"], [0.5555555555555556, \"#d8576b\"], [0.6666666666666666, \"#ed7953\"], [0.7777777777777778, \"#fb9f3a\"], [0.8888888888888888, \"#fdca26\"], [1.0, \"#f0f921\"]]}, \"colorway\": [\"#636efa\", \"#EF553B\", \"#00cc96\", \"#ab63fa\", \"#FFA15A\", \"#19d3f3\", \"#FF6692\", \"#B6E880\", \"#FF97FF\", \"#FECB52\"], \"font\": {\"color\": \"#2a3f5f\"}, \"geo\": {\"bgcolor\": \"white\", \"lakecolor\": \"white\", \"landcolor\": \"#E5ECF6\", \"showlakes\": true, \"showland\": true, \"subunitcolor\": \"white\"}, \"hoverlabel\": {\"align\": \"left\"}, \"hovermode\": \"closest\", \"mapbox\": {\"style\": \"light\"}, \"paper_bgcolor\": \"white\", \"plot_bgcolor\": \"#E5ECF6\", \"polar\": {\"angularaxis\": {\"gridcolor\": \"white\", \"linecolor\": \"white\", \"ticks\": \"\"}, \"bgcolor\": \"#E5ECF6\", \"radialaxis\": {\"gridcolor\": \"white\", \"linecolor\": \"white\", \"ticks\": \"\"}}, \"scene\": {\"xaxis\": {\"backgroundcolor\": \"#E5ECF6\", \"gridcolor\": \"white\", \"gridwidth\": 2, \"linecolor\": \"white\", \"showbackground\": true, \"ticks\": \"\", \"zerolinecolor\": \"white\"}, \"yaxis\": {\"backgroundcolor\": \"#E5ECF6\", \"gridcolor\": \"white\", \"gridwidth\": 2, \"linecolor\": \"white\", \"showbackground\": true, \"ticks\": \"\", \"zerolinecolor\": \"white\"}, \"zaxis\": {\"backgroundcolor\": \"#E5ECF6\", \"gridcolor\": \"white\", \"gridwidth\": 2, \"linecolor\": \"white\", \"showbackground\": true, \"ticks\": \"\", \"zerolinecolor\": \"white\"}}, \"shapedefaults\": {\"line\": {\"color\": \"#2a3f5f\"}}, \"ternary\": {\"aaxis\": {\"gridcolor\": \"white\", \"linecolor\": \"white\", \"ticks\": \"\"}, \"baxis\": {\"gridcolor\": \"white\", \"linecolor\": \"white\", \"ticks\": \"\"}, \"bgcolor\": \"#E5ECF6\", \"caxis\": {\"gridcolor\": \"white\", \"linecolor\": \"white\", \"ticks\": \"\"}}, \"title\": {\"x\": 0.05}, \"xaxis\": {\"automargin\": true, \"gridcolor\": \"white\", \"linecolor\": \"white\", \"ticks\": \"\", \"title\": {\"standoff\": 15}, \"zerolinecolor\": \"white\", \"zerolinewidth\": 2}, \"yaxis\": {\"automargin\": true, \"gridcolor\": \"white\", \"linecolor\": \"white\", \"ticks\": \"\", \"title\": {\"standoff\": 15}, \"zerolinecolor\": \"white\", \"zerolinewidth\": 2}}}, \"title\": {\"text\": \"Total Coronavirus Cases in India (Cumulative cases)\"}},\n",
       "                        {\"responsive\": true}\n",
       "                    ).then(function(){\n",
       "                            \n",
       "var gd = document.getElementById('76024d27-aea9-4801-8a58-504509b55c39');\n",
       "var x = new MutationObserver(function (mutations, observer) {{\n",
       "        var display = window.getComputedStyle(gd).display;\n",
       "        if (!display || display === 'none') {{\n",
       "            console.log([gd, 'removed!']);\n",
       "            Plotly.purge(gd);\n",
       "            observer.disconnect();\n",
       "        }}\n",
       "}});\n",
       "\n",
       "// Listen for the removal of the full notebook cells\n",
       "var notebookContainer = gd.closest('#notebook-container');\n",
       "if (notebookContainer) {{\n",
       "    x.observe(notebookContainer, {childList: true});\n",
       "}}\n",
       "\n",
       "// Listen for the clearing of the current output cell\n",
       "var outputEl = gd.closest('.output');\n",
       "if (outputEl) {{\n",
       "    x.observe(outputEl, {childList: true});\n",
       "}}\n",
       "\n",
       "                        })\n",
       "                };\n",
       "                });\n",
       "            </script>\n",
       "        </div>"
      ]
     },
     "metadata": {},
     "output_type": "display_data"
    }
   ],
   "source": [
    "fig = go.Figure()\n",
    "fig.add_trace(go.Scatter(x=kerala['Date'], y = kerala['Total cases'], mode='lines+markers',name='Kerala'))\n",
    "fig.add_trace(go.Scatter(x=mh['Date'], y = mh['Total cases'], mode='lines+markers',name='Maharashtra'))\n",
    "fig.add_trace(go.Scatter(x=wb['Date'], y = wb['Total cases'], mode='lines+markers',name='West Bengal'))\n",
    "fig.add_trace(go.Scatter(x=DL['Date'], y = DL['Total cases'], mode='lines+markers',name='Delhi'))\n",
    "fig.update_layout(title_text='Total Coronavirus Cases in India (Cumulative cases)',plot_bgcolor='rgb(240, 230, 230)')\n",
    "fig.show()"
   ]
  },
  {
   "cell_type": "code",
   "execution_count": 45,
   "metadata": {},
   "outputs": [
    {
     "data": {
      "application/vnd.plotly.v1+json": {
       "config": {
        "plotlyServerURL": "https://plot.ly"
       },
       "data": [
        {
         "mode": "lines+markers",
         "name": "Total Cases",
         "type": "scatter",
         "x": [
          "18/03/20",
          "19/03/20",
          "20/03/20",
          "21/03/20",
          "22/03/20",
          "23/03/20",
          "24/03/20",
          "25/03/20",
          "26/03/20",
          "27/03/20",
          "28/03/20",
          "29/03/20",
          "30/03/20",
          "31/03/20",
          "01/04/20",
          "02/04/20",
          "03/04/20",
          "04/04/20",
          "05/04/20",
          "06/04/20",
          "07/04/20",
          "08/04/20",
          "09/04/20",
          "10/04/20",
          "11/04/20",
          "12/04/20",
          "13/04/20",
          "14/04/20",
          "15/04/20",
          "16/04/20",
          "17/04/20",
          "18/04/20",
          "19/04/20",
          "20/04/20",
          "21/04/20",
          "22/04/20",
          "23/04/20",
          "24/04/20",
          "25/04/20",
          "26/04/20",
          "27/04/20",
          "28/04/20",
          "29/04/20",
          "30/04/20",
          "01/05/20"
         ],
         "y": [
          2,
          2,
          4,
          6,
          8,
          14,
          18,
          18,
          20,
          20,
          30,
          18,
          22,
          26,
          37,
          53,
          63,
          69,
          80,
          80,
          91,
          99,
          103,
          116,
          126,
          134,
          152,
          190,
          213,
          231,
          255,
          287,
          310,
          339,
          392,
          423,
          456,
          514,
          571,
          611,
          649,
          697,
          725,
          758,
          795
         ]
        },
        {
         "mode": "lines+markers",
         "name": "Total Active",
         "type": "scatter",
         "x": [
          "18/03/20",
          "19/03/20",
          "20/03/20",
          "21/03/20",
          "22/03/20",
          "23/03/20",
          "24/03/20",
          "25/03/20",
          "26/03/20",
          "27/03/20",
          "28/03/20",
          "29/03/20",
          "30/03/20",
          "31/03/20",
          "01/04/20",
          "02/04/20",
          "03/04/20",
          "04/04/20",
          "05/04/20",
          "06/04/20",
          "07/04/20",
          "08/04/20",
          "09/04/20",
          "10/04/20",
          "11/04/20",
          "12/04/20",
          "13/04/20",
          "14/04/20",
          "15/04/20",
          "16/04/20",
          "17/04/20",
          "18/04/20",
          "19/04/20",
          "20/04/20",
          "21/04/20",
          "22/04/20",
          "23/04/20",
          "24/04/20",
          "25/04/20",
          "26/04/20",
          "27/04/20",
          "28/04/20",
          "29/04/20",
          "30/04/20",
          "01/05/20"
         ],
         "y": [
          2,
          2,
          4,
          6,
          8,
          14,
          17,
          17,
          19,
          19,
          29,
          17,
          21,
          24,
          28,
          44,
          57,
          63,
          67,
          67,
          75,
          81,
          82,
          95,
          105,
          110,
          116,
          147,
          169,
          182,
          194,
          222,
          236,
          261,
          307,
          335,
          362,
          396,
          450,
          488,
          524,
          568,
          584,
          612,
          623
         ]
        },
        {
         "mode": "lines+markers",
         "name": "Total Cured",
         "type": "scatter",
         "x": [
          "18/03/20",
          "19/03/20",
          "20/03/20",
          "21/03/20",
          "22/03/20",
          "23/03/20",
          "24/03/20",
          "25/03/20",
          "26/03/20",
          "27/03/20",
          "28/03/20",
          "29/03/20",
          "30/03/20",
          "31/03/20",
          "01/04/20",
          "02/04/20",
          "03/04/20",
          "04/04/20",
          "05/04/20",
          "06/04/20",
          "07/04/20",
          "08/04/20",
          "09/04/20",
          "10/04/20",
          "11/04/20",
          "12/04/20",
          "13/04/20",
          "14/04/20",
          "15/04/20",
          "16/04/20",
          "17/04/20",
          "18/04/20",
          "19/04/20",
          "20/04/20",
          "21/04/20",
          "22/04/20",
          "23/04/20",
          "24/04/20",
          "25/04/20",
          "26/04/20",
          "27/04/20",
          "28/04/20",
          "29/04/20",
          "30/04/20",
          "01/05/20"
         ],
         "y": [
          0,
          0,
          0,
          0,
          0,
          0,
          1,
          1,
          1,
          1,
          1,
          1,
          1,
          2,
          9,
          9,
          6,
          6,
          13,
          13,
          16,
          18,
          21,
          21,
          21,
          24,
          36,
          43,
          44,
          49,
          61,
          65,
          74,
          78,
          85,
          88,
          94,
          118,
          121,
          123,
          125,
          129,
          141,
          146,
          172
         ]
        },
        {
         "mode": "lines+markers",
         "name": "Total % Cured",
         "type": "scatter",
         "x": [
          "18/03/20",
          "19/03/20",
          "20/03/20",
          "21/03/20",
          "22/03/20",
          "23/03/20",
          "24/03/20",
          "25/03/20",
          "26/03/20",
          "27/03/20",
          "28/03/20",
          "29/03/20",
          "30/03/20",
          "31/03/20",
          "01/04/20",
          "02/04/20",
          "03/04/20",
          "04/04/20",
          "05/04/20",
          "06/04/20",
          "07/04/20",
          "08/04/20",
          "09/04/20",
          "10/04/20",
          "11/04/20",
          "12/04/20",
          "13/04/20",
          "14/04/20",
          "15/04/20",
          "16/04/20",
          "17/04/20",
          "18/04/20",
          "19/04/20",
          "20/04/20",
          "21/04/20",
          "22/04/20",
          "23/04/20",
          "24/04/20",
          "25/04/20",
          "26/04/20",
          "27/04/20",
          "28/04/20",
          "29/04/20",
          "30/04/20",
          "01/05/20"
         ],
         "y": [
          100,
          100,
          100,
          100,
          100,
          100,
          94.44444444444444,
          94.44444444444444,
          95,
          95,
          96.66666666666667,
          94.44444444444444,
          95.45454545454545,
          92.3076923076923,
          75.67567567567568,
          83.01886792452831,
          90.47619047619048,
          91.30434782608695,
          83.75,
          83.75,
          82.41758241758241,
          81.81818181818183,
          79.6116504854369,
          81.89655172413794,
          83.33333333333334,
          82.08955223880598,
          76.31578947368422,
          77.36842105263158,
          79.34272300469483,
          78.78787878787878,
          76.07843137254902,
          77.35191637630662,
          76.12903225806451,
          76.99115044247787,
          78.31632653061224,
          79.19621749408984,
          79.3859649122807,
          77.04280155642024,
          78.80910683012259,
          79.86906710310966,
          80.73959938366718,
          81.49210903873745,
          80.55172413793103,
          80.73878627968337,
          78.36477987421384
         ]
        }
       ],
       "layout": {
        "plot_bgcolor": "rgb(230, 230, 230)",
        "template": {
         "data": {
          "bar": [
           {
            "error_x": {
             "color": "#2a3f5f"
            },
            "error_y": {
             "color": "#2a3f5f"
            },
            "marker": {
             "line": {
              "color": "#E5ECF6",
              "width": 0.5
             }
            },
            "type": "bar"
           }
          ],
          "barpolar": [
           {
            "marker": {
             "line": {
              "color": "#E5ECF6",
              "width": 0.5
             }
            },
            "type": "barpolar"
           }
          ],
          "carpet": [
           {
            "aaxis": {
             "endlinecolor": "#2a3f5f",
             "gridcolor": "white",
             "linecolor": "white",
             "minorgridcolor": "white",
             "startlinecolor": "#2a3f5f"
            },
            "baxis": {
             "endlinecolor": "#2a3f5f",
             "gridcolor": "white",
             "linecolor": "white",
             "minorgridcolor": "white",
             "startlinecolor": "#2a3f5f"
            },
            "type": "carpet"
           }
          ],
          "choropleth": [
           {
            "colorbar": {
             "outlinewidth": 0,
             "ticks": ""
            },
            "type": "choropleth"
           }
          ],
          "contour": [
           {
            "colorbar": {
             "outlinewidth": 0,
             "ticks": ""
            },
            "colorscale": [
             [
              0,
              "#0d0887"
             ],
             [
              0.1111111111111111,
              "#46039f"
             ],
             [
              0.2222222222222222,
              "#7201a8"
             ],
             [
              0.3333333333333333,
              "#9c179e"
             ],
             [
              0.4444444444444444,
              "#bd3786"
             ],
             [
              0.5555555555555556,
              "#d8576b"
             ],
             [
              0.6666666666666666,
              "#ed7953"
             ],
             [
              0.7777777777777778,
              "#fb9f3a"
             ],
             [
              0.8888888888888888,
              "#fdca26"
             ],
             [
              1,
              "#f0f921"
             ]
            ],
            "type": "contour"
           }
          ],
          "contourcarpet": [
           {
            "colorbar": {
             "outlinewidth": 0,
             "ticks": ""
            },
            "type": "contourcarpet"
           }
          ],
          "heatmap": [
           {
            "colorbar": {
             "outlinewidth": 0,
             "ticks": ""
            },
            "colorscale": [
             [
              0,
              "#0d0887"
             ],
             [
              0.1111111111111111,
              "#46039f"
             ],
             [
              0.2222222222222222,
              "#7201a8"
             ],
             [
              0.3333333333333333,
              "#9c179e"
             ],
             [
              0.4444444444444444,
              "#bd3786"
             ],
             [
              0.5555555555555556,
              "#d8576b"
             ],
             [
              0.6666666666666666,
              "#ed7953"
             ],
             [
              0.7777777777777778,
              "#fb9f3a"
             ],
             [
              0.8888888888888888,
              "#fdca26"
             ],
             [
              1,
              "#f0f921"
             ]
            ],
            "type": "heatmap"
           }
          ],
          "heatmapgl": [
           {
            "colorbar": {
             "outlinewidth": 0,
             "ticks": ""
            },
            "colorscale": [
             [
              0,
              "#0d0887"
             ],
             [
              0.1111111111111111,
              "#46039f"
             ],
             [
              0.2222222222222222,
              "#7201a8"
             ],
             [
              0.3333333333333333,
              "#9c179e"
             ],
             [
              0.4444444444444444,
              "#bd3786"
             ],
             [
              0.5555555555555556,
              "#d8576b"
             ],
             [
              0.6666666666666666,
              "#ed7953"
             ],
             [
              0.7777777777777778,
              "#fb9f3a"
             ],
             [
              0.8888888888888888,
              "#fdca26"
             ],
             [
              1,
              "#f0f921"
             ]
            ],
            "type": "heatmapgl"
           }
          ],
          "histogram": [
           {
            "marker": {
             "colorbar": {
              "outlinewidth": 0,
              "ticks": ""
             }
            },
            "type": "histogram"
           }
          ],
          "histogram2d": [
           {
            "colorbar": {
             "outlinewidth": 0,
             "ticks": ""
            },
            "colorscale": [
             [
              0,
              "#0d0887"
             ],
             [
              0.1111111111111111,
              "#46039f"
             ],
             [
              0.2222222222222222,
              "#7201a8"
             ],
             [
              0.3333333333333333,
              "#9c179e"
             ],
             [
              0.4444444444444444,
              "#bd3786"
             ],
             [
              0.5555555555555556,
              "#d8576b"
             ],
             [
              0.6666666666666666,
              "#ed7953"
             ],
             [
              0.7777777777777778,
              "#fb9f3a"
             ],
             [
              0.8888888888888888,
              "#fdca26"
             ],
             [
              1,
              "#f0f921"
             ]
            ],
            "type": "histogram2d"
           }
          ],
          "histogram2dcontour": [
           {
            "colorbar": {
             "outlinewidth": 0,
             "ticks": ""
            },
            "colorscale": [
             [
              0,
              "#0d0887"
             ],
             [
              0.1111111111111111,
              "#46039f"
             ],
             [
              0.2222222222222222,
              "#7201a8"
             ],
             [
              0.3333333333333333,
              "#9c179e"
             ],
             [
              0.4444444444444444,
              "#bd3786"
             ],
             [
              0.5555555555555556,
              "#d8576b"
             ],
             [
              0.6666666666666666,
              "#ed7953"
             ],
             [
              0.7777777777777778,
              "#fb9f3a"
             ],
             [
              0.8888888888888888,
              "#fdca26"
             ],
             [
              1,
              "#f0f921"
             ]
            ],
            "type": "histogram2dcontour"
           }
          ],
          "mesh3d": [
           {
            "colorbar": {
             "outlinewidth": 0,
             "ticks": ""
            },
            "type": "mesh3d"
           }
          ],
          "parcoords": [
           {
            "line": {
             "colorbar": {
              "outlinewidth": 0,
              "ticks": ""
             }
            },
            "type": "parcoords"
           }
          ],
          "pie": [
           {
            "automargin": true,
            "type": "pie"
           }
          ],
          "scatter": [
           {
            "marker": {
             "colorbar": {
              "outlinewidth": 0,
              "ticks": ""
             }
            },
            "type": "scatter"
           }
          ],
          "scatter3d": [
           {
            "line": {
             "colorbar": {
              "outlinewidth": 0,
              "ticks": ""
             }
            },
            "marker": {
             "colorbar": {
              "outlinewidth": 0,
              "ticks": ""
             }
            },
            "type": "scatter3d"
           }
          ],
          "scattercarpet": [
           {
            "marker": {
             "colorbar": {
              "outlinewidth": 0,
              "ticks": ""
             }
            },
            "type": "scattercarpet"
           }
          ],
          "scattergeo": [
           {
            "marker": {
             "colorbar": {
              "outlinewidth": 0,
              "ticks": ""
             }
            },
            "type": "scattergeo"
           }
          ],
          "scattergl": [
           {
            "marker": {
             "colorbar": {
              "outlinewidth": 0,
              "ticks": ""
             }
            },
            "type": "scattergl"
           }
          ],
          "scattermapbox": [
           {
            "marker": {
             "colorbar": {
              "outlinewidth": 0,
              "ticks": ""
             }
            },
            "type": "scattermapbox"
           }
          ],
          "scatterpolar": [
           {
            "marker": {
             "colorbar": {
              "outlinewidth": 0,
              "ticks": ""
             }
            },
            "type": "scatterpolar"
           }
          ],
          "scatterpolargl": [
           {
            "marker": {
             "colorbar": {
              "outlinewidth": 0,
              "ticks": ""
             }
            },
            "type": "scatterpolargl"
           }
          ],
          "scatterternary": [
           {
            "marker": {
             "colorbar": {
              "outlinewidth": 0,
              "ticks": ""
             }
            },
            "type": "scatterternary"
           }
          ],
          "surface": [
           {
            "colorbar": {
             "outlinewidth": 0,
             "ticks": ""
            },
            "colorscale": [
             [
              0,
              "#0d0887"
             ],
             [
              0.1111111111111111,
              "#46039f"
             ],
             [
              0.2222222222222222,
              "#7201a8"
             ],
             [
              0.3333333333333333,
              "#9c179e"
             ],
             [
              0.4444444444444444,
              "#bd3786"
             ],
             [
              0.5555555555555556,
              "#d8576b"
             ],
             [
              0.6666666666666666,
              "#ed7953"
             ],
             [
              0.7777777777777778,
              "#fb9f3a"
             ],
             [
              0.8888888888888888,
              "#fdca26"
             ],
             [
              1,
              "#f0f921"
             ]
            ],
            "type": "surface"
           }
          ],
          "table": [
           {
            "cells": {
             "fill": {
              "color": "#EBF0F8"
             },
             "line": {
              "color": "white"
             }
            },
            "header": {
             "fill": {
              "color": "#C8D4E3"
             },
             "line": {
              "color": "white"
             }
            },
            "type": "table"
           }
          ]
         },
         "layout": {
          "annotationdefaults": {
           "arrowcolor": "#2a3f5f",
           "arrowhead": 0,
           "arrowwidth": 1
          },
          "coloraxis": {
           "colorbar": {
            "outlinewidth": 0,
            "ticks": ""
           }
          },
          "colorscale": {
           "diverging": [
            [
             0,
             "#8e0152"
            ],
            [
             0.1,
             "#c51b7d"
            ],
            [
             0.2,
             "#de77ae"
            ],
            [
             0.3,
             "#f1b6da"
            ],
            [
             0.4,
             "#fde0ef"
            ],
            [
             0.5,
             "#f7f7f7"
            ],
            [
             0.6,
             "#e6f5d0"
            ],
            [
             0.7,
             "#b8e186"
            ],
            [
             0.8,
             "#7fbc41"
            ],
            [
             0.9,
             "#4d9221"
            ],
            [
             1,
             "#276419"
            ]
           ],
           "sequential": [
            [
             0,
             "#0d0887"
            ],
            [
             0.1111111111111111,
             "#46039f"
            ],
            [
             0.2222222222222222,
             "#7201a8"
            ],
            [
             0.3333333333333333,
             "#9c179e"
            ],
            [
             0.4444444444444444,
             "#bd3786"
            ],
            [
             0.5555555555555556,
             "#d8576b"
            ],
            [
             0.6666666666666666,
             "#ed7953"
            ],
            [
             0.7777777777777778,
             "#fb9f3a"
            ],
            [
             0.8888888888888888,
             "#fdca26"
            ],
            [
             1,
             "#f0f921"
            ]
           ],
           "sequentialminus": [
            [
             0,
             "#0d0887"
            ],
            [
             0.1111111111111111,
             "#46039f"
            ],
            [
             0.2222222222222222,
             "#7201a8"
            ],
            [
             0.3333333333333333,
             "#9c179e"
            ],
            [
             0.4444444444444444,
             "#bd3786"
            ],
            [
             0.5555555555555556,
             "#d8576b"
            ],
            [
             0.6666666666666666,
             "#ed7953"
            ],
            [
             0.7777777777777778,
             "#fb9f3a"
            ],
            [
             0.8888888888888888,
             "#fdca26"
            ],
            [
             1,
             "#f0f921"
            ]
           ]
          },
          "colorway": [
           "#636efa",
           "#EF553B",
           "#00cc96",
           "#ab63fa",
           "#FFA15A",
           "#19d3f3",
           "#FF6692",
           "#B6E880",
           "#FF97FF",
           "#FECB52"
          ],
          "font": {
           "color": "#2a3f5f"
          },
          "geo": {
           "bgcolor": "white",
           "lakecolor": "white",
           "landcolor": "#E5ECF6",
           "showlakes": true,
           "showland": true,
           "subunitcolor": "white"
          },
          "hoverlabel": {
           "align": "left"
          },
          "hovermode": "closest",
          "mapbox": {
           "style": "light"
          },
          "paper_bgcolor": "white",
          "plot_bgcolor": "#E5ECF6",
          "polar": {
           "angularaxis": {
            "gridcolor": "white",
            "linecolor": "white",
            "ticks": ""
           },
           "bgcolor": "#E5ECF6",
           "radialaxis": {
            "gridcolor": "white",
            "linecolor": "white",
            "ticks": ""
           }
          },
          "scene": {
           "xaxis": {
            "backgroundcolor": "#E5ECF6",
            "gridcolor": "white",
            "gridwidth": 2,
            "linecolor": "white",
            "showbackground": true,
            "ticks": "",
            "zerolinecolor": "white"
           },
           "yaxis": {
            "backgroundcolor": "#E5ECF6",
            "gridcolor": "white",
            "gridwidth": 2,
            "linecolor": "white",
            "showbackground": true,
            "ticks": "",
            "zerolinecolor": "white"
           },
           "zaxis": {
            "backgroundcolor": "#E5ECF6",
            "gridcolor": "white",
            "gridwidth": 2,
            "linecolor": "white",
            "showbackground": true,
            "ticks": "",
            "zerolinecolor": "white"
           }
          },
          "shapedefaults": {
           "line": {
            "color": "#2a3f5f"
           }
          },
          "ternary": {
           "aaxis": {
            "gridcolor": "white",
            "linecolor": "white",
            "ticks": ""
           },
           "baxis": {
            "gridcolor": "white",
            "linecolor": "white",
            "ticks": ""
           },
           "bgcolor": "#E5ECF6",
           "caxis": {
            "gridcolor": "white",
            "linecolor": "white",
            "ticks": ""
           }
          },
          "title": {
           "x": 0.05
          },
          "xaxis": {
           "automargin": true,
           "gridcolor": "white",
           "linecolor": "white",
           "ticks": "",
           "title": {
            "standoff": 15
           },
           "zerolinecolor": "white",
           "zerolinewidth": 2
          },
          "yaxis": {
           "automargin": true,
           "gridcolor": "white",
           "linecolor": "white",
           "ticks": "",
           "title": {
            "standoff": 15
           },
           "zerolinecolor": "white",
           "zerolinewidth": 2
          }
         }
        },
        "title": {
         "text": "Trend of Coronavirus Cases in West Bengal (Cumulative cases)"
        }
       }
      },
      "text/html": [
       "<div>\n",
       "        \n",
       "        \n",
       "            <div id=\"e8f5adf6-9fc2-4709-acbc-af236970e37c\" class=\"plotly-graph-div\" style=\"height:525px; width:100%;\"></div>\n",
       "            <script type=\"text/javascript\">\n",
       "                require([\"plotly\"], function(Plotly) {\n",
       "                    window.PLOTLYENV=window.PLOTLYENV || {};\n",
       "                    \n",
       "                if (document.getElementById(\"e8f5adf6-9fc2-4709-acbc-af236970e37c\")) {\n",
       "                    Plotly.newPlot(\n",
       "                        'e8f5adf6-9fc2-4709-acbc-af236970e37c',\n",
       "                        [{\"mode\": \"lines+markers\", \"name\": \"Total Cases\", \"type\": \"scatter\", \"x\": [\"18/03/20\", \"19/03/20\", \"20/03/20\", \"21/03/20\", \"22/03/20\", \"23/03/20\", \"24/03/20\", \"25/03/20\", \"26/03/20\", \"27/03/20\", \"28/03/20\", \"29/03/20\", \"30/03/20\", \"31/03/20\", \"01/04/20\", \"02/04/20\", \"03/04/20\", \"04/04/20\", \"05/04/20\", \"06/04/20\", \"07/04/20\", \"08/04/20\", \"09/04/20\", \"10/04/20\", \"11/04/20\", \"12/04/20\", \"13/04/20\", \"14/04/20\", \"15/04/20\", \"16/04/20\", \"17/04/20\", \"18/04/20\", \"19/04/20\", \"20/04/20\", \"21/04/20\", \"22/04/20\", \"23/04/20\", \"24/04/20\", \"25/04/20\", \"26/04/20\", \"27/04/20\", \"28/04/20\", \"29/04/20\", \"30/04/20\", \"01/05/20\"], \"y\": [2, 2, 4, 6, 8, 14, 18, 18, 20, 20, 30, 18, 22, 26, 37, 53, 63, 69, 80, 80, 91, 99, 103, 116, 126, 134, 152, 190, 213, 231, 255, 287, 310, 339, 392, 423, 456, 514, 571, 611, 649, 697, 725, 758, 795]}, {\"mode\": \"lines+markers\", \"name\": \"Total Active\", \"type\": \"scatter\", \"x\": [\"18/03/20\", \"19/03/20\", \"20/03/20\", \"21/03/20\", \"22/03/20\", \"23/03/20\", \"24/03/20\", \"25/03/20\", \"26/03/20\", \"27/03/20\", \"28/03/20\", \"29/03/20\", \"30/03/20\", \"31/03/20\", \"01/04/20\", \"02/04/20\", \"03/04/20\", \"04/04/20\", \"05/04/20\", \"06/04/20\", \"07/04/20\", \"08/04/20\", \"09/04/20\", \"10/04/20\", \"11/04/20\", \"12/04/20\", \"13/04/20\", \"14/04/20\", \"15/04/20\", \"16/04/20\", \"17/04/20\", \"18/04/20\", \"19/04/20\", \"20/04/20\", \"21/04/20\", \"22/04/20\", \"23/04/20\", \"24/04/20\", \"25/04/20\", \"26/04/20\", \"27/04/20\", \"28/04/20\", \"29/04/20\", \"30/04/20\", \"01/05/20\"], \"y\": [2, 2, 4, 6, 8, 14, 17, 17, 19, 19, 29, 17, 21, 24, 28, 44, 57, 63, 67, 67, 75, 81, 82, 95, 105, 110, 116, 147, 169, 182, 194, 222, 236, 261, 307, 335, 362, 396, 450, 488, 524, 568, 584, 612, 623]}, {\"mode\": \"lines+markers\", \"name\": \"Total Cured\", \"type\": \"scatter\", \"x\": [\"18/03/20\", \"19/03/20\", \"20/03/20\", \"21/03/20\", \"22/03/20\", \"23/03/20\", \"24/03/20\", \"25/03/20\", \"26/03/20\", \"27/03/20\", \"28/03/20\", \"29/03/20\", \"30/03/20\", \"31/03/20\", \"01/04/20\", \"02/04/20\", \"03/04/20\", \"04/04/20\", \"05/04/20\", \"06/04/20\", \"07/04/20\", \"08/04/20\", \"09/04/20\", \"10/04/20\", \"11/04/20\", \"12/04/20\", \"13/04/20\", \"14/04/20\", \"15/04/20\", \"16/04/20\", \"17/04/20\", \"18/04/20\", \"19/04/20\", \"20/04/20\", \"21/04/20\", \"22/04/20\", \"23/04/20\", \"24/04/20\", \"25/04/20\", \"26/04/20\", \"27/04/20\", \"28/04/20\", \"29/04/20\", \"30/04/20\", \"01/05/20\"], \"y\": [0, 0, 0, 0, 0, 0, 1, 1, 1, 1, 1, 1, 1, 2, 9, 9, 6, 6, 13, 13, 16, 18, 21, 21, 21, 24, 36, 43, 44, 49, 61, 65, 74, 78, 85, 88, 94, 118, 121, 123, 125, 129, 141, 146, 172]}, {\"mode\": \"lines+markers\", \"name\": \"Total % Cured\", \"type\": \"scatter\", \"x\": [\"18/03/20\", \"19/03/20\", \"20/03/20\", \"21/03/20\", \"22/03/20\", \"23/03/20\", \"24/03/20\", \"25/03/20\", \"26/03/20\", \"27/03/20\", \"28/03/20\", \"29/03/20\", \"30/03/20\", \"31/03/20\", \"01/04/20\", \"02/04/20\", \"03/04/20\", \"04/04/20\", \"05/04/20\", \"06/04/20\", \"07/04/20\", \"08/04/20\", \"09/04/20\", \"10/04/20\", \"11/04/20\", \"12/04/20\", \"13/04/20\", \"14/04/20\", \"15/04/20\", \"16/04/20\", \"17/04/20\", \"18/04/20\", \"19/04/20\", \"20/04/20\", \"21/04/20\", \"22/04/20\", \"23/04/20\", \"24/04/20\", \"25/04/20\", \"26/04/20\", \"27/04/20\", \"28/04/20\", \"29/04/20\", \"30/04/20\", \"01/05/20\"], \"y\": [100.0, 100.0, 100.0, 100.0, 100.0, 100.0, 94.44444444444444, 94.44444444444444, 95.0, 95.0, 96.66666666666667, 94.44444444444444, 95.45454545454545, 92.3076923076923, 75.67567567567568, 83.01886792452831, 90.47619047619048, 91.30434782608695, 83.75, 83.75, 82.41758241758241, 81.81818181818183, 79.6116504854369, 81.89655172413794, 83.33333333333334, 82.08955223880598, 76.31578947368422, 77.36842105263158, 79.34272300469483, 78.78787878787878, 76.07843137254902, 77.35191637630662, 76.12903225806451, 76.99115044247787, 78.31632653061224, 79.19621749408984, 79.3859649122807, 77.04280155642024, 78.80910683012259, 79.86906710310966, 80.73959938366718, 81.49210903873745, 80.55172413793103, 80.73878627968337, 78.36477987421384]}],\n",
       "                        {\"plot_bgcolor\": \"rgb(230, 230, 230)\", \"template\": {\"data\": {\"bar\": [{\"error_x\": {\"color\": \"#2a3f5f\"}, \"error_y\": {\"color\": \"#2a3f5f\"}, \"marker\": {\"line\": {\"color\": \"#E5ECF6\", \"width\": 0.5}}, \"type\": \"bar\"}], \"barpolar\": [{\"marker\": {\"line\": {\"color\": \"#E5ECF6\", \"width\": 0.5}}, \"type\": \"barpolar\"}], \"carpet\": [{\"aaxis\": {\"endlinecolor\": \"#2a3f5f\", \"gridcolor\": \"white\", \"linecolor\": \"white\", \"minorgridcolor\": \"white\", \"startlinecolor\": \"#2a3f5f\"}, \"baxis\": {\"endlinecolor\": \"#2a3f5f\", \"gridcolor\": \"white\", \"linecolor\": \"white\", \"minorgridcolor\": \"white\", \"startlinecolor\": \"#2a3f5f\"}, \"type\": \"carpet\"}], \"choropleth\": [{\"colorbar\": {\"outlinewidth\": 0, \"ticks\": \"\"}, \"type\": \"choropleth\"}], \"contour\": [{\"colorbar\": {\"outlinewidth\": 0, \"ticks\": \"\"}, \"colorscale\": [[0.0, \"#0d0887\"], [0.1111111111111111, \"#46039f\"], [0.2222222222222222, \"#7201a8\"], [0.3333333333333333, \"#9c179e\"], [0.4444444444444444, \"#bd3786\"], [0.5555555555555556, \"#d8576b\"], [0.6666666666666666, \"#ed7953\"], [0.7777777777777778, \"#fb9f3a\"], [0.8888888888888888, \"#fdca26\"], [1.0, \"#f0f921\"]], \"type\": \"contour\"}], \"contourcarpet\": [{\"colorbar\": {\"outlinewidth\": 0, \"ticks\": \"\"}, \"type\": \"contourcarpet\"}], \"heatmap\": [{\"colorbar\": {\"outlinewidth\": 0, \"ticks\": \"\"}, \"colorscale\": [[0.0, \"#0d0887\"], [0.1111111111111111, \"#46039f\"], [0.2222222222222222, \"#7201a8\"], [0.3333333333333333, \"#9c179e\"], [0.4444444444444444, \"#bd3786\"], [0.5555555555555556, \"#d8576b\"], [0.6666666666666666, \"#ed7953\"], [0.7777777777777778, \"#fb9f3a\"], [0.8888888888888888, \"#fdca26\"], [1.0, \"#f0f921\"]], \"type\": \"heatmap\"}], \"heatmapgl\": [{\"colorbar\": {\"outlinewidth\": 0, \"ticks\": \"\"}, \"colorscale\": [[0.0, \"#0d0887\"], [0.1111111111111111, \"#46039f\"], [0.2222222222222222, \"#7201a8\"], [0.3333333333333333, \"#9c179e\"], [0.4444444444444444, \"#bd3786\"], [0.5555555555555556, \"#d8576b\"], [0.6666666666666666, \"#ed7953\"], [0.7777777777777778, \"#fb9f3a\"], [0.8888888888888888, \"#fdca26\"], [1.0, \"#f0f921\"]], \"type\": \"heatmapgl\"}], \"histogram\": [{\"marker\": {\"colorbar\": {\"outlinewidth\": 0, \"ticks\": \"\"}}, \"type\": \"histogram\"}], \"histogram2d\": [{\"colorbar\": {\"outlinewidth\": 0, \"ticks\": \"\"}, \"colorscale\": [[0.0, \"#0d0887\"], [0.1111111111111111, \"#46039f\"], [0.2222222222222222, \"#7201a8\"], [0.3333333333333333, \"#9c179e\"], [0.4444444444444444, \"#bd3786\"], [0.5555555555555556, \"#d8576b\"], [0.6666666666666666, \"#ed7953\"], [0.7777777777777778, \"#fb9f3a\"], [0.8888888888888888, \"#fdca26\"], [1.0, \"#f0f921\"]], \"type\": \"histogram2d\"}], \"histogram2dcontour\": [{\"colorbar\": {\"outlinewidth\": 0, \"ticks\": \"\"}, \"colorscale\": [[0.0, \"#0d0887\"], [0.1111111111111111, \"#46039f\"], [0.2222222222222222, \"#7201a8\"], [0.3333333333333333, \"#9c179e\"], [0.4444444444444444, \"#bd3786\"], [0.5555555555555556, \"#d8576b\"], [0.6666666666666666, \"#ed7953\"], [0.7777777777777778, \"#fb9f3a\"], [0.8888888888888888, \"#fdca26\"], [1.0, \"#f0f921\"]], \"type\": \"histogram2dcontour\"}], \"mesh3d\": [{\"colorbar\": {\"outlinewidth\": 0, \"ticks\": \"\"}, \"type\": \"mesh3d\"}], \"parcoords\": [{\"line\": {\"colorbar\": {\"outlinewidth\": 0, \"ticks\": \"\"}}, \"type\": \"parcoords\"}], \"pie\": [{\"automargin\": true, \"type\": \"pie\"}], \"scatter\": [{\"marker\": {\"colorbar\": {\"outlinewidth\": 0, \"ticks\": \"\"}}, \"type\": \"scatter\"}], \"scatter3d\": [{\"line\": {\"colorbar\": {\"outlinewidth\": 0, \"ticks\": \"\"}}, \"marker\": {\"colorbar\": {\"outlinewidth\": 0, \"ticks\": \"\"}}, \"type\": \"scatter3d\"}], \"scattercarpet\": [{\"marker\": {\"colorbar\": {\"outlinewidth\": 0, \"ticks\": \"\"}}, \"type\": \"scattercarpet\"}], \"scattergeo\": [{\"marker\": {\"colorbar\": {\"outlinewidth\": 0, \"ticks\": \"\"}}, \"type\": \"scattergeo\"}], \"scattergl\": [{\"marker\": {\"colorbar\": {\"outlinewidth\": 0, \"ticks\": \"\"}}, \"type\": \"scattergl\"}], \"scattermapbox\": [{\"marker\": {\"colorbar\": {\"outlinewidth\": 0, \"ticks\": \"\"}}, \"type\": \"scattermapbox\"}], \"scatterpolar\": [{\"marker\": {\"colorbar\": {\"outlinewidth\": 0, \"ticks\": \"\"}}, \"type\": \"scatterpolar\"}], \"scatterpolargl\": [{\"marker\": {\"colorbar\": {\"outlinewidth\": 0, \"ticks\": \"\"}}, \"type\": \"scatterpolargl\"}], \"scatterternary\": [{\"marker\": {\"colorbar\": {\"outlinewidth\": 0, \"ticks\": \"\"}}, \"type\": \"scatterternary\"}], \"surface\": [{\"colorbar\": {\"outlinewidth\": 0, \"ticks\": \"\"}, \"colorscale\": [[0.0, \"#0d0887\"], [0.1111111111111111, \"#46039f\"], [0.2222222222222222, \"#7201a8\"], [0.3333333333333333, \"#9c179e\"], [0.4444444444444444, \"#bd3786\"], [0.5555555555555556, \"#d8576b\"], [0.6666666666666666, \"#ed7953\"], [0.7777777777777778, \"#fb9f3a\"], [0.8888888888888888, \"#fdca26\"], [1.0, \"#f0f921\"]], \"type\": \"surface\"}], \"table\": [{\"cells\": {\"fill\": {\"color\": \"#EBF0F8\"}, \"line\": {\"color\": \"white\"}}, \"header\": {\"fill\": {\"color\": \"#C8D4E3\"}, \"line\": {\"color\": \"white\"}}, \"type\": \"table\"}]}, \"layout\": {\"annotationdefaults\": {\"arrowcolor\": \"#2a3f5f\", \"arrowhead\": 0, \"arrowwidth\": 1}, \"coloraxis\": {\"colorbar\": {\"outlinewidth\": 0, \"ticks\": \"\"}}, \"colorscale\": {\"diverging\": [[0, \"#8e0152\"], [0.1, \"#c51b7d\"], [0.2, \"#de77ae\"], [0.3, \"#f1b6da\"], [0.4, \"#fde0ef\"], [0.5, \"#f7f7f7\"], [0.6, \"#e6f5d0\"], [0.7, \"#b8e186\"], [0.8, \"#7fbc41\"], [0.9, \"#4d9221\"], [1, \"#276419\"]], \"sequential\": [[0.0, \"#0d0887\"], [0.1111111111111111, \"#46039f\"], [0.2222222222222222, \"#7201a8\"], [0.3333333333333333, \"#9c179e\"], [0.4444444444444444, \"#bd3786\"], [0.5555555555555556, \"#d8576b\"], [0.6666666666666666, \"#ed7953\"], [0.7777777777777778, \"#fb9f3a\"], [0.8888888888888888, \"#fdca26\"], [1.0, \"#f0f921\"]], \"sequentialminus\": [[0.0, \"#0d0887\"], [0.1111111111111111, \"#46039f\"], [0.2222222222222222, \"#7201a8\"], [0.3333333333333333, \"#9c179e\"], [0.4444444444444444, \"#bd3786\"], [0.5555555555555556, \"#d8576b\"], [0.6666666666666666, \"#ed7953\"], [0.7777777777777778, \"#fb9f3a\"], [0.8888888888888888, \"#fdca26\"], [1.0, \"#f0f921\"]]}, \"colorway\": [\"#636efa\", \"#EF553B\", \"#00cc96\", \"#ab63fa\", \"#FFA15A\", \"#19d3f3\", \"#FF6692\", \"#B6E880\", \"#FF97FF\", \"#FECB52\"], \"font\": {\"color\": \"#2a3f5f\"}, \"geo\": {\"bgcolor\": \"white\", \"lakecolor\": \"white\", \"landcolor\": \"#E5ECF6\", \"showlakes\": true, \"showland\": true, \"subunitcolor\": \"white\"}, \"hoverlabel\": {\"align\": \"left\"}, \"hovermode\": \"closest\", \"mapbox\": {\"style\": \"light\"}, \"paper_bgcolor\": \"white\", \"plot_bgcolor\": \"#E5ECF6\", \"polar\": {\"angularaxis\": {\"gridcolor\": \"white\", \"linecolor\": \"white\", \"ticks\": \"\"}, \"bgcolor\": \"#E5ECF6\", \"radialaxis\": {\"gridcolor\": \"white\", \"linecolor\": \"white\", \"ticks\": \"\"}}, \"scene\": {\"xaxis\": {\"backgroundcolor\": \"#E5ECF6\", \"gridcolor\": \"white\", \"gridwidth\": 2, \"linecolor\": \"white\", \"showbackground\": true, \"ticks\": \"\", \"zerolinecolor\": \"white\"}, \"yaxis\": {\"backgroundcolor\": \"#E5ECF6\", \"gridcolor\": \"white\", \"gridwidth\": 2, \"linecolor\": \"white\", \"showbackground\": true, \"ticks\": \"\", \"zerolinecolor\": \"white\"}, \"zaxis\": {\"backgroundcolor\": \"#E5ECF6\", \"gridcolor\": \"white\", \"gridwidth\": 2, \"linecolor\": \"white\", \"showbackground\": true, \"ticks\": \"\", \"zerolinecolor\": \"white\"}}, \"shapedefaults\": {\"line\": {\"color\": \"#2a3f5f\"}}, \"ternary\": {\"aaxis\": {\"gridcolor\": \"white\", \"linecolor\": \"white\", \"ticks\": \"\"}, \"baxis\": {\"gridcolor\": \"white\", \"linecolor\": \"white\", \"ticks\": \"\"}, \"bgcolor\": \"#E5ECF6\", \"caxis\": {\"gridcolor\": \"white\", \"linecolor\": \"white\", \"ticks\": \"\"}}, \"title\": {\"x\": 0.05}, \"xaxis\": {\"automargin\": true, \"gridcolor\": \"white\", \"linecolor\": \"white\", \"ticks\": \"\", \"title\": {\"standoff\": 15}, \"zerolinecolor\": \"white\", \"zerolinewidth\": 2}, \"yaxis\": {\"automargin\": true, \"gridcolor\": \"white\", \"linecolor\": \"white\", \"ticks\": \"\", \"title\": {\"standoff\": 15}, \"zerolinecolor\": \"white\", \"zerolinewidth\": 2}}}, \"title\": {\"text\": \"Trend of Coronavirus Cases in West Bengal (Cumulative cases)\"}},\n",
       "                        {\"responsive\": true}\n",
       "                    ).then(function(){\n",
       "                            \n",
       "var gd = document.getElementById('e8f5adf6-9fc2-4709-acbc-af236970e37c');\n",
       "var x = new MutationObserver(function (mutations, observer) {{\n",
       "        var display = window.getComputedStyle(gd).display;\n",
       "        if (!display || display === 'none') {{\n",
       "            console.log([gd, 'removed!']);\n",
       "            Plotly.purge(gd);\n",
       "            observer.disconnect();\n",
       "        }}\n",
       "}});\n",
       "\n",
       "// Listen for the removal of the full notebook cells\n",
       "var notebookContainer = gd.closest('#notebook-container');\n",
       "if (notebookContainer) {{\n",
       "    x.observe(notebookContainer, {childList: true});\n",
       "}}\n",
       "\n",
       "// Listen for the clearing of the current output cell\n",
       "var outputEl = gd.closest('.output');\n",
       "if (outputEl) {{\n",
       "    x.observe(outputEl, {childList: true});\n",
       "}}\n",
       "\n",
       "                        })\n",
       "                };\n",
       "                });\n",
       "            </script>\n",
       "        </div>"
      ]
     },
     "metadata": {},
     "output_type": "display_data"
    }
   ],
   "source": [
    "fig = go.Figure()\n",
    "fig.add_trace(go.Scatter(x=wb['Date'], y = wb['Total cases'], mode='lines+markers',name='Total Cases'))\n",
    "fig.add_trace(go.Scatter(x=wb['Date'], y = wb['Total Active'], mode='lines+markers',name='Total Active'))\n",
    "fig.add_trace(go.Scatter(x=wb['Date'], y = ( wb['Total cases']-wb['Total Active']), mode='lines+markers',name='Total Cured'))\n",
    "fig.add_trace(go.Scatter(x=wb['Date'], y = (wb['Total Active']/wb['Total cases'])*100, mode='lines+markers',name='Total % Cured'))\n",
    "fig.update_layout(title_text='Trend of Coronavirus Cases in West Bengal (Cumulative cases)',plot_bgcolor='rgb(230, 230, 230)')\n",
    "fig.show()"
   ]
  },
  {
   "cell_type": "code",
   "execution_count": 46,
   "metadata": {},
   "outputs": [
    {
     "data": {
      "application/vnd.plotly.v1+json": {
       "config": {
        "plotlyServerURL": "https://plot.ly"
       },
       "data": [
        {
         "marker": {
          "color": [
           2,
           2,
           4,
           6,
           6,
           6,
           6,
           6,
           6,
           6,
           6,
           6,
           6,
           6,
           6,
           6,
           6,
           6,
           6,
           6,
           6,
           6,
           6,
           6,
           6,
           6,
           6,
           6,
           6,
           6,
           6,
           6,
           6,
           3,
           3,
           3,
           3,
           3,
           13,
           15,
           27,
           31,
           31,
           35,
           35,
           41,
           43,
           49,
           51,
           51,
           53,
           77,
           101,
           131,
           186,
           214,
           230,
           263,
           341,
           166,
           182,
           214,
           216,
           238,
           257,
           252,
           255,
           257,
           267,
           264,
           260,
           259,
           239,
           230,
           194,
           178,
           173,
           167,
           147,
           138,
           140,
           129,
           114,
           101,
           111,
           121,
           116,
           116,
           123,
           123,
           123,
           123,
           110
          ],
          "coloraxis": "coloraxis"
         },
         "type": "bar",
         "x": [
          "30/01/20",
          "31/01/20",
          "01/02/20",
          "02/02/20",
          "03/02/20",
          "04/02/20",
          "05/02/20",
          "06/02/20",
          "07/02/20",
          "08/02/20",
          "09/02/20",
          "10/02/20",
          "11/02/20",
          "12/02/20",
          "13/02/20",
          "14/02/20",
          "15/02/20",
          "16/02/20",
          "17/02/20",
          "18/02/20",
          "19/02/20",
          "20/02/20",
          "21/02/20",
          "22/02/20",
          "23/02/20",
          "24/02/20",
          "25/02/20",
          "26/02/20",
          "27/02/20",
          "28/02/20",
          "29/02/20",
          "01/03/20",
          "02/03/20",
          "03/03/20",
          "04/03/20",
          "05/03/20",
          "06/03/20",
          "07/03/20",
          "08/03/20",
          "09/03/20",
          "10/03/20",
          "11/03/20",
          "12/03/20",
          "13/03/20",
          "14/03/20",
          "15/03/20",
          "16/03/20",
          "17/03/20",
          "18/03/20",
          "19/03/20",
          "20/03/20",
          "21/03/20",
          "22/03/20",
          "23/03/20",
          "24/03/20",
          "25/03/20",
          "26/03/20",
          "27/03/20",
          "28/03/20",
          "29/03/20",
          "30/03/20",
          "31/03/20",
          "01/04/20",
          "02/04/20",
          "03/04/20",
          "04/04/20",
          "05/04/20",
          "06/04/20",
          "07/04/20",
          "08/04/20",
          "09/04/20",
          "10/04/20",
          "11/04/20",
          "12/04/20",
          "13/04/20",
          "14/04/20",
          "15/04/20",
          "16/04/20",
          "17/04/20",
          "18/04/20",
          "19/04/20",
          "20/04/20",
          "21/04/20",
          "22/04/20",
          "23/04/20",
          "24/04/20",
          "25/04/20",
          "26/04/20",
          "27/04/20",
          "28/04/20",
          "29/04/20",
          "30/04/20",
          "01/05/20"
         ],
         "xaxis": "x",
         "y": [
          2,
          2,
          4,
          6,
          6,
          6,
          6,
          6,
          6,
          6,
          6,
          6,
          6,
          6,
          6,
          6,
          6,
          6,
          6,
          6,
          6,
          6,
          6,
          6,
          6,
          6,
          6,
          6,
          6,
          6,
          6,
          6,
          6,
          3,
          3,
          3,
          3,
          3,
          13,
          15,
          27,
          31,
          31,
          35,
          35,
          41,
          43,
          49,
          51,
          51,
          53,
          77,
          101,
          131,
          186,
          214,
          230,
          263,
          341,
          166,
          182,
          214,
          216,
          238,
          257,
          252,
          255,
          257,
          267,
          264,
          260,
          259,
          239,
          230,
          194,
          178,
          173,
          167,
          147,
          138,
          140,
          129,
          114,
          101,
          111,
          121,
          116,
          116,
          123,
          123,
          123,
          123,
          110
         ],
         "yaxis": "y"
        },
        {
         "marker": {
          "color": [
           4,
           10,
           4,
           22,
           28,
           28,
           64,
           64,
           77,
           83,
           93,
           103,
           125,
           132,
           146,
           176,
           252,
           244,
           241,
           330,
           155,
           165,
           168,
           254,
           280,
           277,
           424,
           424,
           647,
           764,
           875,
           946,
           1142,
           1276,
           1426,
           1619,
           1948,
           2250,
           2437,
           2711,
           2791,
           3075,
           3473,
           3865,
           4248,
           4594,
           5307,
           5559,
           6229,
           6538,
           6939,
           7530,
           7890,
           8266
          ],
          "coloraxis": "coloraxis"
         },
         "type": "bar",
         "x": [
          "09/03/20",
          "10/03/20",
          "11/03/20",
          "12/03/20",
          "13/03/20",
          "14/03/20",
          "15/03/20",
          "16/03/20",
          "17/03/20",
          "18/03/20",
          "19/03/20",
          "20/03/20",
          "21/03/20",
          "22/03/20",
          "23/03/20",
          "24/03/20",
          "25/03/20",
          "26/03/20",
          "27/03/20",
          "28/03/20",
          "29/03/20",
          "30/03/20",
          "31/03/20",
          "01/04/20",
          "02/04/20",
          "03/04/20",
          "04/04/20",
          "05/04/20",
          "06/04/20",
          "07/04/20",
          "08/04/20",
          "09/04/20",
          "10/04/20",
          "11/04/20",
          "12/04/20",
          "13/04/20",
          "14/04/20",
          "15/04/20",
          "16/04/20",
          "17/04/20",
          "18/04/20",
          "19/04/20",
          "20/04/20",
          "21/04/20",
          "22/04/20",
          "23/04/20",
          "24/04/20",
          "25/04/20",
          "26/04/20",
          "27/04/20",
          "28/04/20",
          "29/04/20",
          "30/04/20",
          "01/05/20"
         ],
         "xaxis": "x2",
         "y": [
          4,
          10,
          4,
          22,
          28,
          28,
          64,
          64,
          77,
          83,
          93,
          103,
          125,
          132,
          146,
          176,
          252,
          244,
          241,
          330,
          155,
          165,
          168,
          254,
          280,
          277,
          424,
          424,
          647,
          764,
          875,
          946,
          1142,
          1276,
          1426,
          1619,
          1948,
          2250,
          2437,
          2711,
          2791,
          3075,
          3473,
          3865,
          4248,
          4594,
          5307,
          5559,
          6229,
          6538,
          6939,
          7530,
          7890,
          8266
         ],
         "yaxis": "y2"
        },
        {
         "marker": {
          "color": [
           2,
           2,
           4,
           6,
           8,
           14,
           17,
           17,
           19,
           19,
           29,
           17,
           21,
           24,
           28,
           44,
           57,
           63,
           67,
           67,
           75,
           81,
           82,
           95,
           105,
           110,
           116,
           147,
           169,
           182,
           194,
           222,
           236,
           261,
           307,
           335,
           362,
           396,
           450,
           488,
           524,
           568,
           584,
           612,
           623
          ],
          "coloraxis": "coloraxis"
         },
         "type": "bar",
         "x": [
          "18/03/20",
          "19/03/20",
          "20/03/20",
          "21/03/20",
          "22/03/20",
          "23/03/20",
          "24/03/20",
          "25/03/20",
          "26/03/20",
          "27/03/20",
          "28/03/20",
          "29/03/20",
          "30/03/20",
          "31/03/20",
          "01/04/20",
          "02/04/20",
          "03/04/20",
          "04/04/20",
          "05/04/20",
          "06/04/20",
          "07/04/20",
          "08/04/20",
          "09/04/20",
          "10/04/20",
          "11/04/20",
          "12/04/20",
          "13/04/20",
          "14/04/20",
          "15/04/20",
          "16/04/20",
          "17/04/20",
          "18/04/20",
          "19/04/20",
          "20/04/20",
          "21/04/20",
          "22/04/20",
          "23/04/20",
          "24/04/20",
          "25/04/20",
          "26/04/20",
          "27/04/20",
          "28/04/20",
          "29/04/20",
          "30/04/20",
          "01/05/20"
         ],
         "xaxis": "x3",
         "y": [
          2,
          2,
          4,
          6,
          8,
          14,
          17,
          17,
          19,
          19,
          29,
          17,
          21,
          24,
          28,
          44,
          57,
          63,
          67,
          67,
          75,
          81,
          82,
          95,
          105,
          110,
          116,
          147,
          169,
          182,
          194,
          222,
          236,
          261,
          307,
          335,
          362,
          396,
          450,
          488,
          524,
          568,
          584,
          612,
          623
         ],
         "yaxis": "y3"
        }
       ],
       "layout": {
        "annotations": [
         {
          "font": {
           "size": 16
          },
          "showarrow": false,
          "text": "Kerala",
          "x": 0.225,
          "xanchor": "center",
          "xref": "paper",
          "y": 1,
          "yanchor": "bottom",
          "yref": "paper"
         },
         {
          "font": {
           "size": 16
          },
          "showarrow": false,
          "text": "Maharashtra",
          "x": 0.775,
          "xanchor": "center",
          "xref": "paper",
          "y": 1,
          "yanchor": "bottom",
          "yref": "paper"
         },
         {
          "font": {
           "size": 16
          },
          "showarrow": false,
          "text": "West Bengal",
          "x": 0.5,
          "xanchor": "center",
          "xref": "paper",
          "y": 0.375,
          "yanchor": "bottom",
          "yref": "paper"
         }
        ],
        "coloraxis": {
         "colorscale": [
          [
           0,
           "rgb(255,0,0)"
          ],
          [
           1,
           "rgb(0,0,255)"
          ]
         ]
        },
        "plot_bgcolor": "rgb(230, 230, 230)",
        "showlegend": false,
        "template": {
         "data": {
          "bar": [
           {
            "error_x": {
             "color": "#2a3f5f"
            },
            "error_y": {
             "color": "#2a3f5f"
            },
            "marker": {
             "line": {
              "color": "#E5ECF6",
              "width": 0.5
             }
            },
            "type": "bar"
           }
          ],
          "barpolar": [
           {
            "marker": {
             "line": {
              "color": "#E5ECF6",
              "width": 0.5
             }
            },
            "type": "barpolar"
           }
          ],
          "carpet": [
           {
            "aaxis": {
             "endlinecolor": "#2a3f5f",
             "gridcolor": "white",
             "linecolor": "white",
             "minorgridcolor": "white",
             "startlinecolor": "#2a3f5f"
            },
            "baxis": {
             "endlinecolor": "#2a3f5f",
             "gridcolor": "white",
             "linecolor": "white",
             "minorgridcolor": "white",
             "startlinecolor": "#2a3f5f"
            },
            "type": "carpet"
           }
          ],
          "choropleth": [
           {
            "colorbar": {
             "outlinewidth": 0,
             "ticks": ""
            },
            "type": "choropleth"
           }
          ],
          "contour": [
           {
            "colorbar": {
             "outlinewidth": 0,
             "ticks": ""
            },
            "colorscale": [
             [
              0,
              "#0d0887"
             ],
             [
              0.1111111111111111,
              "#46039f"
             ],
             [
              0.2222222222222222,
              "#7201a8"
             ],
             [
              0.3333333333333333,
              "#9c179e"
             ],
             [
              0.4444444444444444,
              "#bd3786"
             ],
             [
              0.5555555555555556,
              "#d8576b"
             ],
             [
              0.6666666666666666,
              "#ed7953"
             ],
             [
              0.7777777777777778,
              "#fb9f3a"
             ],
             [
              0.8888888888888888,
              "#fdca26"
             ],
             [
              1,
              "#f0f921"
             ]
            ],
            "type": "contour"
           }
          ],
          "contourcarpet": [
           {
            "colorbar": {
             "outlinewidth": 0,
             "ticks": ""
            },
            "type": "contourcarpet"
           }
          ],
          "heatmap": [
           {
            "colorbar": {
             "outlinewidth": 0,
             "ticks": ""
            },
            "colorscale": [
             [
              0,
              "#0d0887"
             ],
             [
              0.1111111111111111,
              "#46039f"
             ],
             [
              0.2222222222222222,
              "#7201a8"
             ],
             [
              0.3333333333333333,
              "#9c179e"
             ],
             [
              0.4444444444444444,
              "#bd3786"
             ],
             [
              0.5555555555555556,
              "#d8576b"
             ],
             [
              0.6666666666666666,
              "#ed7953"
             ],
             [
              0.7777777777777778,
              "#fb9f3a"
             ],
             [
              0.8888888888888888,
              "#fdca26"
             ],
             [
              1,
              "#f0f921"
             ]
            ],
            "type": "heatmap"
           }
          ],
          "heatmapgl": [
           {
            "colorbar": {
             "outlinewidth": 0,
             "ticks": ""
            },
            "colorscale": [
             [
              0,
              "#0d0887"
             ],
             [
              0.1111111111111111,
              "#46039f"
             ],
             [
              0.2222222222222222,
              "#7201a8"
             ],
             [
              0.3333333333333333,
              "#9c179e"
             ],
             [
              0.4444444444444444,
              "#bd3786"
             ],
             [
              0.5555555555555556,
              "#d8576b"
             ],
             [
              0.6666666666666666,
              "#ed7953"
             ],
             [
              0.7777777777777778,
              "#fb9f3a"
             ],
             [
              0.8888888888888888,
              "#fdca26"
             ],
             [
              1,
              "#f0f921"
             ]
            ],
            "type": "heatmapgl"
           }
          ],
          "histogram": [
           {
            "marker": {
             "colorbar": {
              "outlinewidth": 0,
              "ticks": ""
             }
            },
            "type": "histogram"
           }
          ],
          "histogram2d": [
           {
            "colorbar": {
             "outlinewidth": 0,
             "ticks": ""
            },
            "colorscale": [
             [
              0,
              "#0d0887"
             ],
             [
              0.1111111111111111,
              "#46039f"
             ],
             [
              0.2222222222222222,
              "#7201a8"
             ],
             [
              0.3333333333333333,
              "#9c179e"
             ],
             [
              0.4444444444444444,
              "#bd3786"
             ],
             [
              0.5555555555555556,
              "#d8576b"
             ],
             [
              0.6666666666666666,
              "#ed7953"
             ],
             [
              0.7777777777777778,
              "#fb9f3a"
             ],
             [
              0.8888888888888888,
              "#fdca26"
             ],
             [
              1,
              "#f0f921"
             ]
            ],
            "type": "histogram2d"
           }
          ],
          "histogram2dcontour": [
           {
            "colorbar": {
             "outlinewidth": 0,
             "ticks": ""
            },
            "colorscale": [
             [
              0,
              "#0d0887"
             ],
             [
              0.1111111111111111,
              "#46039f"
             ],
             [
              0.2222222222222222,
              "#7201a8"
             ],
             [
              0.3333333333333333,
              "#9c179e"
             ],
             [
              0.4444444444444444,
              "#bd3786"
             ],
             [
              0.5555555555555556,
              "#d8576b"
             ],
             [
              0.6666666666666666,
              "#ed7953"
             ],
             [
              0.7777777777777778,
              "#fb9f3a"
             ],
             [
              0.8888888888888888,
              "#fdca26"
             ],
             [
              1,
              "#f0f921"
             ]
            ],
            "type": "histogram2dcontour"
           }
          ],
          "mesh3d": [
           {
            "colorbar": {
             "outlinewidth": 0,
             "ticks": ""
            },
            "type": "mesh3d"
           }
          ],
          "parcoords": [
           {
            "line": {
             "colorbar": {
              "outlinewidth": 0,
              "ticks": ""
             }
            },
            "type": "parcoords"
           }
          ],
          "pie": [
           {
            "automargin": true,
            "type": "pie"
           }
          ],
          "scatter": [
           {
            "marker": {
             "colorbar": {
              "outlinewidth": 0,
              "ticks": ""
             }
            },
            "type": "scatter"
           }
          ],
          "scatter3d": [
           {
            "line": {
             "colorbar": {
              "outlinewidth": 0,
              "ticks": ""
             }
            },
            "marker": {
             "colorbar": {
              "outlinewidth": 0,
              "ticks": ""
             }
            },
            "type": "scatter3d"
           }
          ],
          "scattercarpet": [
           {
            "marker": {
             "colorbar": {
              "outlinewidth": 0,
              "ticks": ""
             }
            },
            "type": "scattercarpet"
           }
          ],
          "scattergeo": [
           {
            "marker": {
             "colorbar": {
              "outlinewidth": 0,
              "ticks": ""
             }
            },
            "type": "scattergeo"
           }
          ],
          "scattergl": [
           {
            "marker": {
             "colorbar": {
              "outlinewidth": 0,
              "ticks": ""
             }
            },
            "type": "scattergl"
           }
          ],
          "scattermapbox": [
           {
            "marker": {
             "colorbar": {
              "outlinewidth": 0,
              "ticks": ""
             }
            },
            "type": "scattermapbox"
           }
          ],
          "scatterpolar": [
           {
            "marker": {
             "colorbar": {
              "outlinewidth": 0,
              "ticks": ""
             }
            },
            "type": "scatterpolar"
           }
          ],
          "scatterpolargl": [
           {
            "marker": {
             "colorbar": {
              "outlinewidth": 0,
              "ticks": ""
             }
            },
            "type": "scatterpolargl"
           }
          ],
          "scatterternary": [
           {
            "marker": {
             "colorbar": {
              "outlinewidth": 0,
              "ticks": ""
             }
            },
            "type": "scatterternary"
           }
          ],
          "surface": [
           {
            "colorbar": {
             "outlinewidth": 0,
             "ticks": ""
            },
            "colorscale": [
             [
              0,
              "#0d0887"
             ],
             [
              0.1111111111111111,
              "#46039f"
             ],
             [
              0.2222222222222222,
              "#7201a8"
             ],
             [
              0.3333333333333333,
              "#9c179e"
             ],
             [
              0.4444444444444444,
              "#bd3786"
             ],
             [
              0.5555555555555556,
              "#d8576b"
             ],
             [
              0.6666666666666666,
              "#ed7953"
             ],
             [
              0.7777777777777778,
              "#fb9f3a"
             ],
             [
              0.8888888888888888,
              "#fdca26"
             ],
             [
              1,
              "#f0f921"
             ]
            ],
            "type": "surface"
           }
          ],
          "table": [
           {
            "cells": {
             "fill": {
              "color": "#EBF0F8"
             },
             "line": {
              "color": "white"
             }
            },
            "header": {
             "fill": {
              "color": "#C8D4E3"
             },
             "line": {
              "color": "white"
             }
            },
            "type": "table"
           }
          ]
         },
         "layout": {
          "annotationdefaults": {
           "arrowcolor": "#2a3f5f",
           "arrowhead": 0,
           "arrowwidth": 1
          },
          "coloraxis": {
           "colorbar": {
            "outlinewidth": 0,
            "ticks": ""
           }
          },
          "colorscale": {
           "diverging": [
            [
             0,
             "#8e0152"
            ],
            [
             0.1,
             "#c51b7d"
            ],
            [
             0.2,
             "#de77ae"
            ],
            [
             0.3,
             "#f1b6da"
            ],
            [
             0.4,
             "#fde0ef"
            ],
            [
             0.5,
             "#f7f7f7"
            ],
            [
             0.6,
             "#e6f5d0"
            ],
            [
             0.7,
             "#b8e186"
            ],
            [
             0.8,
             "#7fbc41"
            ],
            [
             0.9,
             "#4d9221"
            ],
            [
             1,
             "#276419"
            ]
           ],
           "sequential": [
            [
             0,
             "#0d0887"
            ],
            [
             0.1111111111111111,
             "#46039f"
            ],
            [
             0.2222222222222222,
             "#7201a8"
            ],
            [
             0.3333333333333333,
             "#9c179e"
            ],
            [
             0.4444444444444444,
             "#bd3786"
            ],
            [
             0.5555555555555556,
             "#d8576b"
            ],
            [
             0.6666666666666666,
             "#ed7953"
            ],
            [
             0.7777777777777778,
             "#fb9f3a"
            ],
            [
             0.8888888888888888,
             "#fdca26"
            ],
            [
             1,
             "#f0f921"
            ]
           ],
           "sequentialminus": [
            [
             0,
             "#0d0887"
            ],
            [
             0.1111111111111111,
             "#46039f"
            ],
            [
             0.2222222222222222,
             "#7201a8"
            ],
            [
             0.3333333333333333,
             "#9c179e"
            ],
            [
             0.4444444444444444,
             "#bd3786"
            ],
            [
             0.5555555555555556,
             "#d8576b"
            ],
            [
             0.6666666666666666,
             "#ed7953"
            ],
            [
             0.7777777777777778,
             "#fb9f3a"
            ],
            [
             0.8888888888888888,
             "#fdca26"
            ],
            [
             1,
             "#f0f921"
            ]
           ]
          },
          "colorway": [
           "#636efa",
           "#EF553B",
           "#00cc96",
           "#ab63fa",
           "#FFA15A",
           "#19d3f3",
           "#FF6692",
           "#B6E880",
           "#FF97FF",
           "#FECB52"
          ],
          "font": {
           "color": "#2a3f5f"
          },
          "geo": {
           "bgcolor": "white",
           "lakecolor": "white",
           "landcolor": "#E5ECF6",
           "showlakes": true,
           "showland": true,
           "subunitcolor": "white"
          },
          "hoverlabel": {
           "align": "left"
          },
          "hovermode": "closest",
          "mapbox": {
           "style": "light"
          },
          "paper_bgcolor": "white",
          "plot_bgcolor": "#E5ECF6",
          "polar": {
           "angularaxis": {
            "gridcolor": "white",
            "linecolor": "white",
            "ticks": ""
           },
           "bgcolor": "#E5ECF6",
           "radialaxis": {
            "gridcolor": "white",
            "linecolor": "white",
            "ticks": ""
           }
          },
          "scene": {
           "xaxis": {
            "backgroundcolor": "#E5ECF6",
            "gridcolor": "white",
            "gridwidth": 2,
            "linecolor": "white",
            "showbackground": true,
            "ticks": "",
            "zerolinecolor": "white"
           },
           "yaxis": {
            "backgroundcolor": "#E5ECF6",
            "gridcolor": "white",
            "gridwidth": 2,
            "linecolor": "white",
            "showbackground": true,
            "ticks": "",
            "zerolinecolor": "white"
           },
           "zaxis": {
            "backgroundcolor": "#E5ECF6",
            "gridcolor": "white",
            "gridwidth": 2,
            "linecolor": "white",
            "showbackground": true,
            "ticks": "",
            "zerolinecolor": "white"
           }
          },
          "shapedefaults": {
           "line": {
            "color": "#2a3f5f"
           }
          },
          "ternary": {
           "aaxis": {
            "gridcolor": "white",
            "linecolor": "white",
            "ticks": ""
           },
           "baxis": {
            "gridcolor": "white",
            "linecolor": "white",
            "ticks": ""
           },
           "bgcolor": "#E5ECF6",
           "caxis": {
            "gridcolor": "white",
            "linecolor": "white",
            "ticks": ""
           }
          },
          "title": {
           "x": 0.05
          },
          "xaxis": {
           "automargin": true,
           "gridcolor": "white",
           "linecolor": "white",
           "ticks": "",
           "title": {
            "standoff": 15
           },
           "zerolinecolor": "white",
           "zerolinewidth": 2
          },
          "yaxis": {
           "automargin": true,
           "gridcolor": "white",
           "linecolor": "white",
           "ticks": "",
           "title": {
            "standoff": 15
           },
           "zerolinecolor": "white",
           "zerolinewidth": 2
          }
         }
        },
        "title": {
         "text": "Total Confirmed cases(Cumulative)"
        },
        "xaxis": {
         "anchor": "y",
         "domain": [
          0,
          0.45
         ]
        },
        "xaxis2": {
         "anchor": "y2",
         "domain": [
          0.55,
          1
         ]
        },
        "xaxis3": {
         "anchor": "y3",
         "domain": [
          0,
          1
         ]
        },
        "yaxis": {
         "anchor": "x",
         "domain": [
          0.625,
          1
         ]
        },
        "yaxis2": {
         "anchor": "x2",
         "domain": [
          0.625,
          1
         ]
        },
        "yaxis3": {
         "anchor": "x3",
         "domain": [
          0,
          0.375
         ]
        }
       }
      },
      "text/html": [
       "<div>\n",
       "        \n",
       "        \n",
       "            <div id=\"a7269bb5-6996-47b7-98f7-c4407078677c\" class=\"plotly-graph-div\" style=\"height:525px; width:100%;\"></div>\n",
       "            <script type=\"text/javascript\">\n",
       "                require([\"plotly\"], function(Plotly) {\n",
       "                    window.PLOTLYENV=window.PLOTLYENV || {};\n",
       "                    \n",
       "                if (document.getElementById(\"a7269bb5-6996-47b7-98f7-c4407078677c\")) {\n",
       "                    Plotly.newPlot(\n",
       "                        'a7269bb5-6996-47b7-98f7-c4407078677c',\n",
       "                        [{\"marker\": {\"color\": [2, 2, 4, 6, 6, 6, 6, 6, 6, 6, 6, 6, 6, 6, 6, 6, 6, 6, 6, 6, 6, 6, 6, 6, 6, 6, 6, 6, 6, 6, 6, 6, 6, 3, 3, 3, 3, 3, 13, 15, 27, 31, 31, 35, 35, 41, 43, 49, 51, 51, 53, 77, 101, 131, 186, 214, 230, 263, 341, 166, 182, 214, 216, 238, 257, 252, 255, 257, 267, 264, 260, 259, 239, 230, 194, 178, 173, 167, 147, 138, 140, 129, 114, 101, 111, 121, 116, 116, 123, 123, 123, 123, 110], \"coloraxis\": \"coloraxis\"}, \"type\": \"bar\", \"x\": [\"30/01/20\", \"31/01/20\", \"01/02/20\", \"02/02/20\", \"03/02/20\", \"04/02/20\", \"05/02/20\", \"06/02/20\", \"07/02/20\", \"08/02/20\", \"09/02/20\", \"10/02/20\", \"11/02/20\", \"12/02/20\", \"13/02/20\", \"14/02/20\", \"15/02/20\", \"16/02/20\", \"17/02/20\", \"18/02/20\", \"19/02/20\", \"20/02/20\", \"21/02/20\", \"22/02/20\", \"23/02/20\", \"24/02/20\", \"25/02/20\", \"26/02/20\", \"27/02/20\", \"28/02/20\", \"29/02/20\", \"01/03/20\", \"02/03/20\", \"03/03/20\", \"04/03/20\", \"05/03/20\", \"06/03/20\", \"07/03/20\", \"08/03/20\", \"09/03/20\", \"10/03/20\", \"11/03/20\", \"12/03/20\", \"13/03/20\", \"14/03/20\", \"15/03/20\", \"16/03/20\", \"17/03/20\", \"18/03/20\", \"19/03/20\", \"20/03/20\", \"21/03/20\", \"22/03/20\", \"23/03/20\", \"24/03/20\", \"25/03/20\", \"26/03/20\", \"27/03/20\", \"28/03/20\", \"29/03/20\", \"30/03/20\", \"31/03/20\", \"01/04/20\", \"02/04/20\", \"03/04/20\", \"04/04/20\", \"05/04/20\", \"06/04/20\", \"07/04/20\", \"08/04/20\", \"09/04/20\", \"10/04/20\", \"11/04/20\", \"12/04/20\", \"13/04/20\", \"14/04/20\", \"15/04/20\", \"16/04/20\", \"17/04/20\", \"18/04/20\", \"19/04/20\", \"20/04/20\", \"21/04/20\", \"22/04/20\", \"23/04/20\", \"24/04/20\", \"25/04/20\", \"26/04/20\", \"27/04/20\", \"28/04/20\", \"29/04/20\", \"30/04/20\", \"01/05/20\"], \"xaxis\": \"x\", \"y\": [2, 2, 4, 6, 6, 6, 6, 6, 6, 6, 6, 6, 6, 6, 6, 6, 6, 6, 6, 6, 6, 6, 6, 6, 6, 6, 6, 6, 6, 6, 6, 6, 6, 3, 3, 3, 3, 3, 13, 15, 27, 31, 31, 35, 35, 41, 43, 49, 51, 51, 53, 77, 101, 131, 186, 214, 230, 263, 341, 166, 182, 214, 216, 238, 257, 252, 255, 257, 267, 264, 260, 259, 239, 230, 194, 178, 173, 167, 147, 138, 140, 129, 114, 101, 111, 121, 116, 116, 123, 123, 123, 123, 110], \"yaxis\": \"y\"}, {\"marker\": {\"color\": [4, 10, 4, 22, 28, 28, 64, 64, 77, 83, 93, 103, 125, 132, 146, 176, 252, 244, 241, 330, 155, 165, 168, 254, 280, 277, 424, 424, 647, 764, 875, 946, 1142, 1276, 1426, 1619, 1948, 2250, 2437, 2711, 2791, 3075, 3473, 3865, 4248, 4594, 5307, 5559, 6229, 6538, 6939, 7530, 7890, 8266], \"coloraxis\": \"coloraxis\"}, \"type\": \"bar\", \"x\": [\"09/03/20\", \"10/03/20\", \"11/03/20\", \"12/03/20\", \"13/03/20\", \"14/03/20\", \"15/03/20\", \"16/03/20\", \"17/03/20\", \"18/03/20\", \"19/03/20\", \"20/03/20\", \"21/03/20\", \"22/03/20\", \"23/03/20\", \"24/03/20\", \"25/03/20\", \"26/03/20\", \"27/03/20\", \"28/03/20\", \"29/03/20\", \"30/03/20\", \"31/03/20\", \"01/04/20\", \"02/04/20\", \"03/04/20\", \"04/04/20\", \"05/04/20\", \"06/04/20\", \"07/04/20\", \"08/04/20\", \"09/04/20\", \"10/04/20\", \"11/04/20\", \"12/04/20\", \"13/04/20\", \"14/04/20\", \"15/04/20\", \"16/04/20\", \"17/04/20\", \"18/04/20\", \"19/04/20\", \"20/04/20\", \"21/04/20\", \"22/04/20\", \"23/04/20\", \"24/04/20\", \"25/04/20\", \"26/04/20\", \"27/04/20\", \"28/04/20\", \"29/04/20\", \"30/04/20\", \"01/05/20\"], \"xaxis\": \"x2\", \"y\": [4, 10, 4, 22, 28, 28, 64, 64, 77, 83, 93, 103, 125, 132, 146, 176, 252, 244, 241, 330, 155, 165, 168, 254, 280, 277, 424, 424, 647, 764, 875, 946, 1142, 1276, 1426, 1619, 1948, 2250, 2437, 2711, 2791, 3075, 3473, 3865, 4248, 4594, 5307, 5559, 6229, 6538, 6939, 7530, 7890, 8266], \"yaxis\": \"y2\"}, {\"marker\": {\"color\": [2, 2, 4, 6, 8, 14, 17, 17, 19, 19, 29, 17, 21, 24, 28, 44, 57, 63, 67, 67, 75, 81, 82, 95, 105, 110, 116, 147, 169, 182, 194, 222, 236, 261, 307, 335, 362, 396, 450, 488, 524, 568, 584, 612, 623], \"coloraxis\": \"coloraxis\"}, \"type\": \"bar\", \"x\": [\"18/03/20\", \"19/03/20\", \"20/03/20\", \"21/03/20\", \"22/03/20\", \"23/03/20\", \"24/03/20\", \"25/03/20\", \"26/03/20\", \"27/03/20\", \"28/03/20\", \"29/03/20\", \"30/03/20\", \"31/03/20\", \"01/04/20\", \"02/04/20\", \"03/04/20\", \"04/04/20\", \"05/04/20\", \"06/04/20\", \"07/04/20\", \"08/04/20\", \"09/04/20\", \"10/04/20\", \"11/04/20\", \"12/04/20\", \"13/04/20\", \"14/04/20\", \"15/04/20\", \"16/04/20\", \"17/04/20\", \"18/04/20\", \"19/04/20\", \"20/04/20\", \"21/04/20\", \"22/04/20\", \"23/04/20\", \"24/04/20\", \"25/04/20\", \"26/04/20\", \"27/04/20\", \"28/04/20\", \"29/04/20\", \"30/04/20\", \"01/05/20\"], \"xaxis\": \"x3\", \"y\": [2, 2, 4, 6, 8, 14, 17, 17, 19, 19, 29, 17, 21, 24, 28, 44, 57, 63, 67, 67, 75, 81, 82, 95, 105, 110, 116, 147, 169, 182, 194, 222, 236, 261, 307, 335, 362, 396, 450, 488, 524, 568, 584, 612, 623], \"yaxis\": \"y3\"}],\n",
       "                        {\"annotations\": [{\"font\": {\"size\": 16}, \"showarrow\": false, \"text\": \"Kerala\", \"x\": 0.225, \"xanchor\": \"center\", \"xref\": \"paper\", \"y\": 1.0, \"yanchor\": \"bottom\", \"yref\": \"paper\"}, {\"font\": {\"size\": 16}, \"showarrow\": false, \"text\": \"Maharashtra\", \"x\": 0.775, \"xanchor\": \"center\", \"xref\": \"paper\", \"y\": 1.0, \"yanchor\": \"bottom\", \"yref\": \"paper\"}, {\"font\": {\"size\": 16}, \"showarrow\": false, \"text\": \"West Bengal\", \"x\": 0.5, \"xanchor\": \"center\", \"xref\": \"paper\", \"y\": 0.375, \"yanchor\": \"bottom\", \"yref\": \"paper\"}], \"coloraxis\": {\"colorscale\": [[0.0, \"rgb(255,0,0)\"], [1.0, \"rgb(0,0,255)\"]]}, \"plot_bgcolor\": \"rgb(230, 230, 230)\", \"showlegend\": false, \"template\": {\"data\": {\"bar\": [{\"error_x\": {\"color\": \"#2a3f5f\"}, \"error_y\": {\"color\": \"#2a3f5f\"}, \"marker\": {\"line\": {\"color\": \"#E5ECF6\", \"width\": 0.5}}, \"type\": \"bar\"}], \"barpolar\": [{\"marker\": {\"line\": {\"color\": \"#E5ECF6\", \"width\": 0.5}}, \"type\": \"barpolar\"}], \"carpet\": [{\"aaxis\": {\"endlinecolor\": \"#2a3f5f\", \"gridcolor\": \"white\", \"linecolor\": \"white\", \"minorgridcolor\": \"white\", \"startlinecolor\": \"#2a3f5f\"}, \"baxis\": {\"endlinecolor\": \"#2a3f5f\", \"gridcolor\": \"white\", \"linecolor\": \"white\", \"minorgridcolor\": \"white\", \"startlinecolor\": \"#2a3f5f\"}, \"type\": \"carpet\"}], \"choropleth\": [{\"colorbar\": {\"outlinewidth\": 0, \"ticks\": \"\"}, \"type\": \"choropleth\"}], \"contour\": [{\"colorbar\": {\"outlinewidth\": 0, \"ticks\": \"\"}, \"colorscale\": [[0.0, \"#0d0887\"], [0.1111111111111111, \"#46039f\"], [0.2222222222222222, \"#7201a8\"], [0.3333333333333333, \"#9c179e\"], [0.4444444444444444, \"#bd3786\"], [0.5555555555555556, \"#d8576b\"], [0.6666666666666666, \"#ed7953\"], [0.7777777777777778, \"#fb9f3a\"], [0.8888888888888888, \"#fdca26\"], [1.0, \"#f0f921\"]], \"type\": \"contour\"}], \"contourcarpet\": [{\"colorbar\": {\"outlinewidth\": 0, \"ticks\": \"\"}, \"type\": \"contourcarpet\"}], \"heatmap\": [{\"colorbar\": {\"outlinewidth\": 0, \"ticks\": \"\"}, \"colorscale\": [[0.0, \"#0d0887\"], [0.1111111111111111, \"#46039f\"], [0.2222222222222222, \"#7201a8\"], [0.3333333333333333, \"#9c179e\"], [0.4444444444444444, \"#bd3786\"], [0.5555555555555556, \"#d8576b\"], [0.6666666666666666, \"#ed7953\"], [0.7777777777777778, \"#fb9f3a\"], [0.8888888888888888, \"#fdca26\"], [1.0, \"#f0f921\"]], \"type\": \"heatmap\"}], \"heatmapgl\": [{\"colorbar\": {\"outlinewidth\": 0, \"ticks\": \"\"}, \"colorscale\": [[0.0, \"#0d0887\"], [0.1111111111111111, \"#46039f\"], [0.2222222222222222, \"#7201a8\"], [0.3333333333333333, \"#9c179e\"], [0.4444444444444444, \"#bd3786\"], [0.5555555555555556, \"#d8576b\"], [0.6666666666666666, \"#ed7953\"], [0.7777777777777778, \"#fb9f3a\"], [0.8888888888888888, \"#fdca26\"], [1.0, \"#f0f921\"]], \"type\": \"heatmapgl\"}], \"histogram\": [{\"marker\": {\"colorbar\": {\"outlinewidth\": 0, \"ticks\": \"\"}}, \"type\": \"histogram\"}], \"histogram2d\": [{\"colorbar\": {\"outlinewidth\": 0, \"ticks\": \"\"}, \"colorscale\": [[0.0, \"#0d0887\"], [0.1111111111111111, \"#46039f\"], [0.2222222222222222, \"#7201a8\"], [0.3333333333333333, \"#9c179e\"], [0.4444444444444444, \"#bd3786\"], [0.5555555555555556, \"#d8576b\"], [0.6666666666666666, \"#ed7953\"], [0.7777777777777778, \"#fb9f3a\"], [0.8888888888888888, \"#fdca26\"], [1.0, \"#f0f921\"]], \"type\": \"histogram2d\"}], \"histogram2dcontour\": [{\"colorbar\": {\"outlinewidth\": 0, \"ticks\": \"\"}, \"colorscale\": [[0.0, \"#0d0887\"], [0.1111111111111111, \"#46039f\"], [0.2222222222222222, \"#7201a8\"], [0.3333333333333333, \"#9c179e\"], [0.4444444444444444, \"#bd3786\"], [0.5555555555555556, \"#d8576b\"], [0.6666666666666666, \"#ed7953\"], [0.7777777777777778, \"#fb9f3a\"], [0.8888888888888888, \"#fdca26\"], [1.0, \"#f0f921\"]], \"type\": \"histogram2dcontour\"}], \"mesh3d\": [{\"colorbar\": {\"outlinewidth\": 0, \"ticks\": \"\"}, \"type\": \"mesh3d\"}], \"parcoords\": [{\"line\": {\"colorbar\": {\"outlinewidth\": 0, \"ticks\": \"\"}}, \"type\": \"parcoords\"}], \"pie\": [{\"automargin\": true, \"type\": \"pie\"}], \"scatter\": [{\"marker\": {\"colorbar\": {\"outlinewidth\": 0, \"ticks\": \"\"}}, \"type\": \"scatter\"}], \"scatter3d\": [{\"line\": {\"colorbar\": {\"outlinewidth\": 0, \"ticks\": \"\"}}, \"marker\": {\"colorbar\": {\"outlinewidth\": 0, \"ticks\": \"\"}}, \"type\": \"scatter3d\"}], \"scattercarpet\": [{\"marker\": {\"colorbar\": {\"outlinewidth\": 0, \"ticks\": \"\"}}, \"type\": \"scattercarpet\"}], \"scattergeo\": [{\"marker\": {\"colorbar\": {\"outlinewidth\": 0, \"ticks\": \"\"}}, \"type\": \"scattergeo\"}], \"scattergl\": [{\"marker\": {\"colorbar\": {\"outlinewidth\": 0, \"ticks\": \"\"}}, \"type\": \"scattergl\"}], \"scattermapbox\": [{\"marker\": {\"colorbar\": {\"outlinewidth\": 0, \"ticks\": \"\"}}, \"type\": \"scattermapbox\"}], \"scatterpolar\": [{\"marker\": {\"colorbar\": {\"outlinewidth\": 0, \"ticks\": \"\"}}, \"type\": \"scatterpolar\"}], \"scatterpolargl\": [{\"marker\": {\"colorbar\": {\"outlinewidth\": 0, \"ticks\": \"\"}}, \"type\": \"scatterpolargl\"}], \"scatterternary\": [{\"marker\": {\"colorbar\": {\"outlinewidth\": 0, \"ticks\": \"\"}}, \"type\": \"scatterternary\"}], \"surface\": [{\"colorbar\": {\"outlinewidth\": 0, \"ticks\": \"\"}, \"colorscale\": [[0.0, \"#0d0887\"], [0.1111111111111111, \"#46039f\"], [0.2222222222222222, \"#7201a8\"], [0.3333333333333333, \"#9c179e\"], [0.4444444444444444, \"#bd3786\"], [0.5555555555555556, \"#d8576b\"], [0.6666666666666666, \"#ed7953\"], [0.7777777777777778, \"#fb9f3a\"], [0.8888888888888888, \"#fdca26\"], [1.0, \"#f0f921\"]], \"type\": \"surface\"}], \"table\": [{\"cells\": {\"fill\": {\"color\": \"#EBF0F8\"}, \"line\": {\"color\": \"white\"}}, \"header\": {\"fill\": {\"color\": \"#C8D4E3\"}, \"line\": {\"color\": \"white\"}}, \"type\": \"table\"}]}, \"layout\": {\"annotationdefaults\": {\"arrowcolor\": \"#2a3f5f\", \"arrowhead\": 0, \"arrowwidth\": 1}, \"coloraxis\": {\"colorbar\": {\"outlinewidth\": 0, \"ticks\": \"\"}}, \"colorscale\": {\"diverging\": [[0, \"#8e0152\"], [0.1, \"#c51b7d\"], [0.2, \"#de77ae\"], [0.3, \"#f1b6da\"], [0.4, \"#fde0ef\"], [0.5, \"#f7f7f7\"], [0.6, \"#e6f5d0\"], [0.7, \"#b8e186\"], [0.8, \"#7fbc41\"], [0.9, \"#4d9221\"], [1, \"#276419\"]], \"sequential\": [[0.0, \"#0d0887\"], [0.1111111111111111, \"#46039f\"], [0.2222222222222222, \"#7201a8\"], [0.3333333333333333, \"#9c179e\"], [0.4444444444444444, \"#bd3786\"], [0.5555555555555556, \"#d8576b\"], [0.6666666666666666, \"#ed7953\"], [0.7777777777777778, \"#fb9f3a\"], [0.8888888888888888, \"#fdca26\"], [1.0, \"#f0f921\"]], \"sequentialminus\": [[0.0, \"#0d0887\"], [0.1111111111111111, \"#46039f\"], [0.2222222222222222, \"#7201a8\"], [0.3333333333333333, \"#9c179e\"], [0.4444444444444444, \"#bd3786\"], [0.5555555555555556, \"#d8576b\"], [0.6666666666666666, \"#ed7953\"], [0.7777777777777778, \"#fb9f3a\"], [0.8888888888888888, \"#fdca26\"], [1.0, \"#f0f921\"]]}, \"colorway\": [\"#636efa\", \"#EF553B\", \"#00cc96\", \"#ab63fa\", \"#FFA15A\", \"#19d3f3\", \"#FF6692\", \"#B6E880\", \"#FF97FF\", \"#FECB52\"], \"font\": {\"color\": \"#2a3f5f\"}, \"geo\": {\"bgcolor\": \"white\", \"lakecolor\": \"white\", \"landcolor\": \"#E5ECF6\", \"showlakes\": true, \"showland\": true, \"subunitcolor\": \"white\"}, \"hoverlabel\": {\"align\": \"left\"}, \"hovermode\": \"closest\", \"mapbox\": {\"style\": \"light\"}, \"paper_bgcolor\": \"white\", \"plot_bgcolor\": \"#E5ECF6\", \"polar\": {\"angularaxis\": {\"gridcolor\": \"white\", \"linecolor\": \"white\", \"ticks\": \"\"}, \"bgcolor\": \"#E5ECF6\", \"radialaxis\": {\"gridcolor\": \"white\", \"linecolor\": \"white\", \"ticks\": \"\"}}, \"scene\": {\"xaxis\": {\"backgroundcolor\": \"#E5ECF6\", \"gridcolor\": \"white\", \"gridwidth\": 2, \"linecolor\": \"white\", \"showbackground\": true, \"ticks\": \"\", \"zerolinecolor\": \"white\"}, \"yaxis\": {\"backgroundcolor\": \"#E5ECF6\", \"gridcolor\": \"white\", \"gridwidth\": 2, \"linecolor\": \"white\", \"showbackground\": true, \"ticks\": \"\", \"zerolinecolor\": \"white\"}, \"zaxis\": {\"backgroundcolor\": \"#E5ECF6\", \"gridcolor\": \"white\", \"gridwidth\": 2, \"linecolor\": \"white\", \"showbackground\": true, \"ticks\": \"\", \"zerolinecolor\": \"white\"}}, \"shapedefaults\": {\"line\": {\"color\": \"#2a3f5f\"}}, \"ternary\": {\"aaxis\": {\"gridcolor\": \"white\", \"linecolor\": \"white\", \"ticks\": \"\"}, \"baxis\": {\"gridcolor\": \"white\", \"linecolor\": \"white\", \"ticks\": \"\"}, \"bgcolor\": \"#E5ECF6\", \"caxis\": {\"gridcolor\": \"white\", \"linecolor\": \"white\", \"ticks\": \"\"}}, \"title\": {\"x\": 0.05}, \"xaxis\": {\"automargin\": true, \"gridcolor\": \"white\", \"linecolor\": \"white\", \"ticks\": \"\", \"title\": {\"standoff\": 15}, \"zerolinecolor\": \"white\", \"zerolinewidth\": 2}, \"yaxis\": {\"automargin\": true, \"gridcolor\": \"white\", \"linecolor\": \"white\", \"ticks\": \"\", \"title\": {\"standoff\": 15}, \"zerolinecolor\": \"white\", \"zerolinewidth\": 2}}}, \"title\": {\"text\": \"Total Confirmed cases(Cumulative)\"}, \"xaxis\": {\"anchor\": \"y\", \"domain\": [0.0, 0.45]}, \"xaxis2\": {\"anchor\": \"y2\", \"domain\": [0.55, 1.0]}, \"xaxis3\": {\"anchor\": \"y3\", \"domain\": [0.0, 1.0]}, \"yaxis\": {\"anchor\": \"x\", \"domain\": [0.625, 1.0]}, \"yaxis2\": {\"anchor\": \"x2\", \"domain\": [0.625, 1.0]}, \"yaxis3\": {\"anchor\": \"x3\", \"domain\": [0.0, 0.375]}},\n",
       "                        {\"responsive\": true}\n",
       "                    ).then(function(){\n",
       "                            \n",
       "var gd = document.getElementById('a7269bb5-6996-47b7-98f7-c4407078677c');\n",
       "var x = new MutationObserver(function (mutations, observer) {{\n",
       "        var display = window.getComputedStyle(gd).display;\n",
       "        if (!display || display === 'none') {{\n",
       "            console.log([gd, 'removed!']);\n",
       "            Plotly.purge(gd);\n",
       "            observer.disconnect();\n",
       "        }}\n",
       "}});\n",
       "\n",
       "// Listen for the removal of the full notebook cells\n",
       "var notebookContainer = gd.closest('#notebook-container');\n",
       "if (notebookContainer) {{\n",
       "    x.observe(notebookContainer, {childList: true});\n",
       "}}\n",
       "\n",
       "// Listen for the clearing of the current output cell\n",
       "var outputEl = gd.closest('.output');\n",
       "if (outputEl) {{\n",
       "    x.observe(outputEl, {childList: true});\n",
       "}}\n",
       "\n",
       "                        })\n",
       "                };\n",
       "                });\n",
       "            </script>\n",
       "        </div>"
      ]
     },
     "metadata": {},
     "output_type": "display_data"
    }
   ],
   "source": [
    "from plotly.subplots import make_subplots\n",
    "\n",
    "fig = make_subplots(\n",
    "    rows=2, cols=2,\n",
    "    specs=[[{}, {}],\n",
    "           [{\"colspan\": 2}, None]],\n",
    "    subplot_titles=(\"Kerala\",\"Maharashtra\", \"West Bengal\"))\n",
    "\n",
    "fig.add_trace(go.Bar(x=kerala['Date'], y=kerala['Total Active'],\n",
    "                    marker=dict(color=kerala['Total Active'], coloraxis=\"coloraxis\")),1, 1)\n",
    "\n",
    "fig.add_trace(go.Bar(x=mh['Date'], y=mh['Total Active'],\n",
    "                    marker=dict(color=mh['Total Active'], coloraxis=\"coloraxis\")),1, 2)\n",
    "\n",
    "fig.add_trace(go.Bar(x=wb['Date'], y=wb['Total Active'],\n",
    "                    marker=dict(color=wb['Total Active'], coloraxis=\"coloraxis\")),2, 1)\n",
    "\n",
    "fig.update_layout(coloraxis=dict(colorscale='Bluered_r'), showlegend=False,title_text=\"Total Confirmed cases(Cumulative)\")\n",
    "\n",
    "fig.update_layout(plot_bgcolor='rgb(230, 230, 230)')\n",
    "fig.show()"
   ]
  },
  {
   "cell_type": "code",
   "execution_count": 47,
   "metadata": {},
   "outputs": [
    {
     "data": {
      "application/vnd.plotly.v1+json": {
       "config": {
        "plotlyServerURL": "https://plot.ly"
       },
       "data": [
        {
         "mode": "lines+markers",
         "name": "Total %  Covid-19 Cases Left in Kerala",
         "type": "scatter",
         "x": [
          "30/01/20",
          "31/01/20",
          "01/02/20",
          "02/02/20",
          "03/02/20",
          "04/02/20",
          "05/02/20",
          "06/02/20",
          "07/02/20",
          "08/02/20",
          "09/02/20",
          "10/02/20",
          "11/02/20",
          "12/02/20",
          "13/02/20",
          "14/02/20",
          "15/02/20",
          "16/02/20",
          "17/02/20",
          "18/02/20",
          "19/02/20",
          "20/02/20",
          "21/02/20",
          "22/02/20",
          "23/02/20",
          "24/02/20",
          "25/02/20",
          "26/02/20",
          "27/02/20",
          "28/02/20",
          "29/02/20",
          "01/03/20",
          "02/03/20",
          "03/03/20",
          "04/03/20",
          "05/03/20",
          "06/03/20",
          "07/03/20",
          "08/03/20",
          "09/03/20",
          "10/03/20",
          "11/03/20",
          "12/03/20",
          "13/03/20",
          "14/03/20",
          "15/03/20",
          "16/03/20",
          "17/03/20",
          "18/03/20",
          "19/03/20",
          "20/03/20",
          "21/03/20",
          "22/03/20",
          "23/03/20",
          "24/03/20",
          "25/03/20",
          "26/03/20",
          "27/03/20",
          "28/03/20",
          "29/03/20",
          "30/03/20",
          "31/03/20",
          "01/04/20",
          "02/04/20",
          "03/04/20",
          "04/04/20",
          "05/04/20",
          "06/04/20",
          "07/04/20",
          "08/04/20",
          "09/04/20",
          "10/04/20",
          "11/04/20",
          "12/04/20",
          "13/04/20",
          "14/04/20",
          "15/04/20",
          "16/04/20",
          "17/04/20",
          "18/04/20",
          "19/04/20",
          "20/04/20",
          "21/04/20",
          "22/04/20",
          "23/04/20",
          "24/04/20",
          "25/04/20",
          "26/04/20",
          "27/04/20",
          "28/04/20",
          "29/04/20",
          "30/04/20",
          "01/05/20"
         ],
         "y": [
          100,
          100,
          100,
          100,
          100,
          100,
          100,
          100,
          100,
          100,
          100,
          100,
          100,
          100,
          100,
          100,
          100,
          100,
          100,
          100,
          100,
          100,
          100,
          100,
          100,
          100,
          100,
          100,
          100,
          100,
          100,
          100,
          100,
          50,
          50,
          50,
          50,
          50,
          81.25,
          83.33333333333334,
          90,
          91.17647058823529,
          91.17647058823529,
          92.10526315789474,
          92.10526315789474,
          93.18181818181817,
          93.47826086956522,
          94.23076923076923,
          94.44444444444444,
          94.44444444444444,
          94.64285714285714,
          96.25,
          97.11538461538461,
          97.76119402985076,
          97.89473684210527,
          98.1651376146789,
          97.45762711864407,
          95.98540145985402,
          96.875,
          91.20879120879121,
          90.0990099009901,
          91.45299145299145,
          89.62655601659752,
          89.81132075471699,
          89.86013986013987,
          85.42372881355932,
          83.33333333333334,
          81.84713375796179,
          81.65137614678899,
          78.57142857142857,
          75.36231884057972,
          72.54901960784314,
          65.65934065934066,
          61.49732620320856,
          51.59574468085106,
          46.965699208443276,
          44.70284237726098,
          43.04123711340206,
          37.21518987341772,
          34.84848484848485,
          35,
          32.08955223880597,
          27.941176470588236,
          23.653395784543328,
          25.34246575342466,
          27.00892857142857,
          25.72062084257206,
          25.327510917030565,
          26.226012793176974,
          25.518672199170123,
          25.308641975308642,
          24.798387096774192,
          22.132796780684107
         ]
        },
        {
         "mode": "lines+markers",
         "name": "Total %  Covid-19 Cases Left in Maharashtra",
         "type": "scatter",
         "x": [
          "09/03/20",
          "10/03/20",
          "11/03/20",
          "12/03/20",
          "13/03/20",
          "14/03/20",
          "15/03/20",
          "16/03/20",
          "17/03/20",
          "18/03/20",
          "19/03/20",
          "20/03/20",
          "21/03/20",
          "22/03/20",
          "23/03/20",
          "24/03/20",
          "25/03/20",
          "26/03/20",
          "27/03/20",
          "28/03/20",
          "29/03/20",
          "30/03/20",
          "31/03/20",
          "01/04/20",
          "02/04/20",
          "03/04/20",
          "04/04/20",
          "05/04/20",
          "06/04/20",
          "07/04/20",
          "08/04/20",
          "09/04/20",
          "10/04/20",
          "11/04/20",
          "12/04/20",
          "13/04/20",
          "14/04/20",
          "15/04/20",
          "16/04/20",
          "17/04/20",
          "18/04/20",
          "19/04/20",
          "20/04/20",
          "21/04/20",
          "22/04/20",
          "23/04/20",
          "24/04/20",
          "25/04/20",
          "26/04/20",
          "27/04/20",
          "28/04/20",
          "29/04/20",
          "30/04/20",
          "01/05/20"
         ],
         "y": [
          100,
          100,
          100,
          100,
          100,
          100,
          100,
          100,
          98.71794871794873,
          98.80952380952381,
          98.93617021276596,
          99.03846153846155,
          99.20634920634922,
          98.50746268656717,
          98.64864864864865,
          98.87640449438202,
          98.4375,
          98.38709677419355,
          92.6923076923077,
          91.66666666666666,
          83.33333333333334,
          83.33333333333334,
          77.77777777777779,
          84.10596026490066,
          83.5820895522388,
          82.68656716417911,
          86.53061224489797,
          86.53061224489797,
          86.49732620320856,
          88.0184331797235,
          85.95284872298625,
          83.34801762114537,
          83.72434017595309,
          81.06734434561626,
          80.97671777399205,
          81.56171284634762,
          83.35472828412495,
          83.73650911797543,
          83.48749571771154,
          84.58658346333854,
          83.99037014745711,
          84.22350041084634,
          82.63145372353081,
          82.78003855215249,
          81.3637234246313,
          81.28096249115357,
          82.53499222395023,
          81.54613466334165,
          81.65967488201363,
          81.03619236489837,
          80.77997671711292,
          80.81133290405667,
          79.57639939485628,
          78.73880739188417
         ]
        },
        {
         "mode": "lines+markers",
         "name": "Total %  Covid-19 Cases Left in West Bengal",
         "type": "scatter",
         "x": [
          "18/03/20",
          "19/03/20",
          "20/03/20",
          "21/03/20",
          "22/03/20",
          "23/03/20",
          "24/03/20",
          "25/03/20",
          "26/03/20",
          "27/03/20",
          "28/03/20",
          "29/03/20",
          "30/03/20",
          "31/03/20",
          "01/04/20",
          "02/04/20",
          "03/04/20",
          "04/04/20",
          "05/04/20",
          "06/04/20",
          "07/04/20",
          "08/04/20",
          "09/04/20",
          "10/04/20",
          "11/04/20",
          "12/04/20",
          "13/04/20",
          "14/04/20",
          "15/04/20",
          "16/04/20",
          "17/04/20",
          "18/04/20",
          "19/04/20",
          "20/04/20",
          "21/04/20",
          "22/04/20",
          "23/04/20",
          "24/04/20",
          "25/04/20",
          "26/04/20",
          "27/04/20",
          "28/04/20",
          "29/04/20",
          "30/04/20",
          "01/05/20"
         ],
         "y": [
          100,
          100,
          100,
          100,
          100,
          100,
          94.44444444444444,
          94.44444444444444,
          95,
          95,
          96.66666666666667,
          94.44444444444444,
          95.45454545454545,
          92.3076923076923,
          75.67567567567568,
          83.01886792452831,
          90.47619047619048,
          91.30434782608695,
          83.75,
          83.75,
          82.41758241758241,
          81.81818181818183,
          79.6116504854369,
          81.89655172413794,
          83.33333333333334,
          82.08955223880598,
          76.31578947368422,
          77.36842105263158,
          79.34272300469483,
          78.78787878787878,
          76.07843137254902,
          77.35191637630662,
          76.12903225806451,
          76.99115044247787,
          78.31632653061224,
          79.19621749408984,
          79.3859649122807,
          77.04280155642024,
          78.80910683012259,
          79.86906710310966,
          80.73959938366718,
          81.49210903873745,
          80.55172413793103,
          80.73878627968337,
          78.36477987421384
         ]
        },
        {
         "mode": "lines+markers",
         "name": "Total %  Covid-19 Cases Left in Delhi(NCR)",
         "type": "scatter",
         "x": [
          "02/03/20",
          "03/03/20",
          "04/03/20",
          "05/03/20",
          "06/03/20",
          "07/03/20",
          "08/03/20",
          "09/03/20",
          "10/03/20",
          "11/03/20",
          "12/03/20",
          "13/03/20",
          "14/03/20",
          "15/03/20",
          "16/03/20",
          "17/03/20",
          "18/03/20",
          "19/03/20",
          "20/03/20",
          "21/03/20",
          "22/03/20",
          "23/03/20",
          "24/03/20",
          "25/03/20",
          "26/03/20",
          "27/03/20",
          "28/03/20",
          "29/03/20",
          "30/03/20",
          "31/03/20",
          "01/04/20",
          "02/04/20",
          "03/04/20",
          "04/04/20",
          "05/04/20",
          "06/04/20",
          "07/04/20",
          "08/04/20",
          "09/04/20",
          "10/04/20",
          "11/04/20",
          "12/04/20",
          "13/04/20",
          "14/04/20",
          "15/04/20",
          "16/04/20",
          "17/04/20",
          "18/04/20",
          "19/04/20",
          "20/04/20",
          "21/04/20",
          "22/04/20",
          "23/04/20",
          "24/04/20",
          "25/04/20",
          "26/04/20",
          "27/04/20",
          "28/04/20",
          "29/04/20",
          "30/04/20",
          "01/05/20"
         ],
         "y": [
          100,
          100,
          100,
          100,
          100,
          100,
          100,
          100,
          100,
          100,
          100,
          100,
          85.71428571428571,
          78.57142857142857,
          78.57142857142857,
          81.25,
          85,
          83.33333333333334,
          82.35294117647058,
          88.46153846153845,
          89.65517241379311,
          89.65517241379311,
          88.33333333333333,
          88.70967741935483,
          90.27777777777779,
          90.27777777777779,
          91.02564102564102,
          83.6734693877551,
          90.80459770114942,
          91.75257731958763,
          94.73684210526315,
          94.52054794520548,
          94.52054794520548,
          95.28089887640449,
          95.02982107355865,
          95.02868068833652,
          95.13888888888889,
          94.79166666666666,
          95.51569506726457,
          95.7683741648107,
          95.68106312292359,
          95.88400374181478,
          95.58058925476604,
          96.15894039735099,
          96.15631005765535,
          95.31051964512041,
          94.57317073170731,
          93.32161687170475,
          93.92498679344955,
          83.27508736894657,
          77.03027390677559,
          69.48051948051948,
          65.65836298932385,
          63.888888888888886,
          63.802704852824185,
          64.83809523809524,
          68.09458533241947,
          70.04504504504504,
          65.84188292094146,
          66.61820296597848,
          67.1977240398293
         ]
        }
       ],
       "layout": {
        "plot_bgcolor": "rgb(230, 230, 230)",
        "template": {
         "data": {
          "bar": [
           {
            "error_x": {
             "color": "#2a3f5f"
            },
            "error_y": {
             "color": "#2a3f5f"
            },
            "marker": {
             "line": {
              "color": "#E5ECF6",
              "width": 0.5
             }
            },
            "type": "bar"
           }
          ],
          "barpolar": [
           {
            "marker": {
             "line": {
              "color": "#E5ECF6",
              "width": 0.5
             }
            },
            "type": "barpolar"
           }
          ],
          "carpet": [
           {
            "aaxis": {
             "endlinecolor": "#2a3f5f",
             "gridcolor": "white",
             "linecolor": "white",
             "minorgridcolor": "white",
             "startlinecolor": "#2a3f5f"
            },
            "baxis": {
             "endlinecolor": "#2a3f5f",
             "gridcolor": "white",
             "linecolor": "white",
             "minorgridcolor": "white",
             "startlinecolor": "#2a3f5f"
            },
            "type": "carpet"
           }
          ],
          "choropleth": [
           {
            "colorbar": {
             "outlinewidth": 0,
             "ticks": ""
            },
            "type": "choropleth"
           }
          ],
          "contour": [
           {
            "colorbar": {
             "outlinewidth": 0,
             "ticks": ""
            },
            "colorscale": [
             [
              0,
              "#0d0887"
             ],
             [
              0.1111111111111111,
              "#46039f"
             ],
             [
              0.2222222222222222,
              "#7201a8"
             ],
             [
              0.3333333333333333,
              "#9c179e"
             ],
             [
              0.4444444444444444,
              "#bd3786"
             ],
             [
              0.5555555555555556,
              "#d8576b"
             ],
             [
              0.6666666666666666,
              "#ed7953"
             ],
             [
              0.7777777777777778,
              "#fb9f3a"
             ],
             [
              0.8888888888888888,
              "#fdca26"
             ],
             [
              1,
              "#f0f921"
             ]
            ],
            "type": "contour"
           }
          ],
          "contourcarpet": [
           {
            "colorbar": {
             "outlinewidth": 0,
             "ticks": ""
            },
            "type": "contourcarpet"
           }
          ],
          "heatmap": [
           {
            "colorbar": {
             "outlinewidth": 0,
             "ticks": ""
            },
            "colorscale": [
             [
              0,
              "#0d0887"
             ],
             [
              0.1111111111111111,
              "#46039f"
             ],
             [
              0.2222222222222222,
              "#7201a8"
             ],
             [
              0.3333333333333333,
              "#9c179e"
             ],
             [
              0.4444444444444444,
              "#bd3786"
             ],
             [
              0.5555555555555556,
              "#d8576b"
             ],
             [
              0.6666666666666666,
              "#ed7953"
             ],
             [
              0.7777777777777778,
              "#fb9f3a"
             ],
             [
              0.8888888888888888,
              "#fdca26"
             ],
             [
              1,
              "#f0f921"
             ]
            ],
            "type": "heatmap"
           }
          ],
          "heatmapgl": [
           {
            "colorbar": {
             "outlinewidth": 0,
             "ticks": ""
            },
            "colorscale": [
             [
              0,
              "#0d0887"
             ],
             [
              0.1111111111111111,
              "#46039f"
             ],
             [
              0.2222222222222222,
              "#7201a8"
             ],
             [
              0.3333333333333333,
              "#9c179e"
             ],
             [
              0.4444444444444444,
              "#bd3786"
             ],
             [
              0.5555555555555556,
              "#d8576b"
             ],
             [
              0.6666666666666666,
              "#ed7953"
             ],
             [
              0.7777777777777778,
              "#fb9f3a"
             ],
             [
              0.8888888888888888,
              "#fdca26"
             ],
             [
              1,
              "#f0f921"
             ]
            ],
            "type": "heatmapgl"
           }
          ],
          "histogram": [
           {
            "marker": {
             "colorbar": {
              "outlinewidth": 0,
              "ticks": ""
             }
            },
            "type": "histogram"
           }
          ],
          "histogram2d": [
           {
            "colorbar": {
             "outlinewidth": 0,
             "ticks": ""
            },
            "colorscale": [
             [
              0,
              "#0d0887"
             ],
             [
              0.1111111111111111,
              "#46039f"
             ],
             [
              0.2222222222222222,
              "#7201a8"
             ],
             [
              0.3333333333333333,
              "#9c179e"
             ],
             [
              0.4444444444444444,
              "#bd3786"
             ],
             [
              0.5555555555555556,
              "#d8576b"
             ],
             [
              0.6666666666666666,
              "#ed7953"
             ],
             [
              0.7777777777777778,
              "#fb9f3a"
             ],
             [
              0.8888888888888888,
              "#fdca26"
             ],
             [
              1,
              "#f0f921"
             ]
            ],
            "type": "histogram2d"
           }
          ],
          "histogram2dcontour": [
           {
            "colorbar": {
             "outlinewidth": 0,
             "ticks": ""
            },
            "colorscale": [
             [
              0,
              "#0d0887"
             ],
             [
              0.1111111111111111,
              "#46039f"
             ],
             [
              0.2222222222222222,
              "#7201a8"
             ],
             [
              0.3333333333333333,
              "#9c179e"
             ],
             [
              0.4444444444444444,
              "#bd3786"
             ],
             [
              0.5555555555555556,
              "#d8576b"
             ],
             [
              0.6666666666666666,
              "#ed7953"
             ],
             [
              0.7777777777777778,
              "#fb9f3a"
             ],
             [
              0.8888888888888888,
              "#fdca26"
             ],
             [
              1,
              "#f0f921"
             ]
            ],
            "type": "histogram2dcontour"
           }
          ],
          "mesh3d": [
           {
            "colorbar": {
             "outlinewidth": 0,
             "ticks": ""
            },
            "type": "mesh3d"
           }
          ],
          "parcoords": [
           {
            "line": {
             "colorbar": {
              "outlinewidth": 0,
              "ticks": ""
             }
            },
            "type": "parcoords"
           }
          ],
          "pie": [
           {
            "automargin": true,
            "type": "pie"
           }
          ],
          "scatter": [
           {
            "marker": {
             "colorbar": {
              "outlinewidth": 0,
              "ticks": ""
             }
            },
            "type": "scatter"
           }
          ],
          "scatter3d": [
           {
            "line": {
             "colorbar": {
              "outlinewidth": 0,
              "ticks": ""
             }
            },
            "marker": {
             "colorbar": {
              "outlinewidth": 0,
              "ticks": ""
             }
            },
            "type": "scatter3d"
           }
          ],
          "scattercarpet": [
           {
            "marker": {
             "colorbar": {
              "outlinewidth": 0,
              "ticks": ""
             }
            },
            "type": "scattercarpet"
           }
          ],
          "scattergeo": [
           {
            "marker": {
             "colorbar": {
              "outlinewidth": 0,
              "ticks": ""
             }
            },
            "type": "scattergeo"
           }
          ],
          "scattergl": [
           {
            "marker": {
             "colorbar": {
              "outlinewidth": 0,
              "ticks": ""
             }
            },
            "type": "scattergl"
           }
          ],
          "scattermapbox": [
           {
            "marker": {
             "colorbar": {
              "outlinewidth": 0,
              "ticks": ""
             }
            },
            "type": "scattermapbox"
           }
          ],
          "scatterpolar": [
           {
            "marker": {
             "colorbar": {
              "outlinewidth": 0,
              "ticks": ""
             }
            },
            "type": "scatterpolar"
           }
          ],
          "scatterpolargl": [
           {
            "marker": {
             "colorbar": {
              "outlinewidth": 0,
              "ticks": ""
             }
            },
            "type": "scatterpolargl"
           }
          ],
          "scatterternary": [
           {
            "marker": {
             "colorbar": {
              "outlinewidth": 0,
              "ticks": ""
             }
            },
            "type": "scatterternary"
           }
          ],
          "surface": [
           {
            "colorbar": {
             "outlinewidth": 0,
             "ticks": ""
            },
            "colorscale": [
             [
              0,
              "#0d0887"
             ],
             [
              0.1111111111111111,
              "#46039f"
             ],
             [
              0.2222222222222222,
              "#7201a8"
             ],
             [
              0.3333333333333333,
              "#9c179e"
             ],
             [
              0.4444444444444444,
              "#bd3786"
             ],
             [
              0.5555555555555556,
              "#d8576b"
             ],
             [
              0.6666666666666666,
              "#ed7953"
             ],
             [
              0.7777777777777778,
              "#fb9f3a"
             ],
             [
              0.8888888888888888,
              "#fdca26"
             ],
             [
              1,
              "#f0f921"
             ]
            ],
            "type": "surface"
           }
          ],
          "table": [
           {
            "cells": {
             "fill": {
              "color": "#EBF0F8"
             },
             "line": {
              "color": "white"
             }
            },
            "header": {
             "fill": {
              "color": "#C8D4E3"
             },
             "line": {
              "color": "white"
             }
            },
            "type": "table"
           }
          ]
         },
         "layout": {
          "annotationdefaults": {
           "arrowcolor": "#2a3f5f",
           "arrowhead": 0,
           "arrowwidth": 1
          },
          "coloraxis": {
           "colorbar": {
            "outlinewidth": 0,
            "ticks": ""
           }
          },
          "colorscale": {
           "diverging": [
            [
             0,
             "#8e0152"
            ],
            [
             0.1,
             "#c51b7d"
            ],
            [
             0.2,
             "#de77ae"
            ],
            [
             0.3,
             "#f1b6da"
            ],
            [
             0.4,
             "#fde0ef"
            ],
            [
             0.5,
             "#f7f7f7"
            ],
            [
             0.6,
             "#e6f5d0"
            ],
            [
             0.7,
             "#b8e186"
            ],
            [
             0.8,
             "#7fbc41"
            ],
            [
             0.9,
             "#4d9221"
            ],
            [
             1,
             "#276419"
            ]
           ],
           "sequential": [
            [
             0,
             "#0d0887"
            ],
            [
             0.1111111111111111,
             "#46039f"
            ],
            [
             0.2222222222222222,
             "#7201a8"
            ],
            [
             0.3333333333333333,
             "#9c179e"
            ],
            [
             0.4444444444444444,
             "#bd3786"
            ],
            [
             0.5555555555555556,
             "#d8576b"
            ],
            [
             0.6666666666666666,
             "#ed7953"
            ],
            [
             0.7777777777777778,
             "#fb9f3a"
            ],
            [
             0.8888888888888888,
             "#fdca26"
            ],
            [
             1,
             "#f0f921"
            ]
           ],
           "sequentialminus": [
            [
             0,
             "#0d0887"
            ],
            [
             0.1111111111111111,
             "#46039f"
            ],
            [
             0.2222222222222222,
             "#7201a8"
            ],
            [
             0.3333333333333333,
             "#9c179e"
            ],
            [
             0.4444444444444444,
             "#bd3786"
            ],
            [
             0.5555555555555556,
             "#d8576b"
            ],
            [
             0.6666666666666666,
             "#ed7953"
            ],
            [
             0.7777777777777778,
             "#fb9f3a"
            ],
            [
             0.8888888888888888,
             "#fdca26"
            ],
            [
             1,
             "#f0f921"
            ]
           ]
          },
          "colorway": [
           "#636efa",
           "#EF553B",
           "#00cc96",
           "#ab63fa",
           "#FFA15A",
           "#19d3f3",
           "#FF6692",
           "#B6E880",
           "#FF97FF",
           "#FECB52"
          ],
          "font": {
           "color": "#2a3f5f"
          },
          "geo": {
           "bgcolor": "white",
           "lakecolor": "white",
           "landcolor": "#E5ECF6",
           "showlakes": true,
           "showland": true,
           "subunitcolor": "white"
          },
          "hoverlabel": {
           "align": "left"
          },
          "hovermode": "closest",
          "mapbox": {
           "style": "light"
          },
          "paper_bgcolor": "white",
          "plot_bgcolor": "#E5ECF6",
          "polar": {
           "angularaxis": {
            "gridcolor": "white",
            "linecolor": "white",
            "ticks": ""
           },
           "bgcolor": "#E5ECF6",
           "radialaxis": {
            "gridcolor": "white",
            "linecolor": "white",
            "ticks": ""
           }
          },
          "scene": {
           "xaxis": {
            "backgroundcolor": "#E5ECF6",
            "gridcolor": "white",
            "gridwidth": 2,
            "linecolor": "white",
            "showbackground": true,
            "ticks": "",
            "zerolinecolor": "white"
           },
           "yaxis": {
            "backgroundcolor": "#E5ECF6",
            "gridcolor": "white",
            "gridwidth": 2,
            "linecolor": "white",
            "showbackground": true,
            "ticks": "",
            "zerolinecolor": "white"
           },
           "zaxis": {
            "backgroundcolor": "#E5ECF6",
            "gridcolor": "white",
            "gridwidth": 2,
            "linecolor": "white",
            "showbackground": true,
            "ticks": "",
            "zerolinecolor": "white"
           }
          },
          "shapedefaults": {
           "line": {
            "color": "#2a3f5f"
           }
          },
          "ternary": {
           "aaxis": {
            "gridcolor": "white",
            "linecolor": "white",
            "ticks": ""
           },
           "baxis": {
            "gridcolor": "white",
            "linecolor": "white",
            "ticks": ""
           },
           "bgcolor": "#E5ECF6",
           "caxis": {
            "gridcolor": "white",
            "linecolor": "white",
            "ticks": ""
           }
          },
          "title": {
           "x": 0.05
          },
          "xaxis": {
           "automargin": true,
           "gridcolor": "white",
           "linecolor": "white",
           "ticks": "",
           "title": {
            "standoff": 15
           },
           "zerolinecolor": "white",
           "zerolinewidth": 2
          },
          "yaxis": {
           "automargin": true,
           "gridcolor": "white",
           "linecolor": "white",
           "ticks": "",
           "title": {
            "standoff": 15
           },
           "zerolinecolor": "white",
           "zerolinewidth": 2
          }
         }
        },
        "title": {
         "text": "Total % Covid-19 Cases Left among 3 States & NCR (Cumulative cases)"
        }
       }
      },
      "text/html": [
       "<div>\n",
       "        \n",
       "        \n",
       "            <div id=\"72245d88-d6e7-4e6d-afac-e497d20bd090\" class=\"plotly-graph-div\" style=\"height:525px; width:100%;\"></div>\n",
       "            <script type=\"text/javascript\">\n",
       "                require([\"plotly\"], function(Plotly) {\n",
       "                    window.PLOTLYENV=window.PLOTLYENV || {};\n",
       "                    \n",
       "                if (document.getElementById(\"72245d88-d6e7-4e6d-afac-e497d20bd090\")) {\n",
       "                    Plotly.newPlot(\n",
       "                        '72245d88-d6e7-4e6d-afac-e497d20bd090',\n",
       "                        [{\"mode\": \"lines+markers\", \"name\": \"Total %  Covid-19 Cases Left in Kerala\", \"type\": \"scatter\", \"x\": [\"30/01/20\", \"31/01/20\", \"01/02/20\", \"02/02/20\", \"03/02/20\", \"04/02/20\", \"05/02/20\", \"06/02/20\", \"07/02/20\", \"08/02/20\", \"09/02/20\", \"10/02/20\", \"11/02/20\", \"12/02/20\", \"13/02/20\", \"14/02/20\", \"15/02/20\", \"16/02/20\", \"17/02/20\", \"18/02/20\", \"19/02/20\", \"20/02/20\", \"21/02/20\", \"22/02/20\", \"23/02/20\", \"24/02/20\", \"25/02/20\", \"26/02/20\", \"27/02/20\", \"28/02/20\", \"29/02/20\", \"01/03/20\", \"02/03/20\", \"03/03/20\", \"04/03/20\", \"05/03/20\", \"06/03/20\", \"07/03/20\", \"08/03/20\", \"09/03/20\", \"10/03/20\", \"11/03/20\", \"12/03/20\", \"13/03/20\", \"14/03/20\", \"15/03/20\", \"16/03/20\", \"17/03/20\", \"18/03/20\", \"19/03/20\", \"20/03/20\", \"21/03/20\", \"22/03/20\", \"23/03/20\", \"24/03/20\", \"25/03/20\", \"26/03/20\", \"27/03/20\", \"28/03/20\", \"29/03/20\", \"30/03/20\", \"31/03/20\", \"01/04/20\", \"02/04/20\", \"03/04/20\", \"04/04/20\", \"05/04/20\", \"06/04/20\", \"07/04/20\", \"08/04/20\", \"09/04/20\", \"10/04/20\", \"11/04/20\", \"12/04/20\", \"13/04/20\", \"14/04/20\", \"15/04/20\", \"16/04/20\", \"17/04/20\", \"18/04/20\", \"19/04/20\", \"20/04/20\", \"21/04/20\", \"22/04/20\", \"23/04/20\", \"24/04/20\", \"25/04/20\", \"26/04/20\", \"27/04/20\", \"28/04/20\", \"29/04/20\", \"30/04/20\", \"01/05/20\"], \"y\": [100.0, 100.0, 100.0, 100.0, 100.0, 100.0, 100.0, 100.0, 100.0, 100.0, 100.0, 100.0, 100.0, 100.0, 100.0, 100.0, 100.0, 100.0, 100.0, 100.0, 100.0, 100.0, 100.0, 100.0, 100.0, 100.0, 100.0, 100.0, 100.0, 100.0, 100.0, 100.0, 100.0, 50.0, 50.0, 50.0, 50.0, 50.0, 81.25, 83.33333333333334, 90.0, 91.17647058823529, 91.17647058823529, 92.10526315789474, 92.10526315789474, 93.18181818181817, 93.47826086956522, 94.23076923076923, 94.44444444444444, 94.44444444444444, 94.64285714285714, 96.25, 97.11538461538461, 97.76119402985076, 97.89473684210527, 98.1651376146789, 97.45762711864407, 95.98540145985402, 96.875, 91.20879120879121, 90.0990099009901, 91.45299145299145, 89.62655601659752, 89.81132075471699, 89.86013986013987, 85.42372881355932, 83.33333333333334, 81.84713375796179, 81.65137614678899, 78.57142857142857, 75.36231884057972, 72.54901960784314, 65.65934065934066, 61.49732620320856, 51.59574468085106, 46.965699208443276, 44.70284237726098, 43.04123711340206, 37.21518987341772, 34.84848484848485, 35.0, 32.08955223880597, 27.941176470588236, 23.653395784543328, 25.34246575342466, 27.00892857142857, 25.72062084257206, 25.327510917030565, 26.226012793176974, 25.518672199170123, 25.308641975308642, 24.798387096774192, 22.132796780684107]}, {\"mode\": \"lines+markers\", \"name\": \"Total %  Covid-19 Cases Left in Maharashtra\", \"type\": \"scatter\", \"x\": [\"09/03/20\", \"10/03/20\", \"11/03/20\", \"12/03/20\", \"13/03/20\", \"14/03/20\", \"15/03/20\", \"16/03/20\", \"17/03/20\", \"18/03/20\", \"19/03/20\", \"20/03/20\", \"21/03/20\", \"22/03/20\", \"23/03/20\", \"24/03/20\", \"25/03/20\", \"26/03/20\", \"27/03/20\", \"28/03/20\", \"29/03/20\", \"30/03/20\", \"31/03/20\", \"01/04/20\", \"02/04/20\", \"03/04/20\", \"04/04/20\", \"05/04/20\", \"06/04/20\", \"07/04/20\", \"08/04/20\", \"09/04/20\", \"10/04/20\", \"11/04/20\", \"12/04/20\", \"13/04/20\", \"14/04/20\", \"15/04/20\", \"16/04/20\", \"17/04/20\", \"18/04/20\", \"19/04/20\", \"20/04/20\", \"21/04/20\", \"22/04/20\", \"23/04/20\", \"24/04/20\", \"25/04/20\", \"26/04/20\", \"27/04/20\", \"28/04/20\", \"29/04/20\", \"30/04/20\", \"01/05/20\"], \"y\": [100.0, 100.0, 100.0, 100.0, 100.0, 100.0, 100.0, 100.0, 98.71794871794873, 98.80952380952381, 98.93617021276596, 99.03846153846155, 99.20634920634922, 98.50746268656717, 98.64864864864865, 98.87640449438202, 98.4375, 98.38709677419355, 92.6923076923077, 91.66666666666666, 83.33333333333334, 83.33333333333334, 77.77777777777779, 84.10596026490066, 83.5820895522388, 82.68656716417911, 86.53061224489797, 86.53061224489797, 86.49732620320856, 88.0184331797235, 85.95284872298625, 83.34801762114537, 83.72434017595309, 81.06734434561626, 80.97671777399205, 81.56171284634762, 83.35472828412495, 83.73650911797543, 83.48749571771154, 84.58658346333854, 83.99037014745711, 84.22350041084634, 82.63145372353081, 82.78003855215249, 81.3637234246313, 81.28096249115357, 82.53499222395023, 81.54613466334165, 81.65967488201363, 81.03619236489837, 80.77997671711292, 80.81133290405667, 79.57639939485628, 78.73880739188417]}, {\"mode\": \"lines+markers\", \"name\": \"Total %  Covid-19 Cases Left in West Bengal\", \"type\": \"scatter\", \"x\": [\"18/03/20\", \"19/03/20\", \"20/03/20\", \"21/03/20\", \"22/03/20\", \"23/03/20\", \"24/03/20\", \"25/03/20\", \"26/03/20\", \"27/03/20\", \"28/03/20\", \"29/03/20\", \"30/03/20\", \"31/03/20\", \"01/04/20\", \"02/04/20\", \"03/04/20\", \"04/04/20\", \"05/04/20\", \"06/04/20\", \"07/04/20\", \"08/04/20\", \"09/04/20\", \"10/04/20\", \"11/04/20\", \"12/04/20\", \"13/04/20\", \"14/04/20\", \"15/04/20\", \"16/04/20\", \"17/04/20\", \"18/04/20\", \"19/04/20\", \"20/04/20\", \"21/04/20\", \"22/04/20\", \"23/04/20\", \"24/04/20\", \"25/04/20\", \"26/04/20\", \"27/04/20\", \"28/04/20\", \"29/04/20\", \"30/04/20\", \"01/05/20\"], \"y\": [100.0, 100.0, 100.0, 100.0, 100.0, 100.0, 94.44444444444444, 94.44444444444444, 95.0, 95.0, 96.66666666666667, 94.44444444444444, 95.45454545454545, 92.3076923076923, 75.67567567567568, 83.01886792452831, 90.47619047619048, 91.30434782608695, 83.75, 83.75, 82.41758241758241, 81.81818181818183, 79.6116504854369, 81.89655172413794, 83.33333333333334, 82.08955223880598, 76.31578947368422, 77.36842105263158, 79.34272300469483, 78.78787878787878, 76.07843137254902, 77.35191637630662, 76.12903225806451, 76.99115044247787, 78.31632653061224, 79.19621749408984, 79.3859649122807, 77.04280155642024, 78.80910683012259, 79.86906710310966, 80.73959938366718, 81.49210903873745, 80.55172413793103, 80.73878627968337, 78.36477987421384]}, {\"mode\": \"lines+markers\", \"name\": \"Total %  Covid-19 Cases Left in Delhi(NCR)\", \"type\": \"scatter\", \"x\": [\"02/03/20\", \"03/03/20\", \"04/03/20\", \"05/03/20\", \"06/03/20\", \"07/03/20\", \"08/03/20\", \"09/03/20\", \"10/03/20\", \"11/03/20\", \"12/03/20\", \"13/03/20\", \"14/03/20\", \"15/03/20\", \"16/03/20\", \"17/03/20\", \"18/03/20\", \"19/03/20\", \"20/03/20\", \"21/03/20\", \"22/03/20\", \"23/03/20\", \"24/03/20\", \"25/03/20\", \"26/03/20\", \"27/03/20\", \"28/03/20\", \"29/03/20\", \"30/03/20\", \"31/03/20\", \"01/04/20\", \"02/04/20\", \"03/04/20\", \"04/04/20\", \"05/04/20\", \"06/04/20\", \"07/04/20\", \"08/04/20\", \"09/04/20\", \"10/04/20\", \"11/04/20\", \"12/04/20\", \"13/04/20\", \"14/04/20\", \"15/04/20\", \"16/04/20\", \"17/04/20\", \"18/04/20\", \"19/04/20\", \"20/04/20\", \"21/04/20\", \"22/04/20\", \"23/04/20\", \"24/04/20\", \"25/04/20\", \"26/04/20\", \"27/04/20\", \"28/04/20\", \"29/04/20\", \"30/04/20\", \"01/05/20\"], \"y\": [100.0, 100.0, 100.0, 100.0, 100.0, 100.0, 100.0, 100.0, 100.0, 100.0, 100.0, 100.0, 85.71428571428571, 78.57142857142857, 78.57142857142857, 81.25, 85.0, 83.33333333333334, 82.35294117647058, 88.46153846153845, 89.65517241379311, 89.65517241379311, 88.33333333333333, 88.70967741935483, 90.27777777777779, 90.27777777777779, 91.02564102564102, 83.6734693877551, 90.80459770114942, 91.75257731958763, 94.73684210526315, 94.52054794520548, 94.52054794520548, 95.28089887640449, 95.02982107355865, 95.02868068833652, 95.13888888888889, 94.79166666666666, 95.51569506726457, 95.7683741648107, 95.68106312292359, 95.88400374181478, 95.58058925476604, 96.15894039735099, 96.15631005765535, 95.31051964512041, 94.57317073170731, 93.32161687170475, 93.92498679344955, 83.27508736894657, 77.03027390677559, 69.48051948051948, 65.65836298932385, 63.888888888888886, 63.802704852824185, 64.83809523809524, 68.09458533241947, 70.04504504504504, 65.84188292094146, 66.61820296597848, 67.1977240398293]}],\n",
       "                        {\"plot_bgcolor\": \"rgb(230, 230, 230)\", \"template\": {\"data\": {\"bar\": [{\"error_x\": {\"color\": \"#2a3f5f\"}, \"error_y\": {\"color\": \"#2a3f5f\"}, \"marker\": {\"line\": {\"color\": \"#E5ECF6\", \"width\": 0.5}}, \"type\": \"bar\"}], \"barpolar\": [{\"marker\": {\"line\": {\"color\": \"#E5ECF6\", \"width\": 0.5}}, \"type\": \"barpolar\"}], \"carpet\": [{\"aaxis\": {\"endlinecolor\": \"#2a3f5f\", \"gridcolor\": \"white\", \"linecolor\": \"white\", \"minorgridcolor\": \"white\", \"startlinecolor\": \"#2a3f5f\"}, \"baxis\": {\"endlinecolor\": \"#2a3f5f\", \"gridcolor\": \"white\", \"linecolor\": \"white\", \"minorgridcolor\": \"white\", \"startlinecolor\": \"#2a3f5f\"}, \"type\": \"carpet\"}], \"choropleth\": [{\"colorbar\": {\"outlinewidth\": 0, \"ticks\": \"\"}, \"type\": \"choropleth\"}], \"contour\": [{\"colorbar\": {\"outlinewidth\": 0, \"ticks\": \"\"}, \"colorscale\": [[0.0, \"#0d0887\"], [0.1111111111111111, \"#46039f\"], [0.2222222222222222, \"#7201a8\"], [0.3333333333333333, \"#9c179e\"], [0.4444444444444444, \"#bd3786\"], [0.5555555555555556, \"#d8576b\"], [0.6666666666666666, \"#ed7953\"], [0.7777777777777778, \"#fb9f3a\"], [0.8888888888888888, \"#fdca26\"], [1.0, \"#f0f921\"]], \"type\": \"contour\"}], \"contourcarpet\": [{\"colorbar\": {\"outlinewidth\": 0, \"ticks\": \"\"}, \"type\": \"contourcarpet\"}], \"heatmap\": [{\"colorbar\": {\"outlinewidth\": 0, \"ticks\": \"\"}, \"colorscale\": [[0.0, \"#0d0887\"], [0.1111111111111111, \"#46039f\"], [0.2222222222222222, \"#7201a8\"], [0.3333333333333333, \"#9c179e\"], [0.4444444444444444, \"#bd3786\"], [0.5555555555555556, \"#d8576b\"], [0.6666666666666666, \"#ed7953\"], [0.7777777777777778, \"#fb9f3a\"], [0.8888888888888888, \"#fdca26\"], [1.0, \"#f0f921\"]], \"type\": \"heatmap\"}], \"heatmapgl\": [{\"colorbar\": {\"outlinewidth\": 0, \"ticks\": \"\"}, \"colorscale\": [[0.0, \"#0d0887\"], [0.1111111111111111, \"#46039f\"], [0.2222222222222222, \"#7201a8\"], [0.3333333333333333, \"#9c179e\"], [0.4444444444444444, \"#bd3786\"], [0.5555555555555556, \"#d8576b\"], [0.6666666666666666, \"#ed7953\"], [0.7777777777777778, \"#fb9f3a\"], [0.8888888888888888, \"#fdca26\"], [1.0, \"#f0f921\"]], \"type\": \"heatmapgl\"}], \"histogram\": [{\"marker\": {\"colorbar\": {\"outlinewidth\": 0, \"ticks\": \"\"}}, \"type\": \"histogram\"}], \"histogram2d\": [{\"colorbar\": {\"outlinewidth\": 0, \"ticks\": \"\"}, \"colorscale\": [[0.0, \"#0d0887\"], [0.1111111111111111, \"#46039f\"], [0.2222222222222222, \"#7201a8\"], [0.3333333333333333, \"#9c179e\"], [0.4444444444444444, \"#bd3786\"], [0.5555555555555556, \"#d8576b\"], [0.6666666666666666, \"#ed7953\"], [0.7777777777777778, \"#fb9f3a\"], [0.8888888888888888, \"#fdca26\"], [1.0, \"#f0f921\"]], \"type\": \"histogram2d\"}], \"histogram2dcontour\": [{\"colorbar\": {\"outlinewidth\": 0, \"ticks\": \"\"}, \"colorscale\": [[0.0, \"#0d0887\"], [0.1111111111111111, \"#46039f\"], [0.2222222222222222, \"#7201a8\"], [0.3333333333333333, \"#9c179e\"], [0.4444444444444444, \"#bd3786\"], [0.5555555555555556, \"#d8576b\"], [0.6666666666666666, \"#ed7953\"], [0.7777777777777778, \"#fb9f3a\"], [0.8888888888888888, \"#fdca26\"], [1.0, \"#f0f921\"]], \"type\": \"histogram2dcontour\"}], \"mesh3d\": [{\"colorbar\": {\"outlinewidth\": 0, \"ticks\": \"\"}, \"type\": \"mesh3d\"}], \"parcoords\": [{\"line\": {\"colorbar\": {\"outlinewidth\": 0, \"ticks\": \"\"}}, \"type\": \"parcoords\"}], \"pie\": [{\"automargin\": true, \"type\": \"pie\"}], \"scatter\": [{\"marker\": {\"colorbar\": {\"outlinewidth\": 0, \"ticks\": \"\"}}, \"type\": \"scatter\"}], \"scatter3d\": [{\"line\": {\"colorbar\": {\"outlinewidth\": 0, \"ticks\": \"\"}}, \"marker\": {\"colorbar\": {\"outlinewidth\": 0, \"ticks\": \"\"}}, \"type\": \"scatter3d\"}], \"scattercarpet\": [{\"marker\": {\"colorbar\": {\"outlinewidth\": 0, \"ticks\": \"\"}}, \"type\": \"scattercarpet\"}], \"scattergeo\": [{\"marker\": {\"colorbar\": {\"outlinewidth\": 0, \"ticks\": \"\"}}, \"type\": \"scattergeo\"}], \"scattergl\": [{\"marker\": {\"colorbar\": {\"outlinewidth\": 0, \"ticks\": \"\"}}, \"type\": \"scattergl\"}], \"scattermapbox\": [{\"marker\": {\"colorbar\": {\"outlinewidth\": 0, \"ticks\": \"\"}}, \"type\": \"scattermapbox\"}], \"scatterpolar\": [{\"marker\": {\"colorbar\": {\"outlinewidth\": 0, \"ticks\": \"\"}}, \"type\": \"scatterpolar\"}], \"scatterpolargl\": [{\"marker\": {\"colorbar\": {\"outlinewidth\": 0, \"ticks\": \"\"}}, \"type\": \"scatterpolargl\"}], \"scatterternary\": [{\"marker\": {\"colorbar\": {\"outlinewidth\": 0, \"ticks\": \"\"}}, \"type\": \"scatterternary\"}], \"surface\": [{\"colorbar\": {\"outlinewidth\": 0, \"ticks\": \"\"}, \"colorscale\": [[0.0, \"#0d0887\"], [0.1111111111111111, \"#46039f\"], [0.2222222222222222, \"#7201a8\"], [0.3333333333333333, \"#9c179e\"], [0.4444444444444444, \"#bd3786\"], [0.5555555555555556, \"#d8576b\"], [0.6666666666666666, \"#ed7953\"], [0.7777777777777778, \"#fb9f3a\"], [0.8888888888888888, \"#fdca26\"], [1.0, \"#f0f921\"]], \"type\": \"surface\"}], \"table\": [{\"cells\": {\"fill\": {\"color\": \"#EBF0F8\"}, \"line\": {\"color\": \"white\"}}, \"header\": {\"fill\": {\"color\": \"#C8D4E3\"}, \"line\": {\"color\": \"white\"}}, \"type\": \"table\"}]}, \"layout\": {\"annotationdefaults\": {\"arrowcolor\": \"#2a3f5f\", \"arrowhead\": 0, \"arrowwidth\": 1}, \"coloraxis\": {\"colorbar\": {\"outlinewidth\": 0, \"ticks\": \"\"}}, \"colorscale\": {\"diverging\": [[0, \"#8e0152\"], [0.1, \"#c51b7d\"], [0.2, \"#de77ae\"], [0.3, \"#f1b6da\"], [0.4, \"#fde0ef\"], [0.5, \"#f7f7f7\"], [0.6, \"#e6f5d0\"], [0.7, \"#b8e186\"], [0.8, \"#7fbc41\"], [0.9, \"#4d9221\"], [1, \"#276419\"]], \"sequential\": [[0.0, \"#0d0887\"], [0.1111111111111111, \"#46039f\"], [0.2222222222222222, \"#7201a8\"], [0.3333333333333333, \"#9c179e\"], [0.4444444444444444, \"#bd3786\"], [0.5555555555555556, \"#d8576b\"], [0.6666666666666666, \"#ed7953\"], [0.7777777777777778, \"#fb9f3a\"], [0.8888888888888888, \"#fdca26\"], [1.0, \"#f0f921\"]], \"sequentialminus\": [[0.0, \"#0d0887\"], [0.1111111111111111, \"#46039f\"], [0.2222222222222222, \"#7201a8\"], [0.3333333333333333, \"#9c179e\"], [0.4444444444444444, \"#bd3786\"], [0.5555555555555556, \"#d8576b\"], [0.6666666666666666, \"#ed7953\"], [0.7777777777777778, \"#fb9f3a\"], [0.8888888888888888, \"#fdca26\"], [1.0, \"#f0f921\"]]}, \"colorway\": [\"#636efa\", \"#EF553B\", \"#00cc96\", \"#ab63fa\", \"#FFA15A\", \"#19d3f3\", \"#FF6692\", \"#B6E880\", \"#FF97FF\", \"#FECB52\"], \"font\": {\"color\": \"#2a3f5f\"}, \"geo\": {\"bgcolor\": \"white\", \"lakecolor\": \"white\", \"landcolor\": \"#E5ECF6\", \"showlakes\": true, \"showland\": true, \"subunitcolor\": \"white\"}, \"hoverlabel\": {\"align\": \"left\"}, \"hovermode\": \"closest\", \"mapbox\": {\"style\": \"light\"}, \"paper_bgcolor\": \"white\", \"plot_bgcolor\": \"#E5ECF6\", \"polar\": {\"angularaxis\": {\"gridcolor\": \"white\", \"linecolor\": \"white\", \"ticks\": \"\"}, \"bgcolor\": \"#E5ECF6\", \"radialaxis\": {\"gridcolor\": \"white\", \"linecolor\": \"white\", \"ticks\": \"\"}}, \"scene\": {\"xaxis\": {\"backgroundcolor\": \"#E5ECF6\", \"gridcolor\": \"white\", \"gridwidth\": 2, \"linecolor\": \"white\", \"showbackground\": true, \"ticks\": \"\", \"zerolinecolor\": \"white\"}, \"yaxis\": {\"backgroundcolor\": \"#E5ECF6\", \"gridcolor\": \"white\", \"gridwidth\": 2, \"linecolor\": \"white\", \"showbackground\": true, \"ticks\": \"\", \"zerolinecolor\": \"white\"}, \"zaxis\": {\"backgroundcolor\": \"#E5ECF6\", \"gridcolor\": \"white\", \"gridwidth\": 2, \"linecolor\": \"white\", \"showbackground\": true, \"ticks\": \"\", \"zerolinecolor\": \"white\"}}, \"shapedefaults\": {\"line\": {\"color\": \"#2a3f5f\"}}, \"ternary\": {\"aaxis\": {\"gridcolor\": \"white\", \"linecolor\": \"white\", \"ticks\": \"\"}, \"baxis\": {\"gridcolor\": \"white\", \"linecolor\": \"white\", \"ticks\": \"\"}, \"bgcolor\": \"#E5ECF6\", \"caxis\": {\"gridcolor\": \"white\", \"linecolor\": \"white\", \"ticks\": \"\"}}, \"title\": {\"x\": 0.05}, \"xaxis\": {\"automargin\": true, \"gridcolor\": \"white\", \"linecolor\": \"white\", \"ticks\": \"\", \"title\": {\"standoff\": 15}, \"zerolinecolor\": \"white\", \"zerolinewidth\": 2}, \"yaxis\": {\"automargin\": true, \"gridcolor\": \"white\", \"linecolor\": \"white\", \"ticks\": \"\", \"title\": {\"standoff\": 15}, \"zerolinecolor\": \"white\", \"zerolinewidth\": 2}}}, \"title\": {\"text\": \"Total % Covid-19 Cases Left among 3 States & NCR (Cumulative cases)\"}},\n",
       "                        {\"responsive\": true}\n",
       "                    ).then(function(){\n",
       "                            \n",
       "var gd = document.getElementById('72245d88-d6e7-4e6d-afac-e497d20bd090');\n",
       "var x = new MutationObserver(function (mutations, observer) {{\n",
       "        var display = window.getComputedStyle(gd).display;\n",
       "        if (!display || display === 'none') {{\n",
       "            console.log([gd, 'removed!']);\n",
       "            Plotly.purge(gd);\n",
       "            observer.disconnect();\n",
       "        }}\n",
       "}});\n",
       "\n",
       "// Listen for the removal of the full notebook cells\n",
       "var notebookContainer = gd.closest('#notebook-container');\n",
       "if (notebookContainer) {{\n",
       "    x.observe(notebookContainer, {childList: true});\n",
       "}}\n",
       "\n",
       "// Listen for the clearing of the current output cell\n",
       "var outputEl = gd.closest('.output');\n",
       "if (outputEl) {{\n",
       "    x.observe(outputEl, {childList: true});\n",
       "}}\n",
       "\n",
       "                        })\n",
       "                };\n",
       "                });\n",
       "            </script>\n",
       "        </div>"
      ]
     },
     "metadata": {},
     "output_type": "display_data"
    }
   ],
   "source": [
    "fig = go.Figure()\n",
    "fig.add_trace(go.Scatter(x=kerala['Date'], y = (kerala['Total Active']/kerala['Total cases'])*100, mode='lines+markers',name='Total %  Covid-19 Cases Left in Kerala'))\n",
    "fig.add_trace(go.Scatter(x=mh['Date'], y =(mh['Total Active']/mh['Total cases'])*100, mode='lines+markers',name='Total %  Covid-19 Cases Left in Maharashtra'))\n",
    "fig.add_trace(go.Scatter(x=wb['Date'], y = (wb['Total Active']/wb['Total cases'])*100, mode='lines+markers',name='Total %  Covid-19 Cases Left in West Bengal'))\n",
    "fig.add_trace(go.Scatter(x=DL['Date'], y = (DL['Total Active']/DL['Total cases'])*100, mode='lines+markers',name='Total %  Covid-19 Cases Left in Delhi(NCR)'))\n",
    "\n",
    "fig.update_layout(title_text='Total % Covid-19 Cases Left among 3 States & NCR (Cumulative cases)',plot_bgcolor='rgb(230, 230, 230)')\n",
    "fig.show()"
   ]
  },
  {
   "cell_type": "code",
   "execution_count": null,
   "metadata": {},
   "outputs": [],
   "source": []
  }
 ],
 "metadata": {
  "kernelspec": {
   "display_name": "Python 3",
   "language": "python",
   "name": "python3"
  },
  "language_info": {
   "codemirror_mode": {
    "name": "ipython",
    "version": 3
   },
   "file_extension": ".py",
   "mimetype": "text/x-python",
   "name": "python",
   "nbconvert_exporter": "python",
   "pygments_lexer": "ipython3",
   "version": "3.7.7"
  }
 },
 "nbformat": 4,
 "nbformat_minor": 2
}
